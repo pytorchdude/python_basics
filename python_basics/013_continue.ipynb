{
 "cells": [
  {
   "cell_type": "code",
   "execution_count": 14,
   "id": "bf5c875c-41b0-4360-91f9-225ec1ea034d",
   "metadata": {
    "scrolled": true
   },
   "outputs": [
    {
     "name": "stdout",
     "output_type": "stream",
     "text": [
      "0\n",
      "2\n",
      "4\n",
      "6\n",
      "8\n"
     ]
    }
   ],
   "source": [
    "# continue\n",
    "for i in range(10):\n",
    "    if i%2==0:\n",
    "        print(i)"
   ]
  },
  {
   "cell_type": "code",
   "execution_count": 19,
   "id": "e64a102c-aa0b-4685-a766-2f00158578f1",
   "metadata": {},
   "outputs": [
    {
     "name": "stdout",
     "output_type": "stream",
     "text": [
      "1\n",
      "3\n",
      "5\n",
      "7\n",
      "9\n"
     ]
    }
   ],
   "source": [
    "# continue\n",
    "for i in range(10):\n",
    "    if i%2==0:\n",
    "        continue    # actually is not continue more like ignore or stop - will skip printing when modulus equals 0\n",
    "    print(i)"
   ]
  },
  {
   "cell_type": "code",
   "execution_count": 25,
   "id": "65edb1fe-c290-440c-9dac-037ebbb29d95",
   "metadata": {},
   "outputs": [
    {
     "name": "stdout",
     "output_type": "stream",
     "text": [
      "H\n",
      "l\n",
      "l\n",
      ",\n",
      " \n",
      "m\n",
      "y\n",
      " \n",
      "N\n",
      "m\n",
      " \n",
      "s\n",
      " \n",
      "P\n",
      "y\n",
      "T\n",
      "r\n",
      "c\n",
      "h\n"
     ]
    }
   ],
   "source": [
    "text = 'HellO, my Name is PyTorch'\n",
    "\n",
    "for i in text:\n",
    "    if i.lower() in 'aeiou':  # we add .lower() to catch any uppercase letters\n",
    "        continue    # using continue will not priunt any vowels - we can isolate just consonents\n",
    "    print(i)"
   ]
  },
  {
   "cell_type": "code",
   "execution_count": 26,
   "id": "81f63ed0-83e4-4b26-9c5b-38911eb6bb2a",
   "metadata": {},
   "outputs": [
    {
     "name": "stdout",
     "output_type": "stream",
     "text": [
      "e\n",
      "O\n",
      "a\n",
      "e\n",
      "i\n",
      "o\n"
     ]
    }
   ],
   "source": [
    "text = 'HellO, my Name is PyTorch'\n",
    "\n",
    "for i in text:\n",
    "    if i.lower() in 'aeiou':\n",
    "        print(i)"
   ]
  },
  {
   "cell_type": "code",
   "execution_count": null,
   "id": "060cda3f-bdf5-4589-8d1a-15418d702140",
   "metadata": {},
   "outputs": [],
   "source": []
  }
 ],
 "metadata": {
  "kernelspec": {
   "display_name": "Python 3 (ipykernel)",
   "language": "python",
   "name": "python3"
  },
  "language_info": {
   "codemirror_mode": {
    "name": "ipython",
    "version": 3
   },
   "file_extension": ".py",
   "mimetype": "text/x-python",
   "name": "python",
   "nbconvert_exporter": "python",
   "pygments_lexer": "ipython3",
   "version": "3.12.10"
  }
 },
 "nbformat": 4,
 "nbformat_minor": 5
}
