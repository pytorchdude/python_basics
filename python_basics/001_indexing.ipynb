{
 "cells": [
  {
   "cell_type": "code",
   "execution_count": 2,
   "id": "542a1c9a-3361-47b9-9914-ee9731817275",
   "metadata": {},
   "outputs": [
    {
     "data": {
      "text/plain": [
       "0.005"
      ]
     },
     "execution_count": 2,
     "metadata": {},
     "output_type": "execute_result"
    }
   ],
   "source": [
    "# indexing -- access elements inn tuples, lists, dictionaries, etc... ordered collections\n",
    "aList = [ 4,309,3.14, 'qwerty', .005, 24990.1, 'dude' ]   # lets extract/access element/index 4 - .005\n",
    "#         0, 1 , 2  ,    3    ,  4  ,   5    ,   6\n",
    "aList[ 4 ] # must be an integers not floats can't have fractional index\n"
   ]
  },
  {
   "cell_type": "code",
   "execution_count": 4,
   "id": "0f2aae7a-8f4b-4a8c-b0b6-400a1eb18ac6",
   "metadata": {},
   "outputs": [
    {
     "data": {
      "text/plain": [
       "'dude'"
      ]
     },
     "execution_count": 4,
     "metadata": {},
     "output_type": "execute_result"
    }
   ],
   "source": [
    "# indexing -- access elements inn tuples, lists, dictionaries, etc... ordered collections\n",
    "bList = [ 4,309,3.14, 'qwerty', .005, 24990.1, 'dude' ]   # lets extract/access element/index 4 - .005\n",
    "#         0, 1 , 2  ,    3    ,  4  ,   5    ,   6\n",
    "bList[ 4 ] # must be an integers not floats can't have fractional index\n",
    "# let's get the final index element\n",
    "bList [ -1 ] # wraps around to the end position regardless of list length"
   ]
  },
  {
   "cell_type": "code",
   "execution_count": 7,
   "id": "e3b58d8f-e680-45f2-a35c-04e3fa4852ca",
   "metadata": {},
   "outputs": [
    {
     "data": {
      "text/plain": [
       "4"
      ]
     },
     "execution_count": 7,
     "metadata": {},
     "output_type": "execute_result"
    }
   ],
   "source": [
    "cList = [ 1,2,3,4,5,6,7 ]\n",
    "\n",
    "idx = 3\n",
    "cList[idx]"
   ]
  },
  {
   "cell_type": "code",
   "execution_count": 15,
   "id": "c20fc8d3-7c32-4aa7-96a6-08c01b122d3d",
   "metadata": {},
   "outputs": [
    {
     "data": {
      "text/plain": [
       "10"
      ]
     },
     "execution_count": 15,
     "metadata": {},
     "output_type": "execute_result"
    }
   ],
   "source": [
    "# what if we want to access a nested list?\n",
    "\n",
    "dList = [ 1,2,3,[ 11,10,9,8 ],5,6,7 ]\n",
    "\n",
    "dList[3][1]\n"
   ]
  },
  {
   "cell_type": "code",
   "execution_count": 16,
   "id": "3c32f1be-26eb-4aea-aaf9-ef09169bf392",
   "metadata": {},
   "outputs": [
    {
     "data": {
      "text/plain": [
       "'cute'"
      ]
     },
     "execution_count": 16,
     "metadata": {},
     "output_type": "execute_result"
    }
   ],
   "source": [
    "# lets's get attribute cute from the dictionary\n",
    "listList = [ 4, 'yo', [ 2,3,4,5 ], 'dude', {'rats':'cute','cats':'weirdos'} ]\n",
    "\n",
    "listList[ 4 ]['rats']"
   ]
  },
  {
   "cell_type": "code",
   "execution_count": null,
   "id": "a773466c-a058-49c6-b86a-100f8cdcc3d8",
   "metadata": {},
   "outputs": [],
   "source": []
  }
 ],
 "metadata": {
  "kernelspec": {
   "display_name": "Python 3 (ipykernel)",
   "language": "python",
   "name": "python3"
  },
  "language_info": {
   "codemirror_mode": {
    "name": "ipython",
    "version": 3
   },
   "file_extension": ".py",
   "mimetype": "text/x-python",
   "name": "python",
   "nbconvert_exporter": "python",
   "pygments_lexer": "ipython3",
   "version": "3.12.10"
  }
 },
 "nbformat": 4,
 "nbformat_minor": 5
}
