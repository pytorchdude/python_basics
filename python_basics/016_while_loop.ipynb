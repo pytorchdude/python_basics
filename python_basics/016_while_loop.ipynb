{
 "cells": [
  {
   "cell_type": "code",
   "execution_count": 12,
   "id": "7d4de7ae-b966-4317-89e4-f0a408d10245",
   "metadata": {},
   "outputs": [],
   "source": [
    "# while loops\n",
    "import numpy as np"
   ]
  },
  {
   "cell_type": "code",
   "execution_count": 13,
   "id": "a2794739-5b2f-4342-b1dd-50d90daebcbb",
   "metadata": {},
   "outputs": [
    {
     "name": "stdout",
     "output_type": "stream",
     "text": [
      "0\n",
      "1\n",
      "2\n",
      "3\n",
      "4\n",
      "5\n",
      "6\n",
      "7\n"
     ]
    }
   ],
   "source": [
    "toggle = True\n",
    "i = 0\n",
    "\n",
    "while toggle:           # while all tis block is True - iterate i + 1\n",
    "    print(i)            # will print 0-7 if we swap lines with i += 1 we will get 1-8 here valuie of i = 0\n",
    "    i += 1              # same thing as i+1 can use -= too\n",
    "\n",
    "    if i==8:            # stop since i = 8 - now we toggle/switch to False -- we stop printing\n",
    "        toggle = False"
   ]
  },
  {
   "cell_type": "code",
   "execution_count": 14,
   "id": "528e6499-eca3-4827-a569-15a7093e040b",
   "metadata": {},
   "outputs": [
    {
     "name": "stdout",
     "output_type": "stream",
     "text": [
      "1\n",
      "2\n",
      "3\n",
      "4\n",
      "5\n",
      "6\n",
      "7\n",
      "8\n"
     ]
    }
   ],
   "source": [
    "toggle = True\n",
    "i = 0\n",
    "\n",
    "while toggle:           # while all tis block is True - iterate i + 1             \n",
    "    i += 1              # where we iterate makes a difference -- here i+1 = 1\n",
    "    print(i)\n",
    "    \n",
    "    if i==8:            \n",
    "        toggle = False"
   ]
  },
  {
   "cell_type": "code",
   "execution_count": null,
   "id": "3f520d1a-4a0e-4a47-82fb-bd0e2cd05ec1",
   "metadata": {},
   "outputs": [],
   "source": [
    "toggle = True\n",
    "i = 0\n",
    "\n",
    "while toggle:                    \n",
    "                  \n",
    "    print(i)\n",
    "    \n",
    "    if i==8:\n",
    "    #   i += 1           # this will nver reach reach i==8 -- will throw infinite loop -- be careful\n",
    "        toggle = False"
   ]
  },
  {
   "cell_type": "code",
   "execution_count": 15,
   "id": "90595d3d-a265-4007-b638-662774d86877",
   "metadata": {},
   "outputs": [
    {
     "name": "stdout",
     "output_type": "stream",
     "text": [
      "0\n",
      "1\n",
      "2\n",
      "3\n",
      "4\n",
      "5\n",
      "6\n",
      "7\n"
     ]
    }
   ],
   "source": [
    "i = 0\n",
    "\n",
    "while True:\n",
    "    print(i)\n",
    "    i += 1\n",
    "    if i==8:\n",
    "        break    # may think an infinite loop -- but we use break will auto stop the code\n",
    "        # more code will not run"
   ]
  },
  {
   "cell_type": "code",
   "execution_count": 16,
   "id": "dd2c8d63-137e-4d33-8a76-17ba4f64d3cc",
   "metadata": {},
   "outputs": [
    {
     "name": "stdout",
     "output_type": "stream",
     "text": [
      "0\n",
      "1\n",
      "2\n",
      "3\n",
      "4\n",
      "5\n",
      "6\n",
      "7\n"
     ]
    }
   ],
   "source": [
    "i = 0\n",
    "\n",
    "while i<8:    # test condition for boolean\n",
    "    print(i)\n",
    "    i += 1"
   ]
  },
  {
   "cell_type": "code",
   "execution_count": 7,
   "id": "ec0b686c-e86f-4a58-9b34-1506ddf03883",
   "metadata": {},
   "outputs": [],
   "source": [
    "# for loop - prefer when you know in advance the number of iterations to use\n",
    "\n",
    "# while loop -- when you don't know the number of iterations needed"
   ]
  },
  {
   "cell_type": "code",
   "execution_count": 9,
   "id": "5f226d1a-6b6b-4499-a3db-871079c7048d",
   "metadata": {},
   "outputs": [],
   "source": [
    "# 1 lets' Poisson counter -- generate random integers -- counts number of times from #1 to set number target\n",
    "# 2 specify target as such: exp(-lambda)  | np.exp(-lambda) -> 10\n",
    "# 3 intitialize counter=0, currval=1\n",
    "# 4 multiply currval by a random number U[0,1]  - uniform distribution where smallest number is 0 and largest is 1\n",
    "# 5 repeat until currval is smaller than target --  return number of times iterated multiply by random number U[0,1]\n",
    "# 6 write a function that implements steps 2 -5 "
   ]
  },
  {
   "cell_type": "code",
   "execution_count": 19,
   "id": "5a5b7142-42a6-46a3-ad17-97b6d71447cd",
   "metadata": {},
   "outputs": [],
   "source": [
    "def poissonCounter(lam):\n",
    "    # initialize the counter\n",
    "    counter,currval = 0,1\n",
    "    target = np.exp(-lam)\n",
    "    \n",
    "    #implement the alogorithm\n",
    "    while currval > target:\n",
    "        counter += 1\n",
    "        currval *= np.random.rand()   # no N  -- needs uniform distribution\n",
    "        \n",
    "    return counter"
   ]
  },
  {
   "cell_type": "code",
   "execution_count": 24,
   "id": "c7a326f2-a2e5-4749-9c54-ce27db7b758d",
   "metadata": {},
   "outputs": [
    {
     "data": {
      "text/plain": [
       "19"
      ]
     },
     "execution_count": 24,
     "metadata": {},
     "output_type": "execute_result"
    }
   ],
   "source": [
    "poissonCounter(20) # result will vary "
   ]
  }
 ],
 "metadata": {
  "kernelspec": {
   "display_name": "Python 3 (ipykernel)",
   "language": "python",
   "name": "python3"
  },
  "language_info": {
   "codemirror_mode": {
    "name": "ipython",
    "version": 3
   },
   "file_extension": ".py",
   "mimetype": "text/x-python",
   "name": "python",
   "nbconvert_exporter": "python",
   "pygments_lexer": "ipython3",
   "version": "3.12.10"
  }
 },
 "nbformat": 4,
 "nbformat_minor": 5
}
