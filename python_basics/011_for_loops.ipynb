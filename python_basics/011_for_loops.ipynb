{
 "cells": [
  {
   "cell_type": "code",
   "execution_count": 4,
   "id": "6ab3cea6-087c-4005-aad5-b84ca66af66b",
   "metadata": {},
   "outputs": [
    {
     "name": "stdout",
     "output_type": "stream",
     "text": [
      "0\n",
      "1\n",
      "2\n",
      "3\n",
      "4\n",
      "5\n"
     ]
    }
   ],
   "source": [
    "# for loops with looping index variable i replacing its value starting\n",
    "# from 0 to 6 places ending with the value of 5\n",
    "import numpy as np\n",
    "\n",
    "for i in range(6):\n",
    "    print(i)"
   ]
  },
  {
   "cell_type": "code",
   "execution_count": 5,
   "id": "4edb1c4d-3d8e-434e-941c-c6f311a9ee5c",
   "metadata": {},
   "outputs": [
    {
     "name": "stdout",
     "output_type": "stream",
     "text": [
      "4\n",
      "5\n",
      "6\n",
      "7\n",
      "8\n",
      "9\n",
      "10\n"
     ]
    }
   ],
   "source": [
    "for i in range(4,11):\n",
    "    print(i)"
   ]
  },
  {
   "cell_type": "code",
   "execution_count": 6,
   "id": "839431ff-4f3f-4fe6-b588-6dbf826e7527",
   "metadata": {},
   "outputs": [
    {
     "name": "stdout",
     "output_type": "stream",
     "text": [
      "4 16\n",
      "5 25\n",
      "6 36\n",
      "7 49\n",
      "8 64\n",
      "9 81\n",
      "10 100\n"
     ]
    }
   ],
   "source": [
    "for i in range(4,11):\n",
    "    print(i, i**2)"
   ]
  },
  {
   "cell_type": "code",
   "execution_count": 9,
   "id": "7118de73-9017-44aa-9877-11c29f2cd9e3",
   "metadata": {},
   "outputs": [
    {
     "name": "stdout",
     "output_type": "stream",
     "text": [
      "iteration 0 has a value of 3.0\n",
      "iteration 1 has a value of 3.6714285714285717\n",
      "iteration 2 has a value of 4.342857142857143\n",
      "iteration 3 has a value of 5.014285714285714\n",
      "iteration 4 has a value of 5.685714285714286\n",
      "iteration 5 has a value of 6.357142857142858\n",
      "iteration 6 has a value of 7.0285714285714285\n",
      "iteration 7 has a value of 7.7\n",
      "iteration 8 has a value of 8.371428571428572\n",
      "iteration 9 has a value of 9.042857142857144\n",
      "iteration 10 has a value of 9.714285714285715\n",
      "iteration 11 has a value of 10.385714285714286\n",
      "iteration 12 has a value of 11.057142857142857\n",
      "iteration 13 has a value of 11.72857142857143\n",
      "iteration 14 has a value of 12.4\n",
      "iteration 15 has a value of 13.071428571428573\n",
      "iteration 16 has a value of 13.742857142857144\n",
      "iteration 17 has a value of 14.414285714285715\n",
      "iteration 18 has a value of 15.085714285714287\n",
      "iteration 19 has a value of 15.757142857142858\n",
      "iteration 20 has a value of 16.42857142857143\n",
      "iteration 21 has a value of 17.1\n"
     ]
    }
   ],
   "source": [
    "numbers = np.linspace(3,17.1,22)\n",
    "\n",
    "for i in range(len(numbers)): # will loop 22 times starting at iteration 0 ending at iteration 21\n",
    "    x = numbers[i]\n",
    "    print('iteration ' + str(i) + ' has a value of ' + str(x))"
   ]
  },
  {
   "cell_type": "code",
   "execution_count": 10,
   "id": "fd561a60-96f8-4ca4-b29a-78e2be3c6ba4",
   "metadata": {},
   "outputs": [
    {
     "name": "stdout",
     "output_type": "stream",
     "text": [
      "3.0\n",
      "3.6714285714285717\n",
      "4.342857142857143\n",
      "5.014285714285714\n",
      "5.685714285714286\n",
      "6.357142857142858\n",
      "7.0285714285714285\n",
      "7.7\n",
      "8.371428571428572\n",
      "9.042857142857144\n",
      "9.714285714285715\n",
      "10.385714285714286\n",
      "11.057142857142857\n",
      "11.72857142857143\n",
      "12.4\n",
      "13.071428571428573\n",
      "13.742857142857144\n",
      "14.414285714285715\n",
      "15.085714285714287\n",
      "15.757142857142858\n",
      "16.42857142857143\n",
      "17.1\n"
     ]
    }
   ],
   "source": [
    "# we can also use a different way\n",
    "\n",
    "#iterables\n",
    "for i in numbers: \n",
    "    print(i)      #will output each value of numbers linspace"
   ]
  },
  {
   "cell_type": "code",
   "execution_count": 14,
   "id": "7f98ae6b-4b24-46ff-b28c-66f86d7b205c",
   "metadata": {},
   "outputs": [
    {
     "name": "stdout",
     "output_type": "stream",
     "text": [
      "0 is an even number.\n",
      "1 is an odd number.\n",
      "2 is an even number.\n",
      "3 is an odd number.\n",
      "4 is an even number.\n",
      "5 is an odd number.\n",
      "6 is an even number.\n",
      "7 is an odd number.\n",
      "8 is an even number.\n",
      "9 is an odd number.\n",
      "10 is an even number.\n",
      "11 is an odd number.\n",
      "12 is an even number.\n",
      "13 is an odd number.\n",
      "14 is an even number.\n",
      "15 is an odd number.\n",
      "16 is an even number.\n",
      "17 is an odd number.\n",
      "Done testing\n"
     ]
    }
   ],
   "source": [
    "# embed multi flow control statements\n",
    "\n",
    "for n in range(18):\n",
    "    if n%2==0:          # % modulus -- remainder after division i.e 5/2 = 2 remainder 1 -- 1 is the result of modulus\n",
    "        print(str(n) + ' is an even number.')\n",
    "    else:\n",
    "        print(str(n) + ' is an odd number.')\n",
    "    # end of the if staement\n",
    "print('Done testing')   # this is outside the staement block                   "
   ]
  },
  {
   "cell_type": "code",
   "execution_count": 49,
   "id": "13a09432-e94a-4a7e-b215-48e18135c80c",
   "metadata": {},
   "outputs": [],
   "source": [
    "# fibonacci series: [0,1,1,2,3,5,8,13,21,34, etc...] let's write a function that\n",
    "# takes an integer and compute the fibonacci series for input N\n",
    "\n",
    "def fibseq(N):\n",
    "    v = [0,1]\n",
    "    for i in range(N-2):\n",
    "        v.append(sum(v[-2:]))\n",
    "    print(v)"
   ]
  },
  {
   "cell_type": "code",
   "execution_count": 50,
   "id": "ae8c9206-6735-41cb-a3a5-c496df7f0c43",
   "metadata": {},
   "outputs": [
    {
     "name": "stdout",
     "output_type": "stream",
     "text": [
      "[0, 1, 1, 2, 3, 5, 8, 13, 21, 34]\n"
     ]
    }
   ],
   "source": [
    "fibseq(9)"
   ]
  }
 ],
 "metadata": {
  "kernelspec": {
   "display_name": "Python 3 (ipykernel)",
   "language": "python",
   "name": "python3"
  },
  "language_info": {
   "codemirror_mode": {
    "name": "ipython",
    "version": 3
   },
   "file_extension": ".py",
   "mimetype": "text/x-python",
   "name": "python",
   "nbconvert_exporter": "python",
   "pygments_lexer": "ipython3",
   "version": "3.12.10"
  }
 },
 "nbformat": 4,
 "nbformat_minor": 5
}
