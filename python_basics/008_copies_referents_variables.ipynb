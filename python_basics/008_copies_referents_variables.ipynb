{
 "cells": [
  {
   "cell_type": "code",
   "execution_count": 1,
   "id": "19164bef-efc1-4cdb-80c9-04bb593d3140",
   "metadata": {},
   "outputs": [
    {
     "name": "stdout",
     "output_type": "stream",
     "text": [
      "[5, 3]\n",
      "[5, 3]\n"
     ]
    }
   ],
   "source": [
    "a    = [ 4,3 ]\n",
    "\n",
    "b    = a  # a is already stored -- b is not a copy of a -- b is now a different name for a -- like Robert is Bob\n",
    "b[0] = 5  # changing b changed a -- but not really -- just a new pointer on the storage device\n",
    "\n",
    "print(a)\n",
    "print(b)"
   ]
  },
  {
   "cell_type": "code",
   "execution_count": 2,
   "id": "ec9c3da8-e910-4c4d-9cbb-0187e44cb32c",
   "metadata": {},
   "outputs": [
    {
     "name": "stdout",
     "output_type": "stream",
     "text": [
      "2121892924672\n",
      "2121892924672\n"
     ]
    }
   ],
   "source": [
    "print(id(a))\n",
    "print(id(b))"
   ]
  },
  {
   "cell_type": "code",
   "execution_count": 3,
   "id": "bde2035b-0191-4b7a-b685-eb0e00c772c1",
   "metadata": {},
   "outputs": [
    {
     "name": "stdout",
     "output_type": "stream",
     "text": [
      "[4, 3]\n",
      "[5, 3]\n"
     ]
    }
   ],
   "source": [
    "a    = [ 4,3 ]\n",
    "\n",
    "b    = a[ : ] # tells python to create a copy of a - not universal -- only simple cases\n",
    "b[0] = 5  \n",
    "\n",
    "print(a)\n",
    "print(b)"
   ]
  },
  {
   "cell_type": "code",
   "execution_count": 5,
   "id": "d4b5747a-0d81-4814-8882-1b7ddf1ea44e",
   "metadata": {},
   "outputs": [
    {
     "name": "stdout",
     "output_type": "stream",
     "text": [
      "2121892851264\n",
      "2121867800576\n"
     ]
    }
   ],
   "source": [
    "print(id(a)) # we will get new and different id's\n",
    "print(id(b))"
   ]
  },
  {
   "cell_type": "code",
   "execution_count": 6,
   "id": "28a7e56b-c649-424f-9d8e-efe306746857",
   "metadata": {},
   "outputs": [
    {
     "name": "stdout",
     "output_type": "stream",
     "text": [
      "2121893107584\n",
      "2121893107584\n"
     ]
    }
   ],
   "source": [
    "a = { 'q':1, 'w':2 }\n",
    "b = a                # same as above b is just a differwent name for a poiting to same memory -- [ : ] won't work\n",
    "\n",
    "print(id(a))\n",
    "print(id(b))"
   ]
  },
  {
   "cell_type": "code",
   "execution_count": 8,
   "id": "b1bf0317-cde5-40fc-b3b6-ccddfb50aaf9",
   "metadata": {},
   "outputs": [
    {
     "name": "stdout",
     "output_type": "stream",
     "text": [
      "2121899038848\n",
      "2121899038912\n"
     ]
    }
   ],
   "source": [
    "import copy # we need the copy library to run copy.deepcopy\n",
    "\n",
    "a = { 'q':1, 'w':2 }\n",
    "b = copy.deepcopy(a) # creates a copy -- changes to b won't affect a at all\n",
    "\n",
    "print(id(a))\n",
    "print(id(b))"
   ]
  },
  {
   "cell_type": "code",
   "execution_count": null,
   "id": "64b1e25a-39e1-48dc-ad1a-129ac8471622",
   "metadata": {},
   "outputs": [],
   "source": []
  }
 ],
 "metadata": {
  "kernelspec": {
   "display_name": "Python 3 (ipykernel)",
   "language": "python",
   "name": "python3"
  },
  "language_info": {
   "codemirror_mode": {
    "name": "ipython",
    "version": 3
   },
   "file_extension": ".py",
   "mimetype": "text/x-python",
   "name": "python",
   "nbconvert_exporter": "python",
   "pygments_lexer": "ipython3",
   "version": "3.12.10"
  }
 },
 "nbformat": 4,
 "nbformat_minor": 5
}
