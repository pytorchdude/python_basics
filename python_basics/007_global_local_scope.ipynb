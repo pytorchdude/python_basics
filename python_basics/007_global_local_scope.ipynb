{
 "cells": [
  {
   "cell_type": "code",
   "execution_count": 3,
   "id": "9a5ce0e4-6aa9-419f-97fd-01c7e6f34742",
   "metadata": {},
   "outputs": [],
   "source": [
    "# local scope\n",
    "# global scope\n",
    "# the basics not a deep dive"
   ]
  },
  {
   "cell_type": "code",
   "execution_count": 7,
   "id": "c48fbc51-89fb-4c3b-9fbf-3c91abd2f5ac",
   "metadata": {},
   "outputs": [],
   "source": [
    "def newFunction():\n",
    "    x = 7  # defined locally to function - local scope -- not stored\n",
    "    y = 10 # defined locally to function - local scope -- not stored\n",
    "    print(x)"
   ]
  },
  {
   "cell_type": "code",
   "execution_count": 8,
   "id": "032b9bab-fcdd-4a06-9735-575a2493f98f",
   "metadata": {},
   "outputs": [
    {
     "name": "stdout",
     "output_type": "stream",
     "text": [
      "7\n"
     ]
    }
   ],
   "source": [
    "newFunction()"
   ]
  },
  {
   "cell_type": "code",
   "execution_count": 6,
   "id": "c7d67222-6124-4fd2-8d86-364d2fb5474c",
   "metadata": {},
   "outputs": [
    {
     "ename": "NameError",
     "evalue": "name 'x' is not defined",
     "output_type": "error",
     "traceback": [
      "\u001b[31m---------------------------------------------------------------------------\u001b[39m",
      "\u001b[31mNameError\u001b[39m                                 Traceback (most recent call last)",
      "\u001b[36mCell\u001b[39m\u001b[36m \u001b[39m\u001b[32mIn[6]\u001b[39m\u001b[32m, line 1\u001b[39m\n\u001b[32m----> \u001b[39m\u001b[32m1\u001b[39m \u001b[43mx\u001b[49m\n",
      "\u001b[31mNameError\u001b[39m: name 'x' is not defined"
     ]
    }
   ],
   "source": [
    "x # error is due to x defined locally to the function not outside of it"
   ]
  },
  {
   "cell_type": "code",
   "execution_count": 10,
   "id": "9ced8f80-4f9c-4074-983f-6f5e2d6fc668",
   "metadata": {},
   "outputs": [
    {
     "name": "stdout",
     "output_type": "stream",
     "text": [
      "3\n",
      "7\n",
      "None\n",
      "3\n"
     ]
    }
   ],
   "source": [
    "x = 3\n",
    "print(x)\n",
    "print( newFunction() ) # not specified -- see below\n",
    "print(x)"
   ]
  },
  {
   "cell_type": "code",
   "execution_count": 11,
   "id": "1bc220da-4a80-4c1a-bee8-326b83524a3a",
   "metadata": {},
   "outputs": [],
   "source": [
    "# None is an empty when nothing specified -- unuique data type"
   ]
  },
  {
   "cell_type": "code",
   "execution_count": 14,
   "id": "1fbcd404-8ad8-47f0-ae55-aa5d90f50396",
   "metadata": {},
   "outputs": [
    {
     "name": "stdout",
     "output_type": "stream",
     "text": [
      "3\n",
      "7\n",
      "3\n"
     ]
    }
   ],
   "source": [
    "x = 3\n",
    "print(x)\n",
    "newFunction() # specified \n",
    "print(x)"
   ]
  },
  {
   "cell_type": "code",
   "execution_count": 15,
   "id": "75ad4251-d1c6-489b-8afe-78f893b3361b",
   "metadata": {},
   "outputs": [],
   "source": [
    "def newFunction2():\n",
    "    print(z)"
   ]
  },
  {
   "cell_type": "code",
   "execution_count": 16,
   "id": "fd4c8219-c3b5-47d3-b70c-f7a16fb892ea",
   "metadata": {},
   "outputs": [
    {
     "ename": "NameError",
     "evalue": "name 'z' is not defined",
     "output_type": "error",
     "traceback": [
      "\u001b[31m---------------------------------------------------------------------------\u001b[39m",
      "\u001b[31mNameError\u001b[39m                                 Traceback (most recent call last)",
      "\u001b[36mCell\u001b[39m\u001b[36m \u001b[39m\u001b[32mIn[16]\u001b[39m\u001b[32m, line 1\u001b[39m\n\u001b[32m----> \u001b[39m\u001b[32m1\u001b[39m \u001b[43mnewFunction2\u001b[49m\u001b[43m(\u001b[49m\u001b[43m)\u001b[49m\n",
      "\u001b[36mCell\u001b[39m\u001b[36m \u001b[39m\u001b[32mIn[15]\u001b[39m\u001b[32m, line 2\u001b[39m, in \u001b[36mnewFunction2\u001b[39m\u001b[34m()\u001b[39m\n\u001b[32m      1\u001b[39m \u001b[38;5;28;01mdef\u001b[39;00m\u001b[38;5;250m \u001b[39m\u001b[34mnewFunction2\u001b[39m():\n\u001b[32m----> \u001b[39m\u001b[32m2\u001b[39m     \u001b[38;5;28mprint\u001b[39m(\u001b[43mz\u001b[49m)\n",
      "\u001b[31mNameError\u001b[39m: name 'z' is not defined"
     ]
    }
   ],
   "source": [
    "newFunction2() # z is not defined -- we gave no value in the defined function"
   ]
  },
  {
   "cell_type": "code",
   "execution_count": 19,
   "id": "80911a80-19d4-4263-bd7b-b54dd27aebc6",
   "metadata": {},
   "outputs": [
    {
     "name": "stdout",
     "output_type": "stream",
     "text": [
      "13\n"
     ]
    }
   ],
   "source": [
    "z = 13 # global variable not local to the fuction -- function will pull from the global defined variable z = 13\n",
    "newFunction2()"
   ]
  },
  {
   "cell_type": "code",
   "execution_count": 21,
   "id": "c9ddf37d-0a90-46f7-beec-54a2004ff380",
   "metadata": {},
   "outputs": [],
   "source": [
    "# rules\n",
    "# variable created inside(local) functions only available to that function\n",
    "# variableas created outside(global) functions are available inside(locally) and outside(globally) of the function\n",
    "# keep local and global variable names different"
   ]
  },
  {
   "cell_type": "code",
   "execution_count": 31,
   "id": "108d41a6-7f06-495b-9302-b960121f052c",
   "metadata": {},
   "outputs": [],
   "source": [
    "# lets write a function that flips a coin x times and returns the average 0 or 1 -- heads or tails\n",
    "import numpy as np"
   ]
  },
  {
   "cell_type": "code",
   "execution_count": 53,
   "id": "bd6e0c96-a4df-420e-a6fa-49930b761b24",
   "metadata": {},
   "outputs": [],
   "source": [
    "def coinFlip(N):\n",
    "    coinFlips = np.mean(np.random.randn(N)>0)\n",
    "    print(str(N) + ' coin flips had ' + str(100*coinFlips) + '% heads.' )"
   ]
  },
  {
   "cell_type": "code",
   "execution_count": 57,
   "id": "bb093aad-1896-4bde-a297-22c83b34d9a8",
   "metadata": {},
   "outputs": [
    {
     "name": "stdout",
     "output_type": "stream",
     "text": [
      "10000 coin flips had 50.0% heads.\n"
     ]
    }
   ],
   "source": [
    "coinFlip(10000) # higher the value the closer it wil lget to theoretical 50%"
   ]
  },
  {
   "cell_type": "code",
   "execution_count": null,
   "id": "a420f0b4-8efa-42d0-a4af-44fa1c612736",
   "metadata": {},
   "outputs": [],
   "source": []
  }
 ],
 "metadata": {
  "kernelspec": {
   "display_name": "Python 3 (ipykernel)",
   "language": "python",
   "name": "python3"
  },
  "language_info": {
   "codemirror_mode": {
    "name": "ipython",
    "version": 3
   },
   "file_extension": ".py",
   "mimetype": "text/x-python",
   "name": "python",
   "nbconvert_exporter": "python",
   "pygments_lexer": "ipython3",
   "version": "3.12.10"
  }
 },
 "nbformat": 4,
 "nbformat_minor": 5
}
