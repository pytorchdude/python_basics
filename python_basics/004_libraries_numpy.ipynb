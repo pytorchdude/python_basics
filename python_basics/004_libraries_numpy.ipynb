{
 "cells": [
  {
   "cell_type": "code",
   "execution_count": 20,
   "id": "9104e4e1-a9d7-420f-9292-806feeb2e5d8",
   "metadata": {},
   "outputs": [],
   "source": [
    "import numpy as np # we need numpy to use functions of higher math than what pythion has by default\n",
    "# need to run this line once"
   ]
  },
  {
   "cell_type": "code",
   "execution_count": 7,
   "id": "08c73ff0-8d45-4e59-a964-28e17bfac3df",
   "metadata": {},
   "outputs": [
    {
     "data": {
      "text/plain": [
       "np.float64(3.0)"
      ]
     },
     "execution_count": 7,
     "metadata": {},
     "output_type": "execute_result"
    }
   ],
   "source": [
    "numbers = [ 1,2,3,4,5 ]\n",
    "\n",
    "#now we can use a function for mean instead of getting the value of an output and dividing by the num of length of a list\n",
    "\n",
    "np.mean(numbers)"
   ]
  },
  {
   "cell_type": "code",
   "execution_count": 11,
   "id": "30a45bc7-2585-4390-a0bf-4404057d8609",
   "metadata": {},
   "outputs": [
    {
     "data": {
      "text/plain": [
       "array([1. , 2.5, 4. , 5.5, 7. ])"
      ]
     },
     "execution_count": 11,
     "metadata": {},
     "output_type": "execute_result"
    }
   ],
   "source": [
    "# more examples -- we are not fully exploring numpy here just introducing it\n",
    "np.linspace(1,7,5)"
   ]
  },
  {
   "cell_type": "code",
   "execution_count": 12,
   "id": "035862a3-3fe4-4111-8c6b-50a7af30f674",
   "metadata": {},
   "outputs": [
    {
     "data": {
      "text/plain": [
       "numpy.ndarray"
      ]
     },
     "execution_count": 12,
     "metadata": {},
     "output_type": "execute_result"
    }
   ],
   "source": [
    "# produces a numpy array with n dimesnions\n",
    "x = np.linspace(1,7,5)\n",
    "type(x)"
   ]
  },
  {
   "cell_type": "code",
   "execution_count": 13,
   "id": "dbd776e2-b6ad-4132-adc1-a87f74d22a76",
   "metadata": {},
   "outputs": [
    {
     "data": {
      "text/plain": [
       "list"
      ]
     },
     "execution_count": 13,
     "metadata": {},
     "output_type": "execute_result"
    }
   ],
   "source": [
    "# we can convert lists into arrays\n",
    "type(numbers)"
   ]
  },
  {
   "cell_type": "code",
   "execution_count": 14,
   "id": "012f8346-15a2-496b-939e-ee2d11b233c4",
   "metadata": {},
   "outputs": [
    {
     "name": "stdout",
     "output_type": "stream",
     "text": [
      "<class 'list'>\n",
      "<class 'numpy.ndarray'>\n"
     ]
    }
   ],
   "source": [
    "numbers_np = np.array(numbers)\n",
    "\n",
    "print(type(numbers))\n",
    "print(type(numbers_np))"
   ]
  },
  {
   "cell_type": "code",
   "execution_count": 16,
   "id": "8b22581d-32c4-438f-ae67-37e83501355b",
   "metadata": {},
   "outputs": [
    {
     "data": {
      "text/plain": [
       "np.int64(1)"
      ]
     },
     "execution_count": 16,
     "metadata": {},
     "output_type": "execute_result"
    }
   ],
   "source": [
    "# methods to run on np arrays\n",
    "numbers_np.min()"
   ]
  },
  {
   "cell_type": "code",
   "execution_count": 17,
   "id": "4b08eae7-d6aa-4e95-b831-2faa554211d9",
   "metadata": {},
   "outputs": [
    {
     "data": {
      "text/plain": [
       "np.int64(5)"
      ]
     },
     "execution_count": 17,
     "metadata": {},
     "output_type": "execute_result"
    }
   ],
   "source": [
    "numbers_np.max()"
   ]
  },
  {
   "cell_type": "code",
   "execution_count": 19,
   "id": "58de001b-45ef-4e02-9e34-72849f415f40",
   "metadata": {},
   "outputs": [
    {
     "data": {
      "text/plain": [
       "np.int64(5)"
      ]
     },
     "execution_count": 19,
     "metadata": {},
     "output_type": "execute_result"
    }
   ],
   "source": [
    "np.max( numbers ) # some functions/methods work on lists as well pretyends it is an np array"
   ]
  },
  {
   "cell_type": "code",
   "execution_count": 25,
   "id": "a57e059f-5673-4e18-8852-ec57effda5bb",
   "metadata": {},
   "outputs": [],
   "source": [
    "from numpy import mean as m # lets import mean we can uise this to import just one function"
   ]
  },
  {
   "cell_type": "code",
   "execution_count": 36,
   "id": "09644e9b-cbea-4506-847a-15069755fae4",
   "metadata": {},
   "outputs": [
    {
     "name": "stdout",
     "output_type": "stream",
     "text": [
      "[4 2 6 9 5 1 0]\n",
      "[4 2 6 9 5 1 0]\n"
     ]
    },
    {
     "data": {
      "text/plain": [
       "np.float64(3.857142857142857)"
      ]
     },
     "execution_count": 36,
     "metadata": {},
     "output_type": "execute_result"
    }
   ],
   "source": [
    "n = [ 4,2,6,9,5,1,0 ]\n",
    "\n",
    "nn = np.array(n)\n",
    "\n",
    "print(nn)\n",
    "np.sort(nn)\n",
    "print(nn)\n",
    "np.mean(nn)"
   ]
  },
  {
   "cell_type": "code",
   "execution_count": null,
   "id": "ddffc9a9-1906-4e8e-8c1c-e5392a30a384",
   "metadata": {},
   "outputs": [],
   "source": []
  }
 ],
 "metadata": {
  "kernelspec": {
   "display_name": "Python 3 (ipykernel)",
   "language": "python",
   "name": "python3"
  },
  "language_info": {
   "codemirror_mode": {
    "name": "ipython",
    "version": 3
   },
   "file_extension": ".py",
   "mimetype": "text/x-python",
   "name": "python",
   "nbconvert_exporter": "python",
   "pygments_lexer": "ipython3",
   "version": "3.12.10"
  }
 },
 "nbformat": 4,
 "nbformat_minor": 5
}
