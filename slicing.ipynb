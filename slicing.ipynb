{
 "cells": [
  {
   "cell_type": "code",
   "execution_count": 2,
   "id": "eb23b3a9-159d-4532-88e3-eb33581918c4",
   "metadata": {},
   "outputs": [
    {
     "data": {
      "text/plain": [
       "range"
      ]
     },
     "execution_count": 2,
     "metadata": {},
     "output_type": "execute_result"
    }
   ],
   "source": [
    "# slicing and range\n",
    "a = range(5,11) # set of integers from 5-10\n",
    "type(a)"
   ]
  },
  {
   "cell_type": "code",
   "execution_count": 52,
   "id": "57568c43-7ec4-4b67-b433-7f1da166f6e4",
   "metadata": {},
   "outputs": [
    {
     "ename": "TypeError",
     "evalue": "list indices must be integers or slices, not list",
     "output_type": "error",
     "traceback": [
      "\u001b[31m---------------------------------------------------------------------------\u001b[39m",
      "\u001b[31mTypeError\u001b[39m                                 Traceback (most recent call last)",
      "\u001b[36mCell\u001b[39m\u001b[36m \u001b[39m\u001b[32mIn[52]\u001b[39m\u001b[32m, line 1\u001b[39m\n\u001b[32m----> \u001b[39m\u001b[32m1\u001b[39m \u001b[43ma\u001b[49m\u001b[43m[\u001b[49m\u001b[43m \u001b[49m\u001b[43m[\u001b[49m\u001b[43m \u001b[49m\u001b[32;43m2\u001b[39;49m\u001b[43m,\u001b[49m\u001b[32;43m4\u001b[39;49m\u001b[43m \u001b[49m\u001b[43m]\u001b[49m\u001b[43m \u001b[49m\u001b[43m]\u001b[49m\n",
      "\u001b[31mTypeError\u001b[39m: list indices must be integers or slices, not list"
     ]
    }
   ],
   "source": [
    "a[ [ 2,4 ] ]\n",
    "# won't work we need list comprehension"
   ]
  },
  {
   "cell_type": "code",
   "execution_count": 4,
   "id": "78e6ead0-574a-4433-94cc-d884041ee607",
   "metadata": {},
   "outputs": [
    {
     "data": {
      "text/plain": [
       "[5, 6, 7, 8, 9, 10]"
      ]
     },
     "execution_count": 4,
     "metadata": {},
     "output_type": "execute_result"
    }
   ],
   "source": [
    "# convert to list\n",
    "a = list( range(5,11)) # set of integers from 5-10\n",
    "a"
   ]
  },
  {
   "cell_type": "code",
   "execution_count": 5,
   "id": "7f19c69d-9808-479c-a5b8-55e7efe284d5",
   "metadata": {},
   "outputs": [
    {
     "data": {
      "text/plain": [
       "6"
      ]
     },
     "execution_count": 5,
     "metadata": {},
     "output_type": "execute_result"
    }
   ],
   "source": [
    "a[ 1 ]"
   ]
  },
  {
   "cell_type": "code",
   "execution_count": 6,
   "id": "93e40fd5-9061-4f85-a9e4-3dddd7794234",
   "metadata": {},
   "outputs": [
    {
     "data": {
      "text/plain": [
       "[5, 6]"
      ]
     },
     "execution_count": 6,
     "metadata": {},
     "output_type": "execute_result"
    }
   ],
   "source": [
    "# lets slice it -- we want elements 0 - 2\n",
    "a[ 0:2 ]"
   ]
  },
  {
   "cell_type": "code",
   "execution_count": 9,
   "id": "51c0d8ba-cad3-478b-bfd0-2530c407ca41",
   "metadata": {},
   "outputs": [
    {
     "data": {
      "text/plain": [
       "[5, 6, 7, 8, 9, 10]"
      ]
     },
     "execution_count": 9,
     "metadata": {},
     "output_type": "execute_result"
    }
   ],
   "source": [
    "# 1st to last -- other side of colon is implicit end\n",
    "a[ 0: ]"
   ]
  },
  {
   "cell_type": "code",
   "execution_count": 8,
   "id": "ae7d53b4-de95-417e-8e6e-26c13f7a2ca5",
   "metadata": {},
   "outputs": [
    {
     "data": {
      "text/plain": [
       "[5, 6, 7]"
      ]
     },
     "execution_count": 8,
     "metadata": {},
     "output_type": "execute_result"
    }
   ],
   "source": [
    "# 0 is implicit\n",
    "a[ :3 ]"
   ]
  },
  {
   "cell_type": "code",
   "execution_count": 11,
   "id": "3d9ab7d0-0979-4e71-aa4f-9b3d5675e743",
   "metadata": {},
   "outputs": [
    {
     "data": {
      "text/plain": [
       "[5, 7, 9]"
      ]
     },
     "execution_count": 11,
     "metadata": {},
     "output_type": "execute_result"
    }
   ],
   "source": [
    "# lets get even index positions not values - every 2 positions from beginning\n",
    "a[ ::2 ]"
   ]
  },
  {
   "cell_type": "code",
   "execution_count": 13,
   "id": "e6f644c6-ad2b-4aa8-951e-a7fab9c568c4",
   "metadata": {},
   "outputs": [
    {
     "data": {
      "text/plain": [
       "[6, 8, 10]"
      ]
     },
     "execution_count": 13,
     "metadata": {},
     "output_type": "execute_result"
    }
   ],
   "source": [
    "# start from and index position then get every 2nd position\n",
    "a[ 1::2 ]"
   ]
  },
  {
   "cell_type": "code",
   "execution_count": 14,
   "id": "010439dd-c999-4c1c-97bb-ce757a05ef9c",
   "metadata": {},
   "outputs": [
    {
     "data": {
      "text/plain": [
       "[6, 9]"
      ]
     },
     "execution_count": 14,
     "metadata": {},
     "output_type": "execute_result"
    }
   ],
   "source": [
    "a[ 1::3 ]"
   ]
  },
  {
   "cell_type": "code",
   "execution_count": 15,
   "id": "0a006327-4e78-4243-aaea-9060564cea06",
   "metadata": {},
   "outputs": [
    {
     "data": {
      "text/plain": [
       "[6, 10]"
      ]
     },
     "execution_count": 15,
     "metadata": {},
     "output_type": "execute_result"
    }
   ],
   "source": [
    "a[ 1::4 ]"
   ]
  },
  {
   "cell_type": "code",
   "execution_count": 16,
   "id": "64a28021-ecea-44da-96fe-99585388f819",
   "metadata": {},
   "outputs": [
    {
     "data": {
      "text/plain": [
       "[6]"
      ]
     },
     "execution_count": 16,
     "metadata": {},
     "output_type": "execute_result"
    }
   ],
   "source": [
    "a[ 1::5 ] # no position available"
   ]
  },
  {
   "cell_type": "code",
   "execution_count": 28,
   "id": "af845fad-f6f7-4e54-8a9e-d799d1cd8536",
   "metadata": {},
   "outputs": [
    {
     "name": "stdout",
     "output_type": "stream",
     "text": [
      "[5, 6, 7, 8, 9, 10]\n"
     ]
    },
    {
     "data": {
      "text/plain": [
       "[5, 6, 7, 8, 9]"
      ]
     },
     "execution_count": 28,
     "metadata": {},
     "output_type": "execute_result"
    }
   ],
   "source": [
    "# works like this a[ start:stop:skip ]\n",
    "print(a)\n",
    "start = 0\n",
    "stop  = 5 # up to but not including position -- 10 wil not show, 9 will -- 10 will show if 6 is the stop value\n",
    "skip  = 1\n",
    "\n",
    "a[ start:stop:skip ]"
   ]
  },
  {
   "cell_type": "code",
   "execution_count": 31,
   "id": "9fff98bc-49a8-4488-82b2-27db5ea89a13",
   "metadata": {},
   "outputs": [
    {
     "data": {
      "text/plain": [
       "[10, 9, 8, 7, 6, 5]"
      ]
     },
     "execution_count": 31,
     "metadata": {},
     "output_type": "execute_result"
    }
   ],
   "source": [
    "# let's reverse a list\n",
    "a[ ::-1 ] # -1 indicates skipping backwards from end"
   ]
  },
  {
   "cell_type": "code",
   "execution_count": 50,
   "id": "4e7b1baf-796f-49f8-80a9-e2b212fa929f",
   "metadata": {},
   "outputs": [
    {
     "data": {
      "text/plain": [
       "'Mike is a nice guy'"
      ]
     },
     "execution_count": 50,
     "metadata": {},
     "output_type": "execute_result"
    }
   ],
   "source": [
    "# let's try this -- return Mike is a nice guy from the text\n",
    "text = '345dfyug ecin a si ekiM 93845d'\n",
    "aList = (text)\n",
    "aList[ -8:4:-1 ]"
   ]
  },
  {
   "cell_type": "code",
   "execution_count": null,
   "id": "623304a6-2861-48c5-9d7e-97fccc8344eb",
   "metadata": {},
   "outputs": [],
   "source": []
  }
 ],
 "metadata": {
  "kernelspec": {
   "display_name": "Python 3 (ipykernel)",
   "language": "python",
   "name": "python3"
  },
  "language_info": {
   "codemirror_mode": {
    "name": "ipython",
    "version": 3
   },
   "file_extension": ".py",
   "mimetype": "text/x-python",
   "name": "python",
   "nbconvert_exporter": "python",
   "pygments_lexer": "ipython3",
   "version": "3.12.10"
  }
 },
 "nbformat": 4,
 "nbformat_minor": 5
}
