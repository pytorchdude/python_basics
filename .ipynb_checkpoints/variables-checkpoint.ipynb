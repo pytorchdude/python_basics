{
 "cells": [
  {
   "cell_type": "code",
   "execution_count": 5,
   "id": "9cf3d67e-9411-4b7e-bc50-2a347c4a22f6",
   "metadata": {},
   "outputs": [],
   "source": [
    "a = 4"
   ]
  },
  {
   "cell_type": "code",
   "execution_count": 7,
   "id": "343b47cb-0fd9-40f7-a9f2-f867166f49c6",
   "metadata": {},
   "outputs": [],
   "source": [
    "b = 5"
   ]
  },
  {
   "cell_type": "code",
   "execution_count": 9,
   "id": "794890e3-1552-4c1d-a5fb-d34bedc6f980",
   "metadata": {},
   "outputs": [
    {
     "data": {
      "text/plain": [
       "5"
      ]
     },
     "execution_count": 9,
     "metadata": {},
     "output_type": "execute_result"
    }
   ],
   "source": [
    "a\n",
    "b"
   ]
  },
  {
   "cell_type": "code",
   "execution_count": 11,
   "id": "94f8b7ff-bd7a-4524-9585-2efa59e59e75",
   "metadata": {},
   "outputs": [
    {
     "name": "stdout",
     "output_type": "stream",
     "text": [
      "4\n",
      "5\n"
     ]
    }
   ],
   "source": [
    "# This code inspects values of the variables\n",
    "print(a)\n",
    "print(b)"
   ]
  },
  {
   "cell_type": "code",
   "execution_count": null,
   "id": "60190af2-cb5d-46a0-9dc0-e8b2ca85ce11",
   "metadata": {},
   "outputs": [],
   "source": [
    "!git add ."
   ]
  },
  {
   "cell_type": "code",
   "execution_count": null,
   "id": "3f71ef7f-8c5f-4abd-8e80-ebd82115740b",
   "metadata": {},
   "outputs": [],
   "source": [
    "!git commit -m \"new notebook\""
   ]
  },
  {
   "cell_type": "code",
   "execution_count": null,
   "id": "a4cbc890-b7f5-47ae-91d7-342431e2f946",
   "metadata": {},
   "outputs": [],
   "source": [
    "!git remote set-url origin git@github.com:pytorchdude/python_basic "
   ]
  },
  {
   "cell_type": "code",
   "execution_count": null,
   "id": "cae51211-cd80-4097-8727-5f626c0d625b",
   "metadata": {},
   "outputs": [],
   "source": [
    "!ssh -T git@github.com"
   ]
  },
  {
   "cell_type": "code",
   "execution_count": null,
   "id": "b204309c-c08a-4042-bc52-c5ccd7a3de71",
   "metadata": {},
   "outputs": [],
   "source": []
  }
 ],
 "metadata": {
  "kernelspec": {
   "display_name": "Python 3 (ipykernel)",
   "language": "python",
   "name": "python3"
  },
  "language_info": {
   "codemirror_mode": {
    "name": "ipython",
    "version": 3
   },
   "file_extension": ".py",
   "mimetype": "text/x-python",
   "name": "python",
   "nbconvert_exporter": "python",
   "pygments_lexer": "ipython3",
   "version": "3.12.3"
  }
 },
 "nbformat": 4,
 "nbformat_minor": 5
}
