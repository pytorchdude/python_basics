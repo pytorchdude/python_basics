{
 "cells": [
  {
   "cell_type": "code",
   "execution_count": 1,
   "id": "ecdaeed4-a1c5-4ab5-a98c-2c0169201a2b",
   "metadata": {},
   "outputs": [],
   "source": [
    "# broadcastikng in numpy"
   ]
  },
  {
   "cell_type": "code",
   "execution_count": 2,
   "id": "fee58327-5e60-4d0c-a2f0-47ca7e58925e",
   "metadata": {},
   "outputs": [],
   "source": [
    "import numpy as np"
   ]
  },
  {
   "cell_type": "code",
   "execution_count": 14,
   "id": "2ff3949a-954a-4981-bc8f-214a6b95e4ee",
   "metadata": {},
   "outputs": [
    {
     "name": "stdout",
     "output_type": "stream",
     "text": [
      "[[1 2 3]\n",
      " [2 3 4]\n",
      " [3 4 5]\n",
      " [4 5 6]]\n",
      " \n",
      "[10 20 30]\n"
     ]
    }
   ],
   "source": [
    "X = np.array([ [1,2,3],\n",
    "               [2,3,4],\n",
    "               [3,4,5],\n",
    "               [4,5,6] ])  # matrix\n",
    "\n",
    "\n",
    "w = np.array([10,20,30])   # vector\n",
    "\n",
    "print(X), print(' ')\n",
    "print(w)"
   ]
  },
  {
   "cell_type": "code",
   "execution_count": 15,
   "id": "69eba116-2bed-451c-ad9b-d5ebbdb28ae2",
   "metadata": {},
   "outputs": [
    {
     "data": {
      "text/plain": [
       "array([[11., 22., 33.],\n",
       "       [12., 23., 34.],\n",
       "       [13., 24., 35.],\n",
       "       [14., 25., 36.]])"
      ]
     },
     "execution_count": 15,
     "metadata": {},
     "output_type": "execute_result"
    }
   ],
   "source": [
    "Y = np.zeros(X.shape)       # to keep the original matrix\n",
    "\n",
    "for i in range(X.shape[0]):\n",
    "    Y[i,:] = X[i,:] + w\n",
    "\n",
    "Y"
   ]
  },
  {
   "cell_type": "code",
   "execution_count": 18,
   "id": "4f57f3df-e1f7-41a6-8191-f350a9f53638",
   "metadata": {},
   "outputs": [
    {
     "name": "stdout",
     "output_type": "stream",
     "text": [
      "[[11 22 33]\n",
      " [12 23 34]\n",
      " [13 24 35]\n",
      " [14 25 36]]\n",
      " \n",
      "[[11. 22. 33.]\n",
      " [12. 23. 34.]\n",
      " [13. 24. 35.]\n",
      " [14. 25. 36.]]\n"
     ]
    }
   ],
   "source": [
    "# quicker way -- broadcasting - row wise\n",
    "\n",
    "Z = X+w               # adding a matrix and a vector -- not real math due to sizes not matching\n",
    "                      # not legal in linear algebra\n",
    "                      # python tunrs vector in matrix to complete the task of adding togther\n",
    "                      # works for addition or subtraction\n",
    "\n",
    "print(Z), print(' ')\n",
    "print(Y)"
   ]
  },
  {
   "cell_type": "code",
   "execution_count": 19,
   "id": "63f3e8c6-5c69-4c10-b15a-c2c0dd13d4dd",
   "metadata": {},
   "outputs": [],
   "source": [
    "# broadcasting - column wise"
   ]
  },
  {
   "cell_type": "code",
   "execution_count": 20,
   "id": "968ec316-0b7c-4d35-ac82-c74d6c691268",
   "metadata": {},
   "outputs": [
    {
     "data": {
      "text/plain": [
       "array([-1,  0,  1,  0])"
      ]
     },
     "execution_count": 20,
     "metadata": {},
     "output_type": "execute_result"
    }
   ],
   "source": [
    "v = np.array([-1,0,1,0]) # we can see we just have a row vector\n",
    "v"
   ]
  },
  {
   "cell_type": "code",
   "execution_count": 21,
   "id": "65ac10ab-987c-4bd9-83fa-28fd211a164d",
   "metadata": {},
   "outputs": [
    {
     "data": {
      "text/plain": [
       "array([[-1],\n",
       "       [ 0],\n",
       "       [ 1],\n",
       "       [ 0]])"
      ]
     },
     "execution_count": 21,
     "metadata": {},
     "output_type": "execute_result"
    }
   ],
   "source": [
    "v = np.array([ [-1],[0],[1],[0] ]) # we can create a column vector by putting ea. value on own row\n",
    "v"
   ]
  },
  {
   "cell_type": "code",
   "execution_count": 26,
   "id": "221c2136-3d80-48e9-805a-08eacbf79eab",
   "metadata": {},
   "outputs": [
    {
     "data": {
      "text/plain": [
       "array([[-1, -2, -3],\n",
       "       [ 0,  0,  0],\n",
       "       [ 3,  4,  5],\n",
       "       [ 0,  0,  0]])"
      ]
     },
     "execution_count": 26,
     "metadata": {},
     "output_type": "execute_result"
    }
   ],
   "source": [
    "v = np.array([-1,0,1,0], ndmin=2).T # we can specify dimensions and transpose T - we have a columnar vector!\n",
    "X*v   # multiply by matrix"
   ]
  },
  {
   "cell_type": "code",
   "execution_count": 44,
   "id": "0cd10dfd-c8c9-4533-afb8-a256bc6f504b",
   "metadata": {},
   "outputs": [
    {
     "name": "stdout",
     "output_type": "stream",
     "text": [
      "[0 1 2 3 4 5 6 7 8]\n",
      " \n",
      "[[0 1 2]\n",
      " [3 4 5]\n",
      " [6 7 8]]\n",
      " \n",
      "[[0 1 2]\n",
      " [3 4 5]\n",
      " [6 7 8]\n",
      " [0 1 2]\n",
      " [3 4 5]\n",
      " [6 7 8]\n",
      " [0 1 2]\n",
      " [3 4 5]\n",
      " [6 7 8]]\n",
      " \n",
      "[[ 0  0  0]\n",
      " [ 3  4  5]\n",
      " [12 14 16]\n",
      " [ 0  3  6]\n",
      " [12 16 20]\n",
      " [30 35 40]\n",
      " [ 0  6 12]\n",
      " [21 28 35]\n",
      " [48 56 64]]\n"
     ]
    }
   ],
   "source": [
    "# lets create a vector of integers 0-8 v -- reshape v into a 3x3 matrix M -- np.reshape\n",
    "# repeat M into a 9x3 matrix C use np.tile\n",
    "# broadcast-multiply C with V\n",
    "\n",
    "# create vector of integers 0:8 (v)\n",
    "v = np.arange(9)\n",
    "print(v), print(' ')\n",
    "\n",
    "# reshape (v) into a 3x3 matrix (M) using np.reshape\n",
    "M = np.reshape(v,(3,3))    # not to be 9,3  but rather 3,1 3x down the cols and only 1x on rows\n",
    "print(M), print(' ')\n",
    "\n",
    "# repeat M into a 9x3 matrix (C) using np.tile\n",
    "C = np.tile(M,(3,1))\n",
    "print(C), print(' ')\n",
    "\n",
    "# broadcast-multiple C with v\n",
    "B = C*np.reshape(v,(len(v),1)) # need to reshape to fit columnar shape\n",
    "print(B);"
   ]
  },
  {
   "cell_type": "code",
   "execution_count": null,
   "id": "d59ef9c1-8ab4-4f36-93b0-c35412dd3aba",
   "metadata": {},
   "outputs": [],
   "source": []
  }
 ],
 "metadata": {
  "kernelspec": {
   "display_name": "Python 3 (ipykernel)",
   "language": "python",
   "name": "python3"
  },
  "language_info": {
   "codemirror_mode": {
    "name": "ipython",
    "version": 3
   },
   "file_extension": ".py",
   "mimetype": "text/x-python",
   "name": "python",
   "nbconvert_exporter": "python",
   "pygments_lexer": "ipython3",
   "version": "3.12.10"
  }
 },
 "nbformat": 4,
 "nbformat_minor": 5
}
