{
 "cells": [
  {
   "cell_type": "code",
   "execution_count": 14,
   "id": "cf55c92e-a7b6-4a2f-b755-29503eba4288",
   "metadata": {},
   "outputs": [
    {
     "name": "stdout",
     "output_type": "stream",
     "text": [
      "This is true!\n"
     ]
    }
   ],
   "source": [
    "# flow control statements - primitve AI lol\n",
    "# if statements\n",
    "# import libraries too\n",
    "import numpy as np\n",
    "\n",
    "#conditional\n",
    "if True:                    # if the conditional were to be False - there would be no output\n",
    "    print('This is true!')"
   ]
  },
  {
   "cell_type": "code",
   "execution_count": 15,
   "id": "288a6efa-a055-4aeb-83a2-5f1c3a7bc06c",
   "metadata": {},
   "outputs": [
    {
     "name": "stdout",
     "output_type": "stream",
     "text": [
      "WOW\n"
     ]
    }
   ],
   "source": [
    "x = 4\n",
    "\n",
    "if x == 4:\n",
    "    print('WOW')"
   ]
  },
  {
   "cell_type": "code",
   "execution_count": 16,
   "id": "c749fa15-a270-4882-b0d3-f6c67a91980a",
   "metadata": {},
   "outputs": [],
   "source": [
    "x = 4\n",
    "\n",
    "if x == 0:\n",
    "    print('nada') # wont return anything 0 is False"
   ]
  },
  {
   "cell_type": "code",
   "execution_count": 17,
   "id": "c66bd73b-4344-4304-8a73-5a3f3bd5b3aa",
   "metadata": {},
   "outputs": [],
   "source": [
    "if '':            # empty string is False\n",
    "    print('nada')"
   ]
  },
  {
   "cell_type": "code",
   "execution_count": 18,
   "id": "2c1a4434-8122-4292-9558-2e43021c2ce1",
   "metadata": {},
   "outputs": [
    {
     "name": "stdout",
     "output_type": "stream",
     "text": [
      "He's the Dude!\n"
     ]
    }
   ],
   "source": [
    "if 'Pytorch Dude':          # string has data -- not False\n",
    "    print(\"He's the Dude!\")"
   ]
  },
  {
   "cell_type": "code",
   "execution_count": 32,
   "id": "70a891fe-ccd5-488a-8da5-b1e049da0967",
   "metadata": {},
   "outputs": [
    {
     "name": "stdout",
     "output_type": "stream",
     "text": [
      "0.05123315570382292\n"
     ]
    }
   ],
   "source": [
    "r = np.random.randn()\n",
    "\n",
    "if r > 0:              # no output if zero or negative random number\n",
    "    print(r)"
   ]
  },
  {
   "cell_type": "code",
   "execution_count": 60,
   "id": "031a05a7-6349-4785-a9f2-077916ee51fe",
   "metadata": {},
   "outputs": [
    {
     "name": "stdout",
     "output_type": "stream",
     "text": [
      "That random number was positive! Made me feel good. 8) The number was 0.6237540493111868\n"
     ]
    }
   ],
   "source": [
    "p = np.random.randn()\n",
    "\n",
    "if p > 0:\n",
    "    outcome = 'positive! Made me feel good. 8)'\n",
    "else:\n",
    "    outcome = 'so negative! 8('  # now we will always have an output\n",
    "\n",
    "print('That random number was ' + outcome + ' The number was ' + str(p))"
   ]
  },
  {
   "cell_type": "code",
   "execution_count": 67,
   "id": "d7119e4e-12f4-40a2-bb6a-ba3c7d5a9f57",
   "metadata": {},
   "outputs": [
    {
     "name": "stdout",
     "output_type": "stream",
     "text": [
      "SWEET\n"
     ]
    }
   ],
   "source": [
    "caketype = 'chocolate'\n",
    "\n",
    "# If any of these conditionals are True their respective print statements output\n",
    "if caketype == 'carrot':      \n",
    "    print('I AM SO HAPPY!!!')\n",
    "elif caketype == 'chocolate':\n",
    "    print('SWEET')\n",
    "else:\n",
    "    print('eh, whatver...')"
   ]
  },
  {
   "cell_type": "code",
   "execution_count": 82,
   "id": "9fd9fa3d-8ab7-4562-a2bd-efb67e2811b0",
   "metadata": {},
   "outputs": [
    {
     "name": "stdout",
     "output_type": "stream",
     "text": [
      "I dunno...\n"
     ]
    }
   ],
   "source": [
    "# if statements into one line\n",
    "# only good if for simple needs - not long code with many operations\n",
    "caketype = 'dirt'\n",
    "print('Probably carrot cake.') if caketype[0]=='c' else print('I dunno...')\n"
   ]
  },
  {
   "cell_type": "code",
   "execution_count": 85,
   "id": "577eb893-d6ca-4f96-8a66-bbf7df2bdd0d",
   "metadata": {},
   "outputs": [
    {
     "name": "stdout",
     "output_type": "stream",
     "text": [
      "I dunno...\n"
     ]
    }
   ],
   "source": [
    "# python is case sensitive\n",
    "caketype = 'Carrot'\n",
    "print('Probably carrot cake.') if caketype[0]=='c' else print('I dunno...')"
   ]
  },
  {
   "cell_type": "code",
   "execution_count": 86,
   "id": "a7d63e82-899f-4aa6-b610-baf978908c76",
   "metadata": {},
   "outputs": [
    {
     "name": "stdout",
     "output_type": "stream",
     "text": [
      "Probably carrot cake.\n"
     ]
    }
   ],
   "source": [
    "print('Probably carrot cake.') if caketype[0].lower()=='c' else print('I dunno...')"
   ]
  },
  {
   "cell_type": "code",
   "execution_count": 87,
   "id": "b5739121-c543-40c2-a07d-9670811b15dc",
   "metadata": {},
   "outputs": [
    {
     "name": "stdout",
     "output_type": "stream",
     "text": [
      "both are false\n"
     ]
    }
   ],
   "source": [
    "# Conjunctive conditionals vwith booleans\n",
    "\n",
    "if 1<3 and 4==5:\n",
    "    print('both are true')\n",
    "else:\n",
    "    print('both are false')\n"
   ]
  },
  {
   "cell_type": "code",
   "execution_count": 107,
   "id": "c18a545c-4277-4df1-bc54-ed49d8b84212",
   "metadata": {},
   "outputs": [],
   "source": [
    "# lets create a function that computes the dot product on 2 vectors [1,2,3] and [0,4,1]\n",
    "# check that both inputs are numpy arrays (isInstance())\n",
    "# check that both inputs are the same length\n",
    "# if checks are False -- break out of the function and return error\n",
    "# compute and return the dot product\n",
    "\n",
    "a = np.array([1,2,3,4])\n",
    "b = np.array([-1,12,3,6])\n",
    "\n",
    "# np.dot(a,b)   # can do sum(a*b)\n",
    "\n",
    "def dotproduct(a,b):\n",
    "    # check that both vectors are numpy arrays\n",
    "    if not (isinstance(a,np.ndarray) and isinstance(b, np.ndarray)):\n",
    "        raise Exception('Inputs must be numpy arrays')\n",
    "    #check that both vectors are same length\n",
    "    if not len(a) == len(b):\n",
    "        raise Exception('Both Arrays are not equal length')\n",
    "    return np.dot(a,b)"
   ]
  },
  {
   "cell_type": "code",
   "execution_count": 108,
   "id": "b28d4b15-0dd2-4cd1-b2a6-479430b41f96",
   "metadata": {},
   "outputs": [
    {
     "data": {
      "text/plain": [
       "np.int64(56)"
      ]
     },
     "execution_count": 108,
     "metadata": {},
     "output_type": "execute_result"
    }
   ],
   "source": [
    "dotproduct(a,b)"
   ]
  },
  {
   "cell_type": "code",
   "execution_count": 109,
   "id": "0f12f40f-50a9-43dc-abf1-54fe2fd6da57",
   "metadata": {},
   "outputs": [
    {
     "ename": "Exception",
     "evalue": "Both Arrays are not equal length",
     "output_type": "error",
     "traceback": [
      "\u001b[31m---------------------------------------------------------------------------\u001b[39m",
      "\u001b[31mException\u001b[39m                                 Traceback (most recent call last)",
      "\u001b[36mCell\u001b[39m\u001b[36m \u001b[39m\u001b[32mIn[109]\u001b[39m\u001b[32m, line 4\u001b[39m\n\u001b[32m      1\u001b[39m a = np.array([\u001b[32m1\u001b[39m,\u001b[32m2\u001b[39m,\u001b[32m3\u001b[39m])\n\u001b[32m      2\u001b[39m b = np.array([-\u001b[32m1\u001b[39m,\u001b[32m12\u001b[39m,\u001b[32m3\u001b[39m,\u001b[32m6\u001b[39m])\n\u001b[32m----> \u001b[39m\u001b[32m4\u001b[39m \u001b[43mdotproduct\u001b[49m\u001b[43m(\u001b[49m\u001b[43ma\u001b[49m\u001b[43m,\u001b[49m\u001b[43mb\u001b[49m\u001b[43m)\u001b[49m\n",
      "\u001b[36mCell\u001b[39m\u001b[36m \u001b[39m\u001b[32mIn[107]\u001b[39m\u001b[32m, line 18\u001b[39m, in \u001b[36mdotproduct\u001b[39m\u001b[34m(a, b)\u001b[39m\n\u001b[32m     16\u001b[39m \u001b[38;5;66;03m#check that both vectors are same length\u001b[39;00m\n\u001b[32m     17\u001b[39m \u001b[38;5;28;01mif\u001b[39;00m \u001b[38;5;129;01mnot\u001b[39;00m \u001b[38;5;28mlen\u001b[39m(a) == \u001b[38;5;28mlen\u001b[39m(b):\n\u001b[32m---> \u001b[39m\u001b[32m18\u001b[39m     \u001b[38;5;28;01mraise\u001b[39;00m \u001b[38;5;167;01mException\u001b[39;00m(\u001b[33m'\u001b[39m\u001b[33mBoth Arrays are not equal length\u001b[39m\u001b[33m'\u001b[39m)\n\u001b[32m     19\u001b[39m \u001b[38;5;28;01mreturn\u001b[39;00m np.dot(a,b)\n",
      "\u001b[31mException\u001b[39m: Both Arrays are not equal length"
     ]
    }
   ],
   "source": [
    "a = np.array([1,2,3])\n",
    "b = np.array([-1,12,3,6])\n",
    "# unequal lengths\n",
    "dotproduct(a,b)"
   ]
  },
  {
   "cell_type": "code",
   "execution_count": 110,
   "id": "dcd62797-56db-4558-9e7c-2231edb6cacb",
   "metadata": {},
   "outputs": [
    {
     "ename": "Exception",
     "evalue": "Inputs must be numpy arrays",
     "output_type": "error",
     "traceback": [
      "\u001b[31m---------------------------------------------------------------------------\u001b[39m",
      "\u001b[31mException\u001b[39m                                 Traceback (most recent call last)",
      "\u001b[36mCell\u001b[39m\u001b[36m \u001b[39m\u001b[32mIn[110]\u001b[39m\u001b[32m, line 4\u001b[39m\n\u001b[32m      1\u001b[39m a = np.array([\u001b[32m1\u001b[39m,\u001b[32m2\u001b[39m,\u001b[32m3\u001b[39m,\u001b[32m4\u001b[39m])\n\u001b[32m      2\u001b[39m b = [-\u001b[32m1\u001b[39m,\u001b[32m12\u001b[39m,\u001b[32m3\u001b[39m,\u001b[32m6\u001b[39m]\n\u001b[32m----> \u001b[39m\u001b[32m4\u001b[39m \u001b[43mdotproduct\u001b[49m\u001b[43m(\u001b[49m\u001b[43ma\u001b[49m\u001b[43m,\u001b[49m\u001b[43mb\u001b[49m\u001b[43m)\u001b[49m\n",
      "\u001b[36mCell\u001b[39m\u001b[36m \u001b[39m\u001b[32mIn[107]\u001b[39m\u001b[32m, line 15\u001b[39m, in \u001b[36mdotproduct\u001b[39m\u001b[34m(a, b)\u001b[39m\n\u001b[32m     12\u001b[39m \u001b[38;5;28;01mdef\u001b[39;00m\u001b[38;5;250m \u001b[39m\u001b[34mdotproduct\u001b[39m(a,b):\n\u001b[32m     13\u001b[39m     \u001b[38;5;66;03m# check that both vectors are numpy arrays\u001b[39;00m\n\u001b[32m     14\u001b[39m     \u001b[38;5;28;01mif\u001b[39;00m \u001b[38;5;129;01mnot\u001b[39;00m (\u001b[38;5;28misinstance\u001b[39m(a,np.ndarray) \u001b[38;5;129;01mand\u001b[39;00m \u001b[38;5;28misinstance\u001b[39m(b, np.ndarray)):\n\u001b[32m---> \u001b[39m\u001b[32m15\u001b[39m         \u001b[38;5;28;01mraise\u001b[39;00m \u001b[38;5;167;01mException\u001b[39;00m(\u001b[33m'\u001b[39m\u001b[33mInputs must be numpy arrays\u001b[39m\u001b[33m'\u001b[39m)\n\u001b[32m     16\u001b[39m     \u001b[38;5;66;03m#check that both vectors are same length\u001b[39;00m\n\u001b[32m     17\u001b[39m     \u001b[38;5;28;01mif\u001b[39;00m \u001b[38;5;129;01mnot\u001b[39;00m \u001b[38;5;28mlen\u001b[39m(a) == \u001b[38;5;28mlen\u001b[39m(b):\n",
      "\u001b[31mException\u001b[39m: Inputs must be numpy arrays"
     ]
    }
   ],
   "source": [
    "a = np.array([1,2,3,4])\n",
    "b = [-1,12,3,6]\n",
    "# not equal type\n",
    "dotproduct(a,b)"
   ]
  },
  {
   "cell_type": "code",
   "execution_count": null,
   "id": "8ac07c91-e6ae-434d-b2bf-ef42d45f5c43",
   "metadata": {},
   "outputs": [],
   "source": []
  }
 ],
 "metadata": {
  "kernelspec": {
   "display_name": "Python 3 (ipykernel)",
   "language": "python",
   "name": "python3"
  },
  "language_info": {
   "codemirror_mode": {
    "name": "ipython",
    "version": 3
   },
   "file_extension": ".py",
   "mimetype": "text/x-python",
   "name": "python",
   "nbconvert_exporter": "python",
   "pygments_lexer": "ipython3",
   "version": "3.12.10"
  }
 },
 "nbformat": 4,
 "nbformat_minor": 5
}
