{
 "cells": [
  {
   "cell_type": "code",
   "execution_count": 1,
   "id": "585b56ff-69f7-4e9b-b353-7c950db70466",
   "metadata": {},
   "outputs": [],
   "source": [
    "# writing custom functions\n",
    "# lets start simple\n",
    "\n",
    "def newFunction():\n",
    "    print(1+1) "
   ]
  },
  {
   "cell_type": "code",
   "execution_count": 4,
   "id": "0b65e708-3647-45eb-aa40-a818d53e3b84",
   "metadata": {},
   "outputs": [
    {
     "data": {
      "text/plain": [
       "<function __main__.newFunction()>"
      ]
     },
     "execution_count": 4,
     "metadata": {},
     "output_type": "execute_result"
    }
   ],
   "source": [
    "newFunction # function is defined"
   ]
  },
  {
   "cell_type": "code",
   "execution_count": 5,
   "id": "66f400ca-49f8-451f-bcc1-b7961dcd19ce",
   "metadata": {},
   "outputs": [
    {
     "name": "stdout",
     "output_type": "stream",
     "text": [
      "2\n"
     ]
    }
   ],
   "source": [
    "# need to call it for it to work\n",
    "newFunction()"
   ]
  },
  {
   "cell_type": "code",
   "execution_count": 11,
   "id": "34b2f8d3-7a64-477f-a290-9a8482dbe2a3",
   "metadata": {},
   "outputs": [
    {
     "data": {
      "text/plain": [
       "5"
      ]
     },
     "execution_count": 11,
     "metadata": {},
     "output_type": "execute_result"
    }
   ],
   "source": [
    "# lets do another\n",
    "def inputFunction(input1, input2):\n",
    "    return(input1 + input2)\n",
    "\n",
    "inputFunction(2,3) # we inserted values for each input"
   ]
  },
  {
   "cell_type": "code",
   "execution_count": 12,
   "id": "2caca18e-922f-4574-ab25-d50c7701b18f",
   "metadata": {},
   "outputs": [
    {
     "data": {
      "text/plain": [
       "'Hello World'"
      ]
     },
     "execution_count": 12,
     "metadata": {},
     "output_type": "execute_result"
    }
   ],
   "source": [
    "inputFunction('Hello ', 'World') #again we inserted to input values"
   ]
  },
  {
   "cell_type": "code",
   "execution_count": 13,
   "id": "4a3d55f0-62b4-44a1-b27b-dc67730c41d5",
   "metadata": {},
   "outputs": [
    {
     "data": {
      "text/plain": [
       "400"
      ]
     },
     "execution_count": 13,
     "metadata": {},
     "output_type": "execute_result"
    }
   ],
   "source": [
    "result = inputFunction(100, 300) # we can equate a variable to the function\n",
    "\n",
    "result"
   ]
  },
  {
   "cell_type": "code",
   "execution_count": 14,
   "id": "20d12834-7107-4d7b-a9af-20fbf22c26a0",
   "metadata": {},
   "outputs": [
    {
     "data": {
      "text/plain": [
       "5"
      ]
     },
     "execution_count": 14,
     "metadata": {},
     "output_type": "execute_result"
    }
   ],
   "source": [
    "# lets do more to it\n",
    "def inputFunction2(input1, input2):\n",
    "    res = input1+input2\n",
    "    return res\n",
    "\n",
    "inputFunction2(2,3) # we inserted values for each input"
   ]
  },
  {
   "cell_type": "code",
   "execution_count": 18,
   "id": "8aeb9a49-d31c-4806-abf1-7a2ecc6a4caf",
   "metadata": {},
   "outputs": [
    {
     "data": {
      "text/plain": [
       "(6, 5)"
      ]
     },
     "execution_count": 18,
     "metadata": {},
     "output_type": "execute_result"
    }
   ],
   "source": [
    "# and more...\n",
    "def inputFunction2(input1, input2):\n",
    "    prod = input1*input2\n",
    "    summ = input1+input2\n",
    "    return prod, summ # here with multiple return values we have a tuple\n",
    "\n",
    "inputFunction2(2,3) # we inserted values for each input"
   ]
  },
  {
   "cell_type": "code",
   "execution_count": 23,
   "id": "f959289a-bfe9-4a3b-b649-99334a586ffb",
   "metadata": {},
   "outputs": [
    {
     "name": "stdout",
     "output_type": "stream",
     "text": [
      "<class 'tuple'>\n"
     ]
    },
    {
     "data": {
      "text/plain": [
       "(6, 5)"
      ]
     },
     "execution_count": 23,
     "metadata": {},
     "output_type": "execute_result"
    }
   ],
   "source": [
    "result2 = inputFunction2(2,3)\n",
    "\n",
    "result2\n",
    "print(type(result2))\n",
    "result2"
   ]
  },
  {
   "cell_type": "code",
   "execution_count": 25,
   "id": "cbb6f625-df26-42c6-9d53-205deb834bcf",
   "metadata": {},
   "outputs": [
    {
     "data": {
      "text/plain": [
       "6"
      ]
     },
     "execution_count": 25,
     "metadata": {},
     "output_type": "execute_result"
    }
   ],
   "source": [
    "result2[0] # we can access the tuple index"
   ]
  },
  {
   "cell_type": "code",
   "execution_count": 27,
   "id": "8a717621-cad7-4e65-a074-37d6856c11e3",
   "metadata": {},
   "outputs": [
    {
     "data": {
      "text/plain": [
       "48"
      ]
     },
     "execution_count": 27,
     "metadata": {},
     "output_type": "execute_result"
    }
   ],
   "source": [
    "# lambda function -- compact functions -- very simple and short\n",
    "\n",
    "functName = lambda x : x**2 - 1\n",
    "\n",
    "functName(7)"
   ]
  },
  {
   "cell_type": "code",
   "execution_count": 48,
   "id": "48cf81a7-0f2e-4bc1-b1a4-bc77216756ff",
   "metadata": {},
   "outputs": [],
   "source": [
    "# lets create a function that computes as a factorial int! i.e. 4! = 4*3*2*1 then compare against math.factorial\n",
    "import numpy as np"
   ]
  },
  {
   "cell_type": "code",
   "execution_count": 52,
   "id": "7131d865-4648-4eb9-b6ac-4a4d32444811",
   "metadata": {},
   "outputs": [],
   "source": [
    "\n",
    "def factorialFunction(n):\n",
    "    return np.prod(np.arange(1,n+1))"
   ]
  },
  {
   "cell_type": "code",
   "execution_count": 59,
   "id": "246336e8-83cf-4ca0-ade1-2f0cec1b6daf",
   "metadata": {},
   "outputs": [
    {
     "name": "stdout",
     "output_type": "stream",
     "text": [
      "24\n",
      "120\n",
      "479001600\n"
     ]
    }
   ],
   "source": [
    "print(factorialFunction(4))\n",
    "print(factorialFunction(5))\n",
    "print(factorialFunction(12))"
   ]
  },
  {
   "cell_type": "code",
   "execution_count": 63,
   "id": "62efd962-d155-43e4-9d51-3e78cb3caba6",
   "metadata": {},
   "outputs": [
    {
     "name": "stdout",
     "output_type": "stream",
     "text": [
      "20922789888000 20922789888000\n",
      "True\n"
     ]
    }
   ],
   "source": [
    "import math\n",
    "\n",
    "y = 16\n",
    "print(factorialFunction(y), math.factorial(y))\n",
    "print(factorialFunction(y) == math.factorial(y))"
   ]
  },
  {
   "cell_type": "code",
   "execution_count": null,
   "id": "9016033b-6c20-4c3d-8a9c-f5cdcea213fe",
   "metadata": {},
   "outputs": [],
   "source": []
  }
 ],
 "metadata": {
  "kernelspec": {
   "display_name": "Python 3 (ipykernel)",
   "language": "python",
   "name": "python3"
  },
  "language_info": {
   "codemirror_mode": {
    "name": "ipython",
    "version": 3
   },
   "file_extension": ".py",
   "mimetype": "text/x-python",
   "name": "python",
   "nbconvert_exporter": "python",
   "pygments_lexer": "ipython3",
   "version": "3.12.10"
  }
 },
 "nbformat": 4,
 "nbformat_minor": 5
}
