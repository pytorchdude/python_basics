{
 "cells": [
  {
   "cell_type": "code",
   "execution_count": 4,
   "id": "1834a7df-1a9f-4fe8-986e-150a2628f407",
   "metadata": {},
   "outputs": [],
   "source": [
    "# iniitializing variables -- using flow control -- need to initialize variables before for loops \n",
    "import numpy as np"
   ]
  },
  {
   "cell_type": "code",
   "execution_count": 23,
   "id": "69f1c43c-527e-4144-855e-207a188d2d24",
   "metadata": {},
   "outputs": [
    {
     "name": "stdout",
     "output_type": "stream",
     "text": [
      "[ 0.  1.  4.  9. 16. 25. 36. 49. 64. 81.]\n"
     ]
    }
   ],
   "source": [
    "N = 10\n",
    "r = np.zeros(N)    # initialized before loop -- list\n",
    "\n",
    "for i in range(N):\n",
    "    r[i] = i**2\n",
    "\n",
    "print(r)"
   ]
  },
  {
   "cell_type": "code",
   "execution_count": 24,
   "id": "e5c8273d-6f60-4667-8342-1cc8a25aec17",
   "metadata": {},
   "outputs": [
    {
     "data": {
      "text/plain": [
       "array([ 0.,  1.,  4.,  9., 16., 25., 36., 49., 64., 81.])"
      ]
     },
     "execution_count": 24,
     "metadata": {},
     "output_type": "execute_result"
    }
   ],
   "source": [
    "r"
   ]
  },
  {
   "cell_type": "code",
   "execution_count": 25,
   "id": "5e831741-e848-4c7c-89c1-4432efb1081e",
   "metadata": {},
   "outputs": [],
   "source": [
    "del r   # deletes variable"
   ]
  },
  {
   "cell_type": "code",
   "execution_count": 26,
   "id": "bf0ef547-2cd6-45ad-b815-4ffcb795e303",
   "metadata": {},
   "outputs": [
    {
     "ename": "NameError",
     "evalue": "name 'r' is not defined",
     "output_type": "error",
     "traceback": [
      "\u001b[31m---------------------------------------------------------------------------\u001b[39m",
      "\u001b[31mNameError\u001b[39m                                 Traceback (most recent call last)",
      "\u001b[36mCell\u001b[39m\u001b[36m \u001b[39m\u001b[32mIn[26]\u001b[39m\u001b[32m, line 1\u001b[39m\n\u001b[32m----> \u001b[39m\u001b[32m1\u001b[39m \u001b[43mr\u001b[49m\n",
      "\u001b[31mNameError\u001b[39m: name 'r' is not defined"
     ]
    }
   ],
   "source": [
    "r"
   ]
  },
  {
   "cell_type": "code",
   "execution_count": 28,
   "id": "d0f6bee3-2538-43fa-b7cb-1c37f67d68c5",
   "metadata": {},
   "outputs": [
    {
     "data": {
      "text/plain": [
       "array([[0., 0., 0., 0., 0.],\n",
       "       [0., 0., 0., 0., 0.],\n",
       "       [0., 0., 0., 0., 0.],\n",
       "       [0., 0., 0., 0., 0.]])"
      ]
     },
     "execution_count": 28,
     "metadata": {},
     "output_type": "execute_result"
    }
   ],
   "source": [
    "shape = (4,5)         # create a shape variable\n",
    "r = np.zeros(shape)   # zeros doesn't take a shape as does np.random.randn(x,y) to give a matrix\n",
    "\n",
    "r"
   ]
  },
  {
   "cell_type": "code",
   "execution_count": 32,
   "id": "fa1c0c7c-fd8b-40b8-8693-06985d4abc56",
   "metadata": {},
   "outputs": [
    {
     "data": {
      "text/plain": [
       "array([0.0000000e+00, 1.0000000e+00, 4.0000000e+00, ..., 9.9940009e+07,\n",
       "       9.9960004e+07, 9.9980001e+07], shape=(10000,))"
      ]
     },
     "execution_count": 32,
     "metadata": {},
     "output_type": "execute_result"
    }
   ],
   "source": [
    "# append method \n",
    "N = 10000                \n",
    "r = np.array([])\n",
    "\n",
    "for i in range(N):\n",
    "    r = np.append(r,i**2)\n",
    "\n",
    "r"
   ]
  },
  {
   "cell_type": "code",
   "execution_count": 30,
   "id": "8739b4ac-41ea-4840-8247-bc7a8a67ecee",
   "metadata": {},
   "outputs": [],
   "source": [
    "# letgs compare 3 methods of creating an array -- N = 10000 r[i] = i**2 \n",
    "# time test! import time time.perf_counter\n",
    "import time"
   ]
  },
  {
   "cell_type": "code",
   "execution_count": 49,
   "id": "75bbadc0-f5cf-4749-bcf1-e06cd4e1bd4b",
   "metadata": {},
   "outputs": [
    {
     "data": {
      "text/plain": [
       "[0.7853999850340188, 22.125999996205792, 0.6711999885737896]"
      ]
     },
     "execution_count": 49,
     "metadata": {},
     "output_type": "execute_result"
    }
   ],
   "source": [
    "N = 10000\n",
    "toc = [0]*3\n",
    "\n",
    "# list append method\n",
    "tic = time.perf_counter()\n",
    "r = []\n",
    "for i in range(N):\n",
    "    r.append(i**2)\n",
    "toc[0] = (time.perf_counter() - tic)*1000\n",
    "\n",
    "    \n",
    "# numpy append method\n",
    "tic = time.perf_counter()\n",
    "r = np.array([])\n",
    "\n",
    "for i in range(N):\n",
    "    r = np.append(r,i**2)\n",
    "toc[1] = (time.perf_counter() - tic)*1000\n",
    "\n",
    "    \n",
    "# numpy initialization method\n",
    "tic = time.perf_counter()\n",
    "r = np.zeros(N)    # initialized before loop -- list\n",
    "\n",
    "for i in range(N):\n",
    "    r[i] = i**2\n",
    "toc[2] = (time.perf_counter() - tic)*1000\n",
    "\n",
    "toc\n",
    "# we can see that the numpy append method is the slowest - especially as the numbers grow \n",
    "# list append is usually the quickest\n",
    "# good primer for deep learning"
   ]
  },
  {
   "cell_type": "code",
   "execution_count": null,
   "id": "35f6bcc2-a7d4-4b7b-8d36-99fc141d510c",
   "metadata": {},
   "outputs": [],
   "source": []
  }
 ],
 "metadata": {
  "kernelspec": {
   "display_name": "Python 3 (ipykernel)",
   "language": "python",
   "name": "python3"
  },
  "language_info": {
   "codemirror_mode": {
    "name": "ipython",
    "version": 3
   },
   "file_extension": ".py",
   "mimetype": "text/x-python",
   "name": "python",
   "nbconvert_exporter": "python",
   "pygments_lexer": "ipython3",
   "version": "3.12.10"
  }
 },
 "nbformat": 4,
 "nbformat_minor": 5
}
