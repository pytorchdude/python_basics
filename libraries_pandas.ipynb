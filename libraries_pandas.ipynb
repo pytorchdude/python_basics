{
 "cells": [
  {
   "cell_type": "code",
   "execution_count": 3,
   "id": "919473eb-8ada-4435-8acb-1c5ea49169c3",
   "metadata": {},
   "outputs": [],
   "source": [
    "import numpy as np\n",
    "import pandas as pd # for data set for observations by features 2 dimensions"
   ]
  },
  {
   "cell_type": "code",
   "execution_count": 6,
   "id": "40ed5652-c7f8-47f0-8e2b-7a07cec5bd3a",
   "metadata": {},
   "outputs": [
    {
     "data": {
      "text/plain": [
       "-0.15489854911816864"
      ]
     },
     "execution_count": 6,
     "metadata": {},
     "output_type": "execute_result"
    }
   ],
   "source": [
    "# random data\n",
    "np.random.randn()"
   ]
  },
  {
   "cell_type": "code",
   "execution_count": 7,
   "id": "81fe98bc-4e05-4074-909b-bc37d5705f6a",
   "metadata": {},
   "outputs": [
    {
     "data": {
      "text/plain": [
       "array([ 1.62644419, -0.50722128,  0.2454699 ,  0.3090371 ,  1.70119621])"
      ]
     },
     "execution_count": 7,
     "metadata": {},
     "output_type": "execute_result"
    }
   ],
   "source": [
    "np.random.randn(5) # array"
   ]
  },
  {
   "cell_type": "code",
   "execution_count": 8,
   "id": "387817fb-1d93-4662-8dcc-a5c38a780bc9",
   "metadata": {},
   "outputs": [
    {
     "data": {
      "text/plain": [
       "array([[-0.77683415,  0.19405406, -1.14188176, -0.71765273,  0.29504205],\n",
       "       [ 0.71852813, -0.11785364,  0.93462902, -0.20565271, -0.12425032],\n",
       "       [-0.88330342,  0.55644248, -0.09560278,  1.11494653, -0.65838435],\n",
       "       [ 0.3592987 ,  0.42617172,  1.19054629, -0.77388764, -0.60601551],\n",
       "       [-0.31229244, -0.61144655,  1.48909345, -1.07097835, -0.28665024]])"
      ]
     },
     "execution_count": 8,
     "metadata": {},
     "output_type": "execute_result"
    }
   ],
   "source": [
    "np.random.randn(5,5) # matrix"
   ]
  },
  {
   "cell_type": "code",
   "execution_count": 13,
   "id": "14436137-9c20-4a02-a8e3-f64e3e0eea95",
   "metadata": {},
   "outputs": [
    {
     "data": {
      "text/plain": [
       "{'temp (c)': array([ 4.93855792, 25.93371525, 10.95422312, 22.02262248, 22.63366908,\n",
       "        22.74583981, 17.45226445, 24.67939913, 26.91316466, 13.00004373,\n",
       "        18.72882226, 11.66632365, 20.02925968, 21.66095807, 18.58122103,\n",
       "        18.99876492, 25.88030308, 20.36672977, 18.0662299 , 17.88421199,\n",
       "        19.1899849 , 22.72732058, 21.20151193, 13.60545054, 19.00305139,\n",
       "        11.93660288, 25.92572511, 23.70551201, 25.86725061, 15.58842421,\n",
       "        27.80018923, 13.37952821, 18.44320542, 19.94687173, 15.13502455,\n",
       "        22.77710254, 26.49169288, 18.05824526, 16.29057143, 24.47342305,\n",
       "        15.30429276, 19.65270036, 16.58480842, 26.34178094, 21.14319893,\n",
       "        23.38243691, 20.83531666, 20.34787537, 24.405107  , 20.27457344,\n",
       "        17.6594231 , 14.54770243, 22.70288111, 19.92491185, 13.93624848,\n",
       "        18.47835134, 28.76887782, 20.68673491, 14.09719156, 20.14793458,\n",
       "        12.81794537, 23.82287155, 12.75525118, 19.12880543, 22.23590196,\n",
       "        15.21925631, 19.06441776, 15.9468371 , 12.28001881, 17.63511836,\n",
       "        18.31378952, 23.28782299, 20.4103978 , 25.1480751 , 24.94459895,\n",
       "        20.54160222, 17.67459632, 22.54702721, 24.8071153 , 26.90450005,\n",
       "        19.92922472, 27.28940109, 22.30143643, 21.2304882 , 23.06877215,\n",
       "        28.51350143, 12.24190358, 24.95966523, 16.59446703,  9.78038004,\n",
       "        16.65270335, 26.68767874, 23.83306926, 17.72201638, 16.11087042,\n",
       "        29.93348023, 27.25018949, 24.68529068, 25.89718249, 10.45326394]),\n",
       " 'ice cream eaten': array([False, False,  True,  True,  True, False,  True,  True,  True,\n",
       "        False, False,  True,  True, False, False, False,  True,  True,\n",
       "        False,  True, False,  True, False, False, False,  True,  True,\n",
       "         True, False,  True, False,  True, False, False, False, False,\n",
       "         True, False, False,  True, False, False, False,  True,  True,\n",
       "         True, False, False,  True,  True,  True,  True, False,  True,\n",
       "         True,  True,  True,  True,  True, False,  True,  True, False,\n",
       "        False,  True, False,  True,  True, False, False, False,  True,\n",
       "        False,  True, False,  True, False, False,  True,  True, False,\n",
       "         True,  True,  True,  True,  True, False,  True, False, False,\n",
       "        False,  True, False,  True,  True, False, False,  True,  True,\n",
       "         True])}"
      ]
     },
     "execution_count": 13,
     "metadata": {},
     "output_type": "execute_result"
    }
   ],
   "source": [
    "var1 = np.random.randn(100)*5 + 20 # 1 dim vector\n",
    "var2 = np.random.randn(100)>0\n",
    "\n",
    "# LABELS\n",
    "labels = [ 'temp (c)', 'ice cream eaten' ]\n",
    "\n",
    "# put together into dictionary\n",
    "D = { labels[0]:var1, labels[1]:var2 }\n",
    "D"
   ]
  },
  {
   "cell_type": "code",
   "execution_count": 15,
   "id": "1e6438bc-8caa-4f7b-8616-36601dd3e2e3",
   "metadata": {},
   "outputs": [
    {
     "data": {
      "text/html": [
       "<div>\n",
       "<style scoped>\n",
       "    .dataframe tbody tr th:only-of-type {\n",
       "        vertical-align: middle;\n",
       "    }\n",
       "\n",
       "    .dataframe tbody tr th {\n",
       "        vertical-align: top;\n",
       "    }\n",
       "\n",
       "    .dataframe thead th {\n",
       "        text-align: right;\n",
       "    }\n",
       "</style>\n",
       "<table border=\"1\" class=\"dataframe\">\n",
       "  <thead>\n",
       "    <tr style=\"text-align: right;\">\n",
       "      <th></th>\n",
       "      <th>temp (c)</th>\n",
       "      <th>ice cream eaten</th>\n",
       "    </tr>\n",
       "  </thead>\n",
       "  <tbody>\n",
       "    <tr>\n",
       "      <th>0</th>\n",
       "      <td>4.938558</td>\n",
       "      <td>False</td>\n",
       "    </tr>\n",
       "    <tr>\n",
       "      <th>1</th>\n",
       "      <td>25.933715</td>\n",
       "      <td>False</td>\n",
       "    </tr>\n",
       "    <tr>\n",
       "      <th>2</th>\n",
       "      <td>10.954223</td>\n",
       "      <td>True</td>\n",
       "    </tr>\n",
       "    <tr>\n",
       "      <th>3</th>\n",
       "      <td>22.022622</td>\n",
       "      <td>True</td>\n",
       "    </tr>\n",
       "    <tr>\n",
       "      <th>4</th>\n",
       "      <td>22.633669</td>\n",
       "      <td>True</td>\n",
       "    </tr>\n",
       "    <tr>\n",
       "      <th>...</th>\n",
       "      <td>...</td>\n",
       "      <td>...</td>\n",
       "    </tr>\n",
       "    <tr>\n",
       "      <th>95</th>\n",
       "      <td>29.933480</td>\n",
       "      <td>False</td>\n",
       "    </tr>\n",
       "    <tr>\n",
       "      <th>96</th>\n",
       "      <td>27.250189</td>\n",
       "      <td>False</td>\n",
       "    </tr>\n",
       "    <tr>\n",
       "      <th>97</th>\n",
       "      <td>24.685291</td>\n",
       "      <td>True</td>\n",
       "    </tr>\n",
       "    <tr>\n",
       "      <th>98</th>\n",
       "      <td>25.897182</td>\n",
       "      <td>True</td>\n",
       "    </tr>\n",
       "    <tr>\n",
       "      <th>99</th>\n",
       "      <td>10.453264</td>\n",
       "      <td>True</td>\n",
       "    </tr>\n",
       "  </tbody>\n",
       "</table>\n",
       "<p>100 rows × 2 columns</p>\n",
       "</div>"
      ],
      "text/plain": [
       "     temp (c)  ice cream eaten\n",
       "0    4.938558            False\n",
       "1   25.933715            False\n",
       "2   10.954223             True\n",
       "3   22.022622             True\n",
       "4   22.633669             True\n",
       "..        ...              ...\n",
       "95  29.933480            False\n",
       "96  27.250189            False\n",
       "97  24.685291             True\n",
       "98  25.897182             True\n",
       "99  10.453264             True\n",
       "\n",
       "[100 rows x 2 columns]"
      ]
     },
     "execution_count": 15,
     "metadata": {},
     "output_type": "execute_result"
    }
   ],
   "source": [
    "#import into a pandas dataframe - combine the labels into rows/cols\n",
    "df = pd.DataFrame(data=D)\n",
    "df"
   ]
  },
  {
   "cell_type": "code",
   "execution_count": 16,
   "id": "b6c476ba-bd09-444c-aa2a-be0316f7570e",
   "metadata": {},
   "outputs": [
    {
     "data": {
      "text/plain": [
       "pandas.core.frame.DataFrame"
      ]
     },
     "execution_count": 16,
     "metadata": {},
     "output_type": "execute_result"
    }
   ],
   "source": [
    "type(df)"
   ]
  },
  {
   "cell_type": "code",
   "execution_count": 17,
   "id": "c19428da-6ac4-4241-aa61-aac1d9a4e1f4",
   "metadata": {},
   "outputs": [
    {
     "data": {
      "text/html": [
       "<div>\n",
       "<style scoped>\n",
       "    .dataframe tbody tr th:only-of-type {\n",
       "        vertical-align: middle;\n",
       "    }\n",
       "\n",
       "    .dataframe tbody tr th {\n",
       "        vertical-align: top;\n",
       "    }\n",
       "\n",
       "    .dataframe thead th {\n",
       "        text-align: right;\n",
       "    }\n",
       "</style>\n",
       "<table border=\"1\" class=\"dataframe\">\n",
       "  <thead>\n",
       "    <tr style=\"text-align: right;\">\n",
       "      <th></th>\n",
       "      <th>temp (c)</th>\n",
       "      <th>ice cream eaten</th>\n",
       "    </tr>\n",
       "  </thead>\n",
       "  <tbody>\n",
       "    <tr>\n",
       "      <th>0</th>\n",
       "      <td>4.938558</td>\n",
       "      <td>False</td>\n",
       "    </tr>\n",
       "    <tr>\n",
       "      <th>1</th>\n",
       "      <td>25.933715</td>\n",
       "      <td>False</td>\n",
       "    </tr>\n",
       "    <tr>\n",
       "      <th>2</th>\n",
       "      <td>10.954223</td>\n",
       "      <td>True</td>\n",
       "    </tr>\n",
       "    <tr>\n",
       "      <th>3</th>\n",
       "      <td>22.022622</td>\n",
       "      <td>True</td>\n",
       "    </tr>\n",
       "    <tr>\n",
       "      <th>4</th>\n",
       "      <td>22.633669</td>\n",
       "      <td>True</td>\n",
       "    </tr>\n",
       "  </tbody>\n",
       "</table>\n",
       "</div>"
      ],
      "text/plain": [
       "    temp (c)  ice cream eaten\n",
       "0   4.938558            False\n",
       "1  25.933715            False\n",
       "2  10.954223             True\n",
       "3  22.022622             True\n",
       "4  22.633669             True"
      ]
     },
     "execution_count": 17,
     "metadata": {},
     "output_type": "execute_result"
    }
   ],
   "source": [
    "df.head() # takes top 5 rows"
   ]
  },
  {
   "cell_type": "code",
   "execution_count": 18,
   "id": "760302a0-3475-4882-a763-9f5513b2c9a9",
   "metadata": {},
   "outputs": [
    {
     "data": {
      "text/plain": [
       "temp (c)           100\n",
       "ice cream eaten    100\n",
       "dtype: int64"
      ]
     },
     "execution_count": 18,
     "metadata": {},
     "output_type": "execute_result"
    }
   ],
   "source": [
    "df.count()"
   ]
  },
  {
   "cell_type": "code",
   "execution_count": 19,
   "id": "7abf2d83-be6d-4f5a-8548-5d399d79ad2f",
   "metadata": {},
   "outputs": [
    {
     "data": {
      "text/plain": [
       "temp (c)           20.045263\n",
       "ice cream eaten     0.540000\n",
       "dtype: float64"
      ]
     },
     "execution_count": 19,
     "metadata": {},
     "output_type": "execute_result"
    }
   ],
   "source": [
    "df.mean()"
   ]
  },
  {
   "cell_type": "code",
   "execution_count": 21,
   "id": "f7b5912b-8309-406e-a507-22e2ae98538b",
   "metadata": {},
   "outputs": [
    {
     "data": {
      "text/html": [
       "<div>\n",
       "<style scoped>\n",
       "    .dataframe tbody tr th:only-of-type {\n",
       "        vertical-align: middle;\n",
       "    }\n",
       "\n",
       "    .dataframe tbody tr th {\n",
       "        vertical-align: top;\n",
       "    }\n",
       "\n",
       "    .dataframe thead th {\n",
       "        text-align: right;\n",
       "    }\n",
       "</style>\n",
       "<table border=\"1\" class=\"dataframe\">\n",
       "  <thead>\n",
       "    <tr style=\"text-align: right;\">\n",
       "      <th></th>\n",
       "      <th>temp (c)</th>\n",
       "      <th>ice cream eaten</th>\n",
       "    </tr>\n",
       "  </thead>\n",
       "  <tbody>\n",
       "    <tr>\n",
       "      <th>95</th>\n",
       "      <td>29.933480</td>\n",
       "      <td>False</td>\n",
       "    </tr>\n",
       "    <tr>\n",
       "      <th>96</th>\n",
       "      <td>27.250189</td>\n",
       "      <td>False</td>\n",
       "    </tr>\n",
       "    <tr>\n",
       "      <th>97</th>\n",
       "      <td>24.685291</td>\n",
       "      <td>True</td>\n",
       "    </tr>\n",
       "    <tr>\n",
       "      <th>98</th>\n",
       "      <td>25.897182</td>\n",
       "      <td>True</td>\n",
       "    </tr>\n",
       "    <tr>\n",
       "      <th>99</th>\n",
       "      <td>10.453264</td>\n",
       "      <td>True</td>\n",
       "    </tr>\n",
       "  </tbody>\n",
       "</table>\n",
       "</div>"
      ],
      "text/plain": [
       "     temp (c)  ice cream eaten\n",
       "95  29.933480            False\n",
       "96  27.250189            False\n",
       "97  24.685291             True\n",
       "98  25.897182             True\n",
       "99  10.453264             True"
      ]
     },
     "execution_count": 21,
     "metadata": {},
     "output_type": "execute_result"
    }
   ],
   "source": [
    "df.tail() # takes last 5 rows"
   ]
  },
  {
   "cell_type": "code",
   "execution_count": 22,
   "id": "36919194-f646-40bd-b08a-9277b20046f1",
   "metadata": {},
   "outputs": [
    {
     "data": {
      "text/html": [
       "<div>\n",
       "<style scoped>\n",
       "    .dataframe tbody tr th:only-of-type {\n",
       "        vertical-align: middle;\n",
       "    }\n",
       "\n",
       "    .dataframe tbody tr th {\n",
       "        vertical-align: top;\n",
       "    }\n",
       "\n",
       "    .dataframe thead th {\n",
       "        text-align: right;\n",
       "    }\n",
       "</style>\n",
       "<table border=\"1\" class=\"dataframe\">\n",
       "  <thead>\n",
       "    <tr style=\"text-align: right;\">\n",
       "      <th></th>\n",
       "      <th>temp (c)</th>\n",
       "      <th>ice cream eaten</th>\n",
       "    </tr>\n",
       "  </thead>\n",
       "  <tbody>\n",
       "    <tr>\n",
       "      <th>80</th>\n",
       "      <td>19.929225</td>\n",
       "      <td>False</td>\n",
       "    </tr>\n",
       "    <tr>\n",
       "      <th>81</th>\n",
       "      <td>27.289401</td>\n",
       "      <td>True</td>\n",
       "    </tr>\n",
       "    <tr>\n",
       "      <th>82</th>\n",
       "      <td>22.301436</td>\n",
       "      <td>True</td>\n",
       "    </tr>\n",
       "    <tr>\n",
       "      <th>83</th>\n",
       "      <td>21.230488</td>\n",
       "      <td>True</td>\n",
       "    </tr>\n",
       "    <tr>\n",
       "      <th>84</th>\n",
       "      <td>23.068772</td>\n",
       "      <td>True</td>\n",
       "    </tr>\n",
       "    <tr>\n",
       "      <th>85</th>\n",
       "      <td>28.513501</td>\n",
       "      <td>True</td>\n",
       "    </tr>\n",
       "    <tr>\n",
       "      <th>86</th>\n",
       "      <td>12.241904</td>\n",
       "      <td>False</td>\n",
       "    </tr>\n",
       "    <tr>\n",
       "      <th>87</th>\n",
       "      <td>24.959665</td>\n",
       "      <td>True</td>\n",
       "    </tr>\n",
       "    <tr>\n",
       "      <th>88</th>\n",
       "      <td>16.594467</td>\n",
       "      <td>False</td>\n",
       "    </tr>\n",
       "    <tr>\n",
       "      <th>89</th>\n",
       "      <td>9.780380</td>\n",
       "      <td>False</td>\n",
       "    </tr>\n",
       "    <tr>\n",
       "      <th>90</th>\n",
       "      <td>16.652703</td>\n",
       "      <td>False</td>\n",
       "    </tr>\n",
       "    <tr>\n",
       "      <th>91</th>\n",
       "      <td>26.687679</td>\n",
       "      <td>True</td>\n",
       "    </tr>\n",
       "    <tr>\n",
       "      <th>92</th>\n",
       "      <td>23.833069</td>\n",
       "      <td>False</td>\n",
       "    </tr>\n",
       "    <tr>\n",
       "      <th>93</th>\n",
       "      <td>17.722016</td>\n",
       "      <td>True</td>\n",
       "    </tr>\n",
       "    <tr>\n",
       "      <th>94</th>\n",
       "      <td>16.110870</td>\n",
       "      <td>True</td>\n",
       "    </tr>\n",
       "    <tr>\n",
       "      <th>95</th>\n",
       "      <td>29.933480</td>\n",
       "      <td>False</td>\n",
       "    </tr>\n",
       "    <tr>\n",
       "      <th>96</th>\n",
       "      <td>27.250189</td>\n",
       "      <td>False</td>\n",
       "    </tr>\n",
       "    <tr>\n",
       "      <th>97</th>\n",
       "      <td>24.685291</td>\n",
       "      <td>True</td>\n",
       "    </tr>\n",
       "    <tr>\n",
       "      <th>98</th>\n",
       "      <td>25.897182</td>\n",
       "      <td>True</td>\n",
       "    </tr>\n",
       "    <tr>\n",
       "      <th>99</th>\n",
       "      <td>10.453264</td>\n",
       "      <td>True</td>\n",
       "    </tr>\n",
       "  </tbody>\n",
       "</table>\n",
       "</div>"
      ],
      "text/plain": [
       "     temp (c)  ice cream eaten\n",
       "80  19.929225            False\n",
       "81  27.289401             True\n",
       "82  22.301436             True\n",
       "83  21.230488             True\n",
       "84  23.068772             True\n",
       "85  28.513501             True\n",
       "86  12.241904            False\n",
       "87  24.959665             True\n",
       "88  16.594467            False\n",
       "89   9.780380            False\n",
       "90  16.652703            False\n",
       "91  26.687679             True\n",
       "92  23.833069            False\n",
       "93  17.722016             True\n",
       "94  16.110870             True\n",
       "95  29.933480            False\n",
       "96  27.250189            False\n",
       "97  24.685291             True\n",
       "98  25.897182             True\n",
       "99  10.453264             True"
      ]
     },
     "execution_count": 22,
     "metadata": {},
     "output_type": "execute_result"
    }
   ],
   "source": [
    "df.tail(20) #takes x number specified last rows -- same works for head(x)"
   ]
  },
  {
   "cell_type": "code",
   "execution_count": 41,
   "id": "97b50bbb-53cd-4feb-976d-ad17bb2c5f02",
   "metadata": {},
   "outputs": [
    {
     "name": "stderr",
     "output_type": "stream",
     "text": [
      "C:\\Users\\scott\\AppData\\Local\\Temp\\ipykernel_2212\\1130423050.py:4: RuntimeWarning: divide by zero encountered in log\n",
      "  df =pd.DataFrame( {'nums':nums, 'square':nums**2, 'log':np.log(nums) } )\n"
     ]
    }
   ],
   "source": [
    "# let's create a dataframe with the following cols - integers 0-10, their square, and their log\n",
    "nums = np.array(range(11))\n",
    "\n",
    "df =pd.DataFrame( {'nums':nums, 'square':nums**2, 'log':np.log(nums) } )\n",
    "\n",
    "# we get a divide by zero warning -- not an error"
   ]
  },
  {
   "cell_type": "code",
   "execution_count": 42,
   "id": "53abd3dc-64c3-4f2d-8e1e-f1933ec83b15",
   "metadata": {},
   "outputs": [
    {
     "data": {
      "text/html": [
       "<div>\n",
       "<style scoped>\n",
       "    .dataframe tbody tr th:only-of-type {\n",
       "        vertical-align: middle;\n",
       "    }\n",
       "\n",
       "    .dataframe tbody tr th {\n",
       "        vertical-align: top;\n",
       "    }\n",
       "\n",
       "    .dataframe thead th {\n",
       "        text-align: right;\n",
       "    }\n",
       "</style>\n",
       "<table border=\"1\" class=\"dataframe\">\n",
       "  <thead>\n",
       "    <tr style=\"text-align: right;\">\n",
       "      <th></th>\n",
       "      <th>nums</th>\n",
       "      <th>square</th>\n",
       "      <th>log</th>\n",
       "    </tr>\n",
       "  </thead>\n",
       "  <tbody>\n",
       "    <tr>\n",
       "      <th>0</th>\n",
       "      <td>0</td>\n",
       "      <td>0</td>\n",
       "      <td>-inf</td>\n",
       "    </tr>\n",
       "    <tr>\n",
       "      <th>1</th>\n",
       "      <td>1</td>\n",
       "      <td>1</td>\n",
       "      <td>0.000000</td>\n",
       "    </tr>\n",
       "    <tr>\n",
       "      <th>2</th>\n",
       "      <td>2</td>\n",
       "      <td>4</td>\n",
       "      <td>0.693147</td>\n",
       "    </tr>\n",
       "    <tr>\n",
       "      <th>3</th>\n",
       "      <td>3</td>\n",
       "      <td>9</td>\n",
       "      <td>1.098612</td>\n",
       "    </tr>\n",
       "    <tr>\n",
       "      <th>4</th>\n",
       "      <td>4</td>\n",
       "      <td>16</td>\n",
       "      <td>1.386294</td>\n",
       "    </tr>\n",
       "    <tr>\n",
       "      <th>5</th>\n",
       "      <td>5</td>\n",
       "      <td>25</td>\n",
       "      <td>1.609438</td>\n",
       "    </tr>\n",
       "    <tr>\n",
       "      <th>6</th>\n",
       "      <td>6</td>\n",
       "      <td>36</td>\n",
       "      <td>1.791759</td>\n",
       "    </tr>\n",
       "    <tr>\n",
       "      <th>7</th>\n",
       "      <td>7</td>\n",
       "      <td>49</td>\n",
       "      <td>1.945910</td>\n",
       "    </tr>\n",
       "    <tr>\n",
       "      <th>8</th>\n",
       "      <td>8</td>\n",
       "      <td>64</td>\n",
       "      <td>2.079442</td>\n",
       "    </tr>\n",
       "    <tr>\n",
       "      <th>9</th>\n",
       "      <td>9</td>\n",
       "      <td>81</td>\n",
       "      <td>2.197225</td>\n",
       "    </tr>\n",
       "    <tr>\n",
       "      <th>10</th>\n",
       "      <td>10</td>\n",
       "      <td>100</td>\n",
       "      <td>2.302585</td>\n",
       "    </tr>\n",
       "  </tbody>\n",
       "</table>\n",
       "</div>"
      ],
      "text/plain": [
       "    nums  square       log\n",
       "0      0       0      -inf\n",
       "1      1       1  0.000000\n",
       "2      2       4  0.693147\n",
       "3      3       9  1.098612\n",
       "4      4      16  1.386294\n",
       "5      5      25  1.609438\n",
       "6      6      36  1.791759\n",
       "7      7      49  1.945910\n",
       "8      8      64  2.079442\n",
       "9      9      81  2.197225\n",
       "10    10     100  2.302585"
      ]
     },
     "execution_count": 42,
     "metadata": {},
     "output_type": "execute_result"
    }
   ],
   "source": [
    "df"
   ]
  },
  {
   "cell_type": "code",
   "execution_count": null,
   "id": "d8d0d734-b386-4161-aa49-9f3d0b4f517e",
   "metadata": {},
   "outputs": [],
   "source": []
  }
 ],
 "metadata": {
  "kernelspec": {
   "display_name": "Python 3 (ipykernel)",
   "language": "python",
   "name": "python3"
  },
  "language_info": {
   "codemirror_mode": {
    "name": "ipython",
    "version": 3
   },
   "file_extension": ".py",
   "mimetype": "text/x-python",
   "name": "python",
   "nbconvert_exporter": "python",
   "pygments_lexer": "ipython3",
   "version": "3.12.10"
  }
 },
 "nbformat": 4,
 "nbformat_minor": 5
}
