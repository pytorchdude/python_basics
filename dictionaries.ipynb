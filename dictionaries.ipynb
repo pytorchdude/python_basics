{
 "cells": [
  {
   "cell_type": "code",
   "execution_count": 1,
   "id": "1f8ad357-db88-46d9-a2e7-2e7ff90d3e9b",
   "metadata": {},
   "outputs": [],
   "source": [
    "# dictionaries: key/value pairs"
   ]
  },
  {
   "cell_type": "code",
   "execution_count": 20,
   "id": "b0f80bc3-b9db-4dad-9c17-c316200f7f26",
   "metadata": {},
   "outputs": [
    {
     "data": {
      "text/plain": [
       "{}"
      ]
     },
     "execution_count": 20,
     "metadata": {},
     "output_type": "execute_result"
    }
   ],
   "source": [
    "dictionary1 = dict()\n",
    "dictionary1\n",
    "# {} equates to dictionary type"
   ]
  },
  {
   "cell_type": "code",
   "execution_count": 38,
   "id": "06032752-08ef-4c9a-828c-e5e010847697",
   "metadata": {},
   "outputs": [
    {
     "data": {
      "text/plain": [
       "{'name': 'Pytorch', 'ageRange': [30, 60]}"
      ]
     },
     "execution_count": 38,
     "metadata": {},
     "output_type": "execute_result"
    }
   ],
   "source": [
    "dictionary1[ 'name' ] = 'Pytorch' \n",
    "dictionary1[ 'ageRange' ] = [ 30,60 ]\n",
    "dictionary1"
   ]
  },
  {
   "cell_type": "code",
   "execution_count": 39,
   "id": "b09874f1-824e-46f8-93a4-ab9476de522b",
   "metadata": {},
   "outputs": [
    {
     "data": {
      "text/plain": [
       "{'ageRange': [30, 60], 'name': 'Dude'}"
      ]
     },
     "execution_count": 39,
     "metadata": {},
     "output_type": "execute_result"
    }
   ],
   "source": [
    "dictionary2 = { 'ageRange': [30,60], 'name': 'Dude' }\n",
    "dictionary2"
   ]
  },
  {
   "cell_type": "code",
   "execution_count": 40,
   "id": "2b9f0fac-a1a3-41cc-837a-b8fecffc1607",
   "metadata": {},
   "outputs": [
    {
     "data": {
      "text/plain": [
       "[30, 60]"
      ]
     },
     "execution_count": 40,
     "metadata": {},
     "output_type": "execute_result"
    }
   ],
   "source": [
    "dictionary1['ageRange']"
   ]
  },
  {
   "cell_type": "code",
   "execution_count": 41,
   "id": "c89cac1f-a07e-4a57-80e7-e8a0e3693574",
   "metadata": {},
   "outputs": [
    {
     "data": {
      "text/plain": [
       "dict_keys(['name', 'ageRange'])"
      ]
     },
     "execution_count": 41,
     "metadata": {},
     "output_type": "execute_result"
    }
   ],
   "source": [
    "dictionary1.keys()"
   ]
  },
  {
   "cell_type": "code",
   "execution_count": 42,
   "id": "04c24eae-f421-4cd8-a9e1-d4f9a4bbf1ea",
   "metadata": {},
   "outputs": [
    {
     "data": {
      "text/plain": [
       "True"
      ]
     },
     "execution_count": 42,
     "metadata": {},
     "output_type": "execute_result"
    }
   ],
   "source": [
    "'ageRange' in dictionary1"
   ]
  },
  {
   "cell_type": "code",
   "execution_count": 36,
   "id": "25cdfd85-38ce-407f-a334-f64f2c8de53d",
   "metadata": {},
   "outputs": [
    {
     "data": {
      "text/plain": [
       "False"
      ]
     },
     "execution_count": 36,
     "metadata": {},
     "output_type": "execute_result"
    }
   ],
   "source": [
    "'dude' in dictionary1"
   ]
  },
  {
   "cell_type": "code",
   "execution_count": 43,
   "id": "37ba32a6-362e-44f7-8a71-df7d08abc524",
   "metadata": {},
   "outputs": [
    {
     "data": {
      "text/plain": [
       "False"
      ]
     },
     "execution_count": 43,
     "metadata": {},
     "output_type": "execute_result"
    }
   ],
   "source": [
    "'Pytorch' in dictionary1 # only gives keys not values in the keys"
   ]
  },
  {
   "cell_type": "code",
   "execution_count": 45,
   "id": "d4f6c15c-4542-4c60-8de8-8d4f2280cc58",
   "metadata": {},
   "outputs": [
    {
     "data": {
      "text/plain": [
       "dict_values(['Pytorch', [30, 60]])"
      ]
     },
     "execution_count": 45,
     "metadata": {},
     "output_type": "execute_result"
    }
   ],
   "source": [
    "dictionary1.values()"
   ]
  },
  {
   "cell_type": "code",
   "execution_count": 46,
   "id": "edf0d691-7ab7-4ac2-b81b-01eee7784674",
   "metadata": {},
   "outputs": [
    {
     "data": {
      "text/plain": [
       "dict_items([('name', 'Pytorch'), ('ageRange', [30, 60])])"
      ]
     },
     "execution_count": 46,
     "metadata": {},
     "output_type": "execute_result"
    }
   ],
   "source": [
    "dictionary1.items()"
   ]
  },
  {
   "cell_type": "code",
   "execution_count": 58,
   "id": "84e8ede8-a3ed-42fc-b4f9-b643841a9b5c",
   "metadata": {},
   "outputs": [
    {
     "name": "stdin",
     "output_type": "stream",
     "text": [
      "Enter 1st number:  4235787\n",
      "Enter 2nd number:  234567\n"
     ]
    },
    {
     "data": {
      "text/plain": [
       "dict_items([('1st Number', 4235787.0), ('2nd Number', 234567.0), ('product', 993575849229.0)])"
      ]
     },
     "execution_count": 58,
     "metadata": {},
     "output_type": "execute_result"
    }
   ],
   "source": [
    "# input 2 numbers form the user and then create a dictionary with first number, second number, then multiply store as product\n",
    "dict1 = dict()\n",
    "\n",
    "num1 = float( input('Enter 1st number: '))\n",
    "dict1[ '1st Number' ] = num1\n",
    "num2 = float( input('Enter 2nd number: '))\n",
    "dict1[ '2nd Number' ] = num2\n",
    "\n",
    "dict1 [ 'product' ] = num1*num2\n",
    "\n",
    "dict1.items()"
   ]
  },
  {
   "cell_type": "code",
   "execution_count": null,
   "id": "b97d2506-83f7-4314-bb2d-eaba704015dc",
   "metadata": {},
   "outputs": [],
   "source": []
  }
 ],
 "metadata": {
  "kernelspec": {
   "display_name": "Python 3 (ipykernel)",
   "language": "python",
   "name": "python3"
  },
  "language_info": {
   "codemirror_mode": {
    "name": "ipython",
    "version": 3
   },
   "file_extension": ".py",
   "mimetype": "text/x-python",
   "name": "python",
   "nbconvert_exporter": "python",
   "pygments_lexer": "ipython3",
   "version": "3.12.10"
  }
 },
 "nbformat": 4,
 "nbformat_minor": 5
}
