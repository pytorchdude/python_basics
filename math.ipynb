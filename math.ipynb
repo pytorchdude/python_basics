{
 "cells": [
  {
   "cell_type": "code",
   "execution_count": 1,
   "id": "698854e7-a4a4-46a9-8e28-986303a7c16a",
   "metadata": {},
   "outputs": [],
   "source": [
    "x = 7\n",
    "y = 4.3\n",
    "z = 0"
   ]
  },
  {
   "cell_type": "code",
   "execution_count": 4,
   "id": "4d7afcb7-d1da-4382-bf8b-4f3836df9bba",
   "metadata": {},
   "outputs": [
    {
     "data": {
      "text/plain": [
       "4.300000000000001"
      ]
     },
     "execution_count": 4,
     "metadata": {},
     "output_type": "execute_result"
    }
   ],
   "source": [
    "y+x-7"
   ]
  },
  {
   "cell_type": "code",
   "execution_count": 5,
   "id": "8e66dc6a-41bc-470e-b319-2c491e478768",
   "metadata": {},
   "outputs": [],
   "source": [
    "# The above is not 'real' algebra, but rather floating point algebra"
   ]
  },
  {
   "cell_type": "code",
   "execution_count": 7,
   "id": "7e085162-e02e-4390-ae21-75f26710c5f0",
   "metadata": {},
   "outputs": [
    {
     "data": {
      "text/plain": [
       "21.8"
      ]
     },
     "execution_count": 7,
     "metadata": {},
     "output_type": "execute_result"
    }
   ],
   "source": [
    "c = y + 3.5*x - 7\n",
    "\n",
    "c"
   ]
  },
  {
   "cell_type": "code",
   "execution_count": 8,
   "id": "10897e8a-3f53-4dff-bc93-5b31644a6916",
   "metadata": {},
   "outputs": [
    {
     "data": {
      "text/plain": [
       "1.3333333333333333"
      ]
     },
     "execution_count": 8,
     "metadata": {},
     "output_type": "execute_result"
    }
   ],
   "source": [
    "4/3 # \\ is a new line in python not division"
   ]
  },
  {
   "cell_type": "code",
   "execution_count": 9,
   "id": "2d4607ab-f92e-40b7-b7d0-c9617136b2e6",
   "metadata": {},
   "outputs": [
    {
     "data": {
      "text/plain": [
       "6"
      ]
     },
     "execution_count": 9,
     "metadata": {},
     "output_type": "execute_result"
    }
   ],
   "source": [
    "3*2"
   ]
  },
  {
   "cell_type": "code",
   "execution_count": 10,
   "id": "116df57e-5b41-4593-834b-5ce9783e4280",
   "metadata": {},
   "outputs": [
    {
     "data": {
      "text/plain": [
       "9"
      ]
     },
     "execution_count": 10,
     "metadata": {},
     "output_type": "execute_result"
    }
   ],
   "source": [
    "3**2"
   ]
  },
  {
   "cell_type": "code",
   "execution_count": 11,
   "id": "aa00b44e-f000-4d36-adea-fd46d3d0d963",
   "metadata": {},
   "outputs": [
    {
     "data": {
      "text/plain": [
       "3.0"
      ]
     },
     "execution_count": 11,
     "metadata": {},
     "output_type": "execute_result"
    }
   ],
   "source": [
    "9**(1/2) # need to use paranthesis"
   ]
  },
  {
   "cell_type": "code",
   "execution_count": 12,
   "id": "cb3cd046-e085-43ba-8330-629c276db31e",
   "metadata": {},
   "outputs": [
    {
     "data": {
      "text/plain": [
       "4.5"
      ]
     },
     "execution_count": 12,
     "metadata": {},
     "output_type": "execute_result"
    }
   ],
   "source": [
    "9**1/2"
   ]
  },
  {
   "cell_type": "code",
   "execution_count": 18,
   "id": "46ba7dec-a210-44fc-8acf-bf97dd7a8b73",
   "metadata": {},
   "outputs": [
    {
     "data": {
      "text/plain": [
       "'Pytorch Dude'"
      ]
     },
     "execution_count": 18,
     "metadata": {},
     "output_type": "execute_result"
    }
   ],
   "source": [
    "firstName = 'Pytorch'\n",
    "lastName  = 'Dude'\n",
    "\n",
    "firstName + ' ' + lastName # CAN'T SUBTRACT!"
   ]
  },
  {
   "cell_type": "code",
   "execution_count": 19,
   "id": "eca68b20-2898-4d41-bd4a-0a4e038d28cc",
   "metadata": {},
   "outputs": [
    {
     "data": {
      "text/plain": [
       "'PytorchPytorchPytorch'"
      ]
     },
     "execution_count": 19,
     "metadata": {},
     "output_type": "execute_result"
    }
   ],
   "source": [
    "firstName*3"
   ]
  },
  {
   "cell_type": "code",
   "execution_count": 21,
   "id": "0ac85837-0532-4dbd-a157-ccad791c5a11",
   "metadata": {},
   "outputs": [
    {
     "ename": "TypeError",
     "evalue": "can't multiply sequence by non-int of type 'float'",
     "output_type": "error",
     "traceback": [
      "\u001b[31m---------------------------------------------------------------------------\u001b[39m",
      "\u001b[31mTypeError\u001b[39m                                 Traceback (most recent call last)",
      "\u001b[36mCell\u001b[39m\u001b[36m \u001b[39m\u001b[32mIn[21]\u001b[39m\u001b[32m, line 1\u001b[39m\n\u001b[32m----> \u001b[39m\u001b[32m1\u001b[39m \u001b[43mfirstName\u001b[49m\u001b[43m*\u001b[49m\u001b[32;43m3.5\u001b[39;49m \u001b[38;5;66;03m#won't work\u001b[39;00m\n",
      "\u001b[31mTypeError\u001b[39m: can't multiply sequence by non-int of type 'float'"
     ]
    }
   ],
   "source": [
    "firstName*3.5 #won't work"
   ]
  },
  {
   "cell_type": "code",
   "execution_count": 23,
   "id": "abbb897a-4f05-4437-9029-43b5f68e2d2f",
   "metadata": {},
   "outputs": [
    {
     "name": "stdout",
     "output_type": "stream",
     "text": [
      "7*3 = 2.1\n"
     ]
    }
   ],
   "source": [
    "print('7*3 = 2.1') # doesn't compute -- just prints out between ''"
   ]
  },
  {
   "cell_type": "code",
   "execution_count": 24,
   "id": "f28c4adc-1e2b-462a-a6f1-d8355157601f",
   "metadata": {},
   "outputs": [
    {
     "data": {
      "text/plain": [
       "11.3"
      ]
     },
     "execution_count": 24,
     "metadata": {},
     "output_type": "execute_result"
    }
   ],
   "source": [
    "x + y"
   ]
  },
  {
   "cell_type": "code",
   "execution_count": 27,
   "id": "a26810b3-3b09-48ed-990f-ee057ebafff5",
   "metadata": {},
   "outputs": [
    {
     "ename": "SyntaxError",
     "evalue": "invalid syntax. Perhaps you forgot a comma? (684731693.py, line 1)",
     "output_type": "error",
     "traceback": [
      "  \u001b[36mCell\u001b[39m\u001b[36m \u001b[39m\u001b[32mIn[27]\u001b[39m\u001b[32m, line 1\u001b[39m\n\u001b[31m    \u001b[39m\u001b[31mprint('x + y =' x+y)\u001b[39m\n          ^\n\u001b[31mSyntaxError\u001b[39m\u001b[31m:\u001b[39m invalid syntax. Perhaps you forgot a comma?\n"
     ]
    }
   ],
   "source": [
    "print('x + y =' x+y)"
   ]
  },
  {
   "cell_type": "code",
   "execution_count": 37,
   "id": "92b4c75f-5849-4242-82b4-c33c9239790d",
   "metadata": {},
   "outputs": [
    {
     "name": "stdout",
     "output_type": "stream",
     "text": [
      "7 + 4.3 = 11.3\n"
     ]
    }
   ],
   "source": [
    "print(str(x) + ' + ' + str(y) + ' = ' + str(x+y))"
   ]
  },
  {
   "cell_type": "code",
   "execution_count": 38,
   "id": "b6de1e2b-28b3-4ac3-8fc2-03247f2d1783",
   "metadata": {},
   "outputs": [
    {
     "name": "stdin",
     "output_type": "stream",
     "text": [
      "Give me a number:  8\n"
     ]
    }
   ],
   "source": [
    "ans = input('Give me a number: ')"
   ]
  },
  {
   "cell_type": "code",
   "execution_count": 39,
   "id": "50fd2c00-0c30-4606-800a-1de4c9a10ce3",
   "metadata": {},
   "outputs": [
    {
     "data": {
      "text/plain": [
       "'8'"
      ]
     },
     "execution_count": 39,
     "metadata": {},
     "output_type": "execute_result"
    }
   ],
   "source": [
    "ans # outputs a string character"
   ]
  },
  {
   "cell_type": "code",
   "execution_count": 40,
   "id": "cde7ec50-f1e8-4c99-9251-23a304841b87",
   "metadata": {},
   "outputs": [],
   "source": [
    "ans = float(ans)"
   ]
  },
  {
   "cell_type": "code",
   "execution_count": 41,
   "id": "98072a08-6114-4cc0-bf6f-9fc0520bc820",
   "metadata": {},
   "outputs": [
    {
     "data": {
      "text/plain": [
       "float"
      ]
     },
     "execution_count": 41,
     "metadata": {},
     "output_type": "execute_result"
    }
   ],
   "source": [
    "type(ans)"
   ]
  },
  {
   "cell_type": "code",
   "execution_count": 42,
   "id": "ec32976a-3d33-462a-aefb-a30784dc9d77",
   "metadata": {},
   "outputs": [],
   "source": [
    "# also this way"
   ]
  },
  {
   "cell_type": "code",
   "execution_count": 43,
   "id": "2c52855b-df79-4554-b19b-3c86f188c459",
   "metadata": {},
   "outputs": [
    {
     "name": "stdin",
     "output_type": "stream",
     "text": [
      "Give me a number:  8\n"
     ]
    }
   ],
   "source": [
    "ans = float( input('Give me a number: '))"
   ]
  },
  {
   "cell_type": "code",
   "execution_count": 44,
   "id": "54de3380-ed0d-4261-b335-25f6887d4be2",
   "metadata": {},
   "outputs": [
    {
     "data": {
      "text/plain": [
       "float"
      ]
     },
     "execution_count": 44,
     "metadata": {},
     "output_type": "execute_result"
    }
   ],
   "source": [
    "type(ans)"
   ]
  },
  {
   "cell_type": "code",
   "execution_count": 45,
   "id": "afec436e-e70c-4f66-8aa6-083aafbbe245",
   "metadata": {},
   "outputs": [],
   "source": [
    "# Lets get two inputs from the user and find out the Pythagorean thereom"
   ]
  },
  {
   "cell_type": "code",
   "execution_count": 51,
   "id": "5db0ad42-3a2b-4303-b780-3ec56f76408b",
   "metadata": {},
   "outputs": [
    {
     "name": "stdin",
     "output_type": "stream",
     "text": [
      "Enter length of side A:  6\n",
      "Enter length of side B:  9\n"
     ]
    },
    {
     "name": "stdout",
     "output_type": "stream",
     "text": [
      "Side C equals: 10.816653826391969\n"
     ]
    }
   ],
   "source": [
    "sideA = float( input('Enter length of side A: '))\n",
    "sideB = float( input('Enter length of side B: '))\n",
    "sideC = ((sideA**2) + (sideB**2))**(1/2)\n",
    "\n",
    "print('Side C equals: ' + str(sideC))"
   ]
  },
  {
   "cell_type": "code",
   "execution_count": null,
   "id": "c6ba1089-a5eb-4877-b993-40ea019ee68f",
   "metadata": {},
   "outputs": [],
   "source": []
  },
  {
   "cell_type": "code",
   "execution_count": null,
   "id": "bc5205d5-55bf-4c03-9a72-8f13329cad47",
   "metadata": {},
   "outputs": [],
   "source": []
  }
 ],
 "metadata": {
  "kernelspec": {
   "display_name": "Python 3 (ipykernel)",
   "language": "python",
   "name": "python3"
  },
  "language_info": {
   "codemirror_mode": {
    "name": "ipython",
    "version": 3
   },
   "file_extension": ".py",
   "mimetype": "text/x-python",
   "name": "python",
   "nbconvert_exporter": "python",
   "pygments_lexer": "ipython3",
   "version": "3.12.3"
  }
 },
 "nbformat": 4,
 "nbformat_minor": 5
}
