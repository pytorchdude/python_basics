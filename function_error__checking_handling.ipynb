{
 "cells": [
  {
   "cell_type": "code",
   "execution_count": 10,
   "id": "d6e014d5-7a09-46d5-9307-2f97fee752f4",
   "metadata": {},
   "outputs": [
    {
     "data": {
      "text/plain": [
       "6"
      ]
     },
     "execution_count": 10,
     "metadata": {},
     "output_type": "execute_result"
    }
   ],
   "source": [
    "# create a function will input 2 numbers and output their product\n",
    "def funfun(x,y):\n",
    "    z = x*y\n",
    "    return z\n",
    "\n",
    "funfun(2,3) # will be 6"
   ]
  },
  {
   "cell_type": "code",
   "execution_count": 11,
   "id": "c30aacdf-edb7-4b9f-a22f-533b6af995ff",
   "metadata": {},
   "outputs": [
    {
     "data": {
      "text/plain": [
       "'hihi'"
      ]
     },
     "execution_count": 11,
     "metadata": {},
     "output_type": "execute_result"
    }
   ],
   "source": [
    "def funfun(x,y):\n",
    "    z = x*y\n",
    "    return z\n",
    "\n",
    "funfun(2,'hi') # will be hihi - repeats string 2x"
   ]
  },
  {
   "cell_type": "code",
   "execution_count": 30,
   "id": "76fc940d-f471-4dd2-a76d-d7d3690b2a13",
   "metadata": {},
   "outputs": [
    {
     "data": {
      "text/plain": [
       "9.899999999999999"
      ]
     },
     "execution_count": 30,
     "metadata": {},
     "output_type": "execute_result"
    }
   ],
   "source": [
    "# we want to produce error message if attempt to multiply a number and string\n",
    "def funfun(x,y):\n",
    "    #check inputs are numeric\n",
    "    if not isinstance(x,(int,float)):\n",
    "        raise Exception('Input x must be a number')\n",
    "    elif not isinstance(y,(int,float)):\n",
    "        raise Exception('Input y must be a number')\n",
    "    z = x*y\n",
    "    return z\n",
    "\n",
    "funfun(3.3,3)"
   ]
  },
  {
   "cell_type": "code",
   "execution_count": 52,
   "id": "5164b078-fe65-4763-8cb7-1ae6b36a7ca1",
   "metadata": {},
   "outputs": [
    {
     "name": "stdout",
     "output_type": "stream",
     "text": [
      "Note: converted x to float.\n"
     ]
    },
    {
     "data": {
      "text/plain": [
       "9.0"
      ]
     },
     "execution_count": 52,
     "metadata": {},
     "output_type": "execute_result"
    }
   ],
   "source": [
    "# error checking -- we want to produce error message if attempt to multiply a number and string\n",
    "def funfun(x,y):\n",
    "    #check that x is numeric\n",
    "    if not isinstance(x,(int,float)):\n",
    "        \n",
    "    #check to see if x can be converted to number if there is a number in the string  \n",
    "        if isinstance(x, str) and x.isnumeric():\n",
    "            x = float(x)\n",
    "            print('Note: converted x to float.')\n",
    "        else:\n",
    "            raise Exception('Input x must be a number')\n",
    "            \n",
    "    z = x*y\n",
    "    return z\n",
    "\n",
    "funfun('3',3)"
   ]
  },
  {
   "cell_type": "code",
   "execution_count": 39,
   "id": "e4186e8d-1e0d-43f6-8f85-bab0f50ff5c2",
   "metadata": {},
   "outputs": [
    {
     "ename": "TypeError",
     "evalue": "unsupported operand type(s) for ** or pow(): 'int' and 'str'",
     "output_type": "error",
     "traceback": [
      "\u001b[31m---------------------------------------------------------------------------\u001b[39m",
      "\u001b[31mTypeError\u001b[39m                                 Traceback (most recent call last)",
      "\u001b[36mCell\u001b[39m\u001b[36m \u001b[39m\u001b[32mIn[39]\u001b[39m\u001b[32m, line 6\u001b[39m\n\u001b[32m      3\u001b[39m     z = x**y\n\u001b[32m      4\u001b[39m     \u001b[38;5;28;01mreturn\u001b[39;00m z\n\u001b[32m----> \u001b[39m\u001b[32m6\u001b[39m \u001b[43mfunfunfun\u001b[49m\u001b[43m(\u001b[49m\u001b[32;43m2\u001b[39;49m\u001b[43m,\u001b[49m\u001b[33;43m'\u001b[39;49m\u001b[33;43masdf\u001b[39;49m\u001b[33;43m'\u001b[39;49m\u001b[43m)\u001b[49m\n",
      "\u001b[36mCell\u001b[39m\u001b[36m \u001b[39m\u001b[32mIn[39]\u001b[39m\u001b[32m, line 3\u001b[39m, in \u001b[36mfunfunfun\u001b[39m\u001b[34m(x, y)\u001b[39m\n\u001b[32m      2\u001b[39m \u001b[38;5;28;01mdef\u001b[39;00m\u001b[38;5;250m \u001b[39m\u001b[34mfunfunfun\u001b[39m(x,y):\n\u001b[32m----> \u001b[39m\u001b[32m3\u001b[39m     z = \u001b[43mx\u001b[49m\u001b[43m*\u001b[49m\u001b[43m*\u001b[49m\u001b[43my\u001b[49m\n\u001b[32m      4\u001b[39m     \u001b[38;5;28;01mreturn\u001b[39;00m z\n",
      "\u001b[31mTypeError\u001b[39m: unsupported operand type(s) for ** or pow(): 'int' and 'str'"
     ]
    }
   ],
   "source": [
    "# try accept statements\n",
    "def funfunfun(x,y):\n",
    "    z = x**y\n",
    "    return z\n",
    "\n",
    "funfunfun(2,'asdf') # wont overload for powers to strings"
   ]
  },
  {
   "cell_type": "code",
   "execution_count": 45,
   "id": "f7bd7d5d-4c56-4103-9272-658e5d545b41",
   "metadata": {},
   "outputs": [
    {
     "name": "stdout",
     "output_type": "stream",
     "text": [
      "Couldn't complete the mission\n"
     ]
    },
    {
     "ename": "UnboundLocalError",
     "evalue": "cannot access local variable 'z' where it is not associated with a value",
     "output_type": "error",
     "traceback": [
      "\u001b[31m---------------------------------------------------------------------------\u001b[39m",
      "\u001b[31mUnboundLocalError\u001b[39m                         Traceback (most recent call last)",
      "\u001b[36mCell\u001b[39m\u001b[36m \u001b[39m\u001b[32mIn[45]\u001b[39m\u001b[32m, line 9\u001b[39m\n\u001b[32m      6\u001b[39m         \u001b[38;5;28mprint\u001b[39m(\u001b[33m\"\u001b[39m\u001b[33mCouldn\u001b[39m\u001b[33m'\u001b[39m\u001b[33mt complete the mission\u001b[39m\u001b[33m\"\u001b[39m)\n\u001b[32m      7\u001b[39m     \u001b[38;5;28;01mreturn\u001b[39;00m z\n\u001b[32m----> \u001b[39m\u001b[32m9\u001b[39m \u001b[43mfunfunfun\u001b[49m\u001b[43m(\u001b[49m\u001b[32;43m2\u001b[39;49m\u001b[43m,\u001b[49m\u001b[33;43m'\u001b[39;49m\u001b[33;43masdf\u001b[39;49m\u001b[33;43m'\u001b[39;49m\u001b[43m)\u001b[49m \u001b[38;5;66;03m# wont overload for powers to strings\u001b[39;00m\n",
      "\u001b[36mCell\u001b[39m\u001b[36m \u001b[39m\u001b[32mIn[45]\u001b[39m\u001b[32m, line 7\u001b[39m, in \u001b[36mfunfunfun\u001b[39m\u001b[34m(x, y)\u001b[39m\n\u001b[32m      5\u001b[39m \u001b[38;5;28;01mexcept\u001b[39;00m:\n\u001b[32m      6\u001b[39m     \u001b[38;5;28mprint\u001b[39m(\u001b[33m\"\u001b[39m\u001b[33mCouldn\u001b[39m\u001b[33m'\u001b[39m\u001b[33mt complete the mission\u001b[39m\u001b[33m\"\u001b[39m)\n\u001b[32m----> \u001b[39m\u001b[32m7\u001b[39m \u001b[38;5;28;01mreturn\u001b[39;00m \u001b[43mz\u001b[49m\n",
      "\u001b[31mUnboundLocalError\u001b[39m: cannot access local variable 'z' where it is not associated with a value"
     ]
    }
   ],
   "source": [
    "# try accept statements\n",
    "def funfunfun(x,y):\n",
    "    try:\n",
    "        z = x**y\n",
    "    except:\n",
    "        print(\"Couldn't complete the mission\")\n",
    "    return z\n",
    "\n",
    "funfunfun(2,'asdf') # wont overload for powers to strings"
   ]
  },
  {
   "cell_type": "code",
   "execution_count": 49,
   "id": "e49ff8cf-6374-4206-a662-5aa1375de5f3",
   "metadata": {},
   "outputs": [
    {
     "name": "stdout",
     "output_type": "stream",
     "text": [
      "Couldn't complete the mission\n"
     ]
    },
    {
     "data": {
      "text/plain": [
       "0"
      ]
     },
     "execution_count": 49,
     "metadata": {},
     "output_type": "execute_result"
    }
   ],
   "source": [
    "# try accept statements\n",
    "# lets define z\n",
    "\n",
    "def funfunfun(x,y):\n",
    "    z = 0             # this will make the error message go away -- it is now associated with a value\n",
    "    try:\n",
    "        z = x**y\n",
    "        print('I work!')\n",
    "    except:\n",
    "        print(\"Couldn't complete the mission\")\n",
    "    return z\n",
    "\n",
    "funfunfun(2,'asdf') # wont overload for powers to strings"
   ]
  },
  {
   "cell_type": "code",
   "execution_count": 51,
   "id": "12241c3c-b9a2-4a7d-9fed-d2d76fdd3e69",
   "metadata": {},
   "outputs": [
    {
     "name": "stdout",
     "output_type": "stream",
     "text": [
      "I work!\n"
     ]
    },
    {
     "data": {
      "text/plain": [
       "8"
      ]
     },
     "execution_count": 51,
     "metadata": {},
     "output_type": "execute_result"
    }
   ],
   "source": [
    "# try/except statements\n",
    "# lets define z\n",
    "\n",
    "def funfunfun(x,y):\n",
    "    z = 0             # this will make the error message go away -- it is now associated with a value\n",
    "    try:\n",
    "        z = x**y\n",
    "        print('I work!')\n",
    "    except:\n",
    "        print(\"Couldn't complete the mission\")\n",
    "    return z\n",
    "\n",
    "funfunfun(2,3) # we change to number and we will get the 'I work' message and the answer"
   ]
  },
  {
   "cell_type": "code",
   "execution_count": null,
   "id": "b2ed06f1-b1bc-4a94-8c5b-218fed625ec5",
   "metadata": {},
   "outputs": [],
   "source": [
    "# use error checking more than try/except which clogs up code"
   ]
  }
 ],
 "metadata": {
  "kernelspec": {
   "display_name": "Python 3 (ipykernel)",
   "language": "python",
   "name": "python3"
  },
  "language_info": {
   "codemirror_mode": {
    "name": "ipython",
    "version": 3
   },
   "file_extension": ".py",
   "mimetype": "text/x-python",
   "name": "python",
   "nbconvert_exporter": "python",
   "pygments_lexer": "ipython3",
   "version": "3.12.10"
  }
 },
 "nbformat": 4,
 "nbformat_minor": 5
}
