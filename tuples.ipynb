{
 "cells": [
  {
   "cell_type": "code",
   "execution_count": 3,
   "id": "5da25dea-5d4b-48c6-b197-dd489bf40955",
   "metadata": {},
   "outputs": [],
   "source": [
    "# tuples are like lists we use paranthesis (not even needed) do diffrentiate from a list\n",
    "# biggest difference is mutability - lists are mutable - tuples are immutable"
   ]
  },
  {
   "cell_type": "code",
   "execution_count": 9,
   "id": "b8cbd8aa-42d6-4d10-b4c9-6dd5ba99173e",
   "metadata": {},
   "outputs": [
    {
     "data": {
      "text/plain": [
       "tuple"
      ]
     },
     "execution_count": 9,
     "metadata": {},
     "output_type": "execute_result"
    }
   ],
   "source": [
    "aTuple = ( 3,4,'dude',233,87.90,'wow' )\n",
    "\n",
    "type(aTuple)"
   ]
  },
  {
   "cell_type": "code",
   "execution_count": 10,
   "id": "7ed5ff5d-75d8-48df-88ed-6f28afb3f522",
   "metadata": {},
   "outputs": [
    {
     "ename": "TypeError",
     "evalue": "'tuple' object does not support item assignment",
     "output_type": "error",
     "traceback": [
      "\u001b[31m---------------------------------------------------------------------------\u001b[39m",
      "\u001b[31mTypeError\u001b[39m                                 Traceback (most recent call last)",
      "\u001b[36mCell\u001b[39m\u001b[36m \u001b[39m\u001b[32mIn[10]\u001b[39m\u001b[32m, line 1\u001b[39m\n\u001b[32m----> \u001b[39m\u001b[32m1\u001b[39m \u001b[43maTuple\u001b[49m\u001b[43m[\u001b[49m\u001b[32;43m3\u001b[39;49m\u001b[43m]\u001b[49m = ( \u001b[32m13.13\u001b[39m )\n",
      "\u001b[31mTypeError\u001b[39m: 'tuple' object does not support item assignment"
     ]
    }
   ],
   "source": [
    "aTuple[3] = ( 13.13 )"
   ]
  },
  {
   "cell_type": "code",
   "execution_count": 11,
   "id": "e548305a-6d28-4a74-b288-b8a115844923",
   "metadata": {},
   "outputs": [],
   "source": [
    "# why have both lists and tuples?\n",
    "# so users cannot change values -- accidentally or intentionally "
   ]
  },
  {
   "cell_type": "code",
   "execution_count": null,
   "id": "03cfed31-b68b-42c2-9dc9-6d0b4b8b7d7d",
   "metadata": {},
   "outputs": [],
   "source": []
  }
 ],
 "metadata": {
  "kernelspec": {
   "display_name": "Python 3 (ipykernel)",
   "language": "python",
   "name": "python3"
  },
  "language_info": {
   "codemirror_mode": {
    "name": "ipython",
    "version": 3
   },
   "file_extension": ".py",
   "mimetype": "text/x-python",
   "name": "python",
   "nbconvert_exporter": "python",
   "pygments_lexer": "ipython3",
   "version": "3.12.10"
  }
 },
 "nbformat": 4,
 "nbformat_minor": 5
}
