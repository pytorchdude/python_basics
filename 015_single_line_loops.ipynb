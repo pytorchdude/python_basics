{
 "cells": [
  {
   "cell_type": "code",
   "execution_count": 41,
   "id": "9a5ec9e9-2777-4392-9b02-31030634267e",
   "metadata": {},
   "outputs": [],
   "source": [
    "# single line loopps -- list comprehension\n",
    "import random\n",
    "import numpy as np"
   ]
  },
  {
   "cell_type": "code",
   "execution_count": 42,
   "id": "443752b1-e3b0-4eea-a217-1f2c17d12b43",
   "metadata": {},
   "outputs": [
    {
     "name": "stdout",
     "output_type": "stream",
     "text": [
      "7 r is large\n"
     ]
    }
   ],
   "source": [
    "r = random.randint(1,10) # inclusive upper bound -- will use 1 - 10 -- not exclusive\n",
    "\n",
    "print(str(r) + ' r is large') if r > 5 else print(str(r) + ' r is small')"
   ]
  },
  {
   "cell_type": "code",
   "execution_count": 43,
   "id": "47cbfeb4-25f6-49a9-9f93-fb0a323b0636",
   "metadata": {},
   "outputs": [
    {
     "name": "stdout",
     "output_type": "stream",
     "text": [
      "0\n",
      "1\n",
      "4\n",
      "9\n",
      "16\n",
      "25\n",
      "36\n",
      "49\n",
      "64\n",
      "81\n"
     ]
    }
   ],
   "source": [
    "# one line for loops\n",
    "for i in range(10): # not one line\n",
    "    print(i**2)"
   ]
  },
  {
   "cell_type": "code",
   "execution_count": 44,
   "id": "0deeabca-9b32-480f-a040-74b3e88c9f0b",
   "metadata": {},
   "outputs": [
    {
     "name": "stdout",
     "output_type": "stream",
     "text": [
      "0\n",
      "1\n",
      "4\n",
      "9\n",
      "16\n",
      "25\n",
      "36\n",
      "49\n",
      "64\n",
      "81\n"
     ]
    },
    {
     "data": {
      "text/plain": [
       "[None, None, None, None, None, None, None, None, None, None]"
      ]
     },
     "execution_count": 44,
     "metadata": {},
     "output_type": "execute_result"
    }
   ],
   "source": [
    " [ print(i**2) for i in range(10) ] # list comprhension -- one line for loop - list construction - small needs"
   ]
  },
  {
   "cell_type": "code",
   "execution_count": 45,
   "id": "4ecfc050-95fb-4409-9ef7-f2f613cd8d4f",
   "metadata": {},
   "outputs": [
    {
     "data": {
      "text/plain": [
       "[0, 1, 4, 9, 16, 25, 36, 49, 64, 81]"
      ]
     },
     "execution_count": 45,
     "metadata": {},
     "output_type": "execute_result"
    }
   ],
   "source": [
    "# none list -- the special data type of print is None\n",
    "# let's output without print\n",
    "list = [ i**2 for i in range(10) ] # list comprhension -- one line for loop\n",
    "list"
   ]
  },
  {
   "cell_type": "code",
   "execution_count": 46,
   "id": "eda32516-9756-40fe-870f-90c7cbd98d1d",
   "metadata": {},
   "outputs": [
    {
     "data": {
      "text/plain": [
       "[36, 49, 64, 81]"
      ]
     },
     "execution_count": 46,
     "metadata": {},
     "output_type": "execute_result"
    }
   ],
   "source": [
    "# can get more complex\n",
    "list = [ i**2 for i in range(10) if i > 5 ] # list comprhension -- one line for loop\n",
    "list"
   ]
  },
  {
   "cell_type": "code",
   "execution_count": 70,
   "id": "b775a906-1673-444a-a977-c9e0b2fe3063",
   "metadata": {},
   "outputs": [
    {
     "name": "stdout",
     "output_type": "stream",
     "text": [
      "P\n",
      "Y\n",
      "t\n",
      "h\n",
      "o\n",
      "N\n"
     ]
    }
   ],
   "source": [
    "# let's convert the following loops into single line list comprehensions\n",
    "# text = [ 'Promising', 'Yves', 'that', 'home', 'on', 'Nowhere' ]\n",
    "# for word in text:\n",
    "#    print(word[0])\n",
    "text = [ 'Promising', 'Yves', 'that', 'home', 'on', 'Nowhere' ]\n",
    "[  print(word[0]) for word in text ];                            # use ; to supress output final line"
   ]
  },
  {
   "cell_type": "code",
   "execution_count": 55,
   "id": "d92f9f4f-c7fc-46e8-8332-717d2b6d08d7",
   "metadata": {},
   "outputs": [
    {
     "data": {
      "text/plain": [
       "[0, 'odd', 2, 'odd', 4, 'odd', 6, 'odd', 8, 'odd']"
      ]
     },
     "execution_count": 55,
     "metadata": {},
     "output_type": "execute_result"
    }
   ],
   "source": [
    "newlist = ['']*10\n",
    "\n",
    "for i in range(10):\n",
    "    if i%2 == 1:\n",
    "        newlist[i] = 'odd'\n",
    "    else:\n",
    "        newlist[i] = i\n",
    "\n",
    "newlist"
   ]
  },
  {
   "cell_type": "code",
   "execution_count": 80,
   "id": "d296e560-3f24-4685-84c9-98e88546c076",
   "metadata": {},
   "outputs": [
    {
     "data": {
      "text/plain": [
       "[0, 'odd', 2, 'odd', 4, 'odd', 6, 'odd', 8, 'odd']"
      ]
     },
     "execution_count": 80,
     "metadata": {},
     "output_type": "execute_result"
    }
   ],
   "source": [
    "nl = [ 'odd' if i%2==1 else i for i in range(10) ]  # iteration is to the right side -- the expression to the left\n",
    "nl"
   ]
  },
  {
   "cell_type": "code",
   "execution_count": 81,
   "id": "a62108c9-701b-410d-a91c-3cd45958c805",
   "metadata": {},
   "outputs": [
    {
     "name": "stdout",
     "output_type": "stream",
     "text": [
      "[-3.  -2.4 -1.8 -1.2 -0.6  0.   0.6  1.2  1.8  2.4  3. ]\n",
      "[9.   5.76 3.24 1.44 0.36 0.   0.36 1.44 3.24 5.76 9.  ]\n"
     ]
    }
   ],
   "source": [
    "x1 = np.linspace(-3,3,11) # need to get 11 numbers linearly spaced betweew -3 and 3\n",
    "y1 = x1**2\n",
    "\n",
    "print(x1)\n",
    "print(y1)"
   ]
  },
  {
   "cell_type": "code",
   "execution_count": 86,
   "id": "a3540912-6041-423f-8f7e-5f6babdc6ccc",
   "metadata": {},
   "outputs": [
    {
     "name": "stdout",
     "output_type": "stream",
     "text": [
      " \n"
     ]
    },
    {
     "data": {
      "text/plain": [
       "(array([-3. , -2.4, -1.8, -1.2, -0.6,  0. ,  0.6,  1.2,  1.8,  2.4,  3. ]),\n",
       " array([9.  , 5.76, 3.24, 1.44, 0.36, 0.  , 0.36, 1.44, 3.24, 5.76, 9.  ]),\n",
       " None,\n",
       " [-3.0,\n",
       "  -2.4,\n",
       "  -1.7999999999999998,\n",
       "  -1.2,\n",
       "  -0.6,\n",
       "  0.0,\n",
       "  0.6,\n",
       "  1.2,\n",
       "  1.7999999999999998,\n",
       "  2.4,\n",
       "  3.0],\n",
       " [9.0,\n",
       "  5.76,\n",
       "  3.2399999999999993,\n",
       "  1.44,\n",
       "  0.36,\n",
       "  0.0,\n",
       "  0.36,\n",
       "  1.44,\n",
       "  3.2399999999999993,\n",
       "  5.76,\n",
       "  9.0])"
      ]
     },
     "execution_count": 86,
     "metadata": {},
     "output_type": "execute_result"
    }
   ],
   "source": [
    "x2 = [ i/(5/3) for i in range(-5,6) ]\n",
    "y2 = [ i**2 for i in x2 ]\n",
    "x1, y1, print(' '), x2, y2"
   ]
  },
  {
   "cell_type": "code",
   "execution_count": null,
   "id": "fd5c6410-ed5f-44bc-9f1a-ed13cebae18f",
   "metadata": {},
   "outputs": [],
   "source": []
  }
 ],
 "metadata": {
  "kernelspec": {
   "display_name": "Python 3 (ipykernel)",
   "language": "python",
   "name": "python3"
  },
  "language_info": {
   "codemirror_mode": {
    "name": "ipython",
    "version": 3
   },
   "file_extension": ".py",
   "mimetype": "text/x-python",
   "name": "python",
   "nbconvert_exporter": "python",
   "pygments_lexer": "ipython3",
   "version": "3.12.10"
  }
 },
 "nbformat": 4,
 "nbformat_minor": 5
}
