{
 "cells": [
  {
   "cell_type": "code",
   "execution_count": 1,
   "id": "38920c47-12e6-49a0-9f16-e7c0293c5507",
   "metadata": {},
   "outputs": [],
   "source": [
    "# classes and oop (object oriented programming)"
   ]
  },
  {
   "cell_type": "code",
   "execution_count": 48,
   "id": "359ae6fb-184e-4711-9d01-cf1c669e9658",
   "metadata": {},
   "outputs": [],
   "source": [
    "# class = a set of blueprints for creating attributes and methods\n",
    "# instances come from classes\n",
    "# we are settjkg this up for deep learnign with Pytorch"
   ]
  },
  {
   "cell_type": "code",
   "execution_count": 54,
   "id": "3dbf8b8c-cb3e-4bb7-9bb4-8fe01d49f915",
   "metadata": {},
   "outputs": [],
   "source": [
    "class model(object):\n",
    "\n",
    "    # contructor method - functions within the def of a class\n",
    "    def __init__(self,numlayers,numunits,name):   # __init__ initializes -- self refers to the \n",
    "                                                  # specific instance of the class\n",
    "        \n",
    "        #attributes\n",
    "        self.layers  = numlayers\n",
    "        self.units   = numunits\n",
    "        self.name    = name\n",
    "        self.weights = 1\n",
    "\n",
    "    def howManyUnits(self):\n",
    "        totalUnits = self.layers * self.units\n",
    "        print(f'There are {totalUnits} units in the model.')\n",
    "\n",
    "    def trainModel(self, x):\n",
    "        self.weights += x\n",
    "        return self.weights\n",
    "\n",
    "    def __str__(self):\n",
    "        return f'This is a {self.name} architecture'"
   ]
  },
  {
   "cell_type": "code",
   "execution_count": 59,
   "id": "b09f0447-1453-4d56-bef3-3149bf646a56",
   "metadata": {},
   "outputs": [],
   "source": [
    "model1 = model(12,5,'CNN')"
   ]
  },
  {
   "cell_type": "code",
   "execution_count": 60,
   "id": "912d3775-84a8-4784-8165-ad5780eed35d",
   "metadata": {},
   "outputs": [
    {
     "data": {
      "text/plain": [
       "<__main__.model at 0x1791937bb60>"
      ]
     },
     "execution_count": 60,
     "metadata": {},
     "output_type": "execute_result"
    }
   ],
   "source": [
    "model1"
   ]
  },
  {
   "cell_type": "code",
   "execution_count": 61,
   "id": "5821193b-ebd6-45aa-be97-94d48e1924af",
   "metadata": {},
   "outputs": [
    {
     "name": "stdout",
     "output_type": "stream",
     "text": [
      "There are 60 units in the model.\n"
     ]
    }
   ],
   "source": [
    "model1.howManyUnits()"
   ]
  },
  {
   "cell_type": "code",
   "execution_count": 62,
   "id": "8dc956fd-9858-462d-9171-0382bedc1edf",
   "metadata": {},
   "outputs": [
    {
     "data": {
      "text/plain": [
       "3.5"
      ]
     },
     "execution_count": 62,
     "metadata": {},
     "output_type": "execute_result"
    }
   ],
   "source": [
    "model1.trainModel(2.5)"
   ]
  },
  {
   "cell_type": "code",
   "execution_count": 63,
   "id": "eb38244f-33b0-4760-b5a5-9eb242d90bc7",
   "metadata": {},
   "outputs": [
    {
     "data": {
      "text/plain": [
       "'This is a CNN architecture'"
      ]
     },
     "execution_count": 63,
     "metadata": {},
     "output_type": "execute_result"
    }
   ],
   "source": [
    "str(model1)"
   ]
  },
  {
   "cell_type": "code",
   "execution_count": 64,
   "id": "06a7a2be-be99-461f-b461-48c5313d72a1",
   "metadata": {},
   "outputs": [],
   "source": [
    "# create a new class -- similar to above -- copy above -- weights should be a random matrix of size layers x units\n",
    "# change training method muiltiple by input x and input y"
   ]
  },
  {
   "cell_type": "code",
   "execution_count": 98,
   "id": "e10fe862-b4ae-48c4-910d-d45687fa76a6",
   "metadata": {},
   "outputs": [],
   "source": [
    "import numpy as np\n",
    "\n",
    "class modelMatrix(object):\n",
    "\n",
    "    def __init__(self,numlayers,numunits,name):\n",
    "        #attributes\n",
    "        self.layers  = numlayers\n",
    "        self.units   = numunits\n",
    "        self.name    = name\n",
    "        self.weights = np.random.randn(numlayers,self.units)\n",
    "\n",
    "    def howManyUnits(self):\n",
    "        totalUnits = self.layers * self.units\n",
    "        print(f'There are {totalUnits} units in the model.')\n",
    "\n",
    "    def trainModel(self, x, y):\n",
    "        self.weights = self.weights*x + y\n",
    "\n",
    "    def __str__(self):\n",
    "        return f'This is a {self.name} architecture'"
   ]
  },
  {
   "cell_type": "code",
   "execution_count": 106,
   "id": "86c69be0-14c5-41b2-a852-da6a6462589d",
   "metadata": {},
   "outputs": [],
   "source": [
    "model2 = modelMatrix(2,3,'X')"
   ]
  },
  {
   "cell_type": "code",
   "execution_count": 107,
   "id": "5dfbb0d3-000c-4e2a-9e28-0896203737d1",
   "metadata": {},
   "outputs": [
    {
     "data": {
      "text/plain": [
       "array([[ 0.15056269, -1.77213189, -1.04059702],\n",
       "       [ 0.37903044, -1.55969121, -1.05205707]])"
      ]
     },
     "execution_count": 107,
     "metadata": {},
     "output_type": "execute_result"
    }
   ],
   "source": [
    "model2.weights"
   ]
  },
  {
   "cell_type": "code",
   "execution_count": 116,
   "id": "1947b5a6-edb3-4516-83da-0c5aa73c18ed",
   "metadata": {},
   "outputs": [
    {
     "data": {
      "text/plain": [
       "array([[2.20217619e-05, 2.33336942e-06, 9.82428652e-06],\n",
       "       [2.43612718e-05, 4.50876198e-06, 9.70693563e-06]])"
      ]
     },
     "execution_count": 116,
     "metadata": {},
     "output_type": "execute_result"
    }
   ],
   "source": [
    "model2.trainModel(.2,0)\n",
    "model2.weights          # potential probklems in deep learning vanishing gradients - weights get smaller and smaller\n",
    "# and the model cannot learn anymore - and explodinig gradients - weights get too large -- astronomially large -- explodes"
   ]
  },
  {
   "cell_type": "code",
   "execution_count": null,
   "id": "b895922a-b8b3-4dba-8f93-79012eca97b8",
   "metadata": {},
   "outputs": [],
   "source": []
  }
 ],
 "metadata": {
  "kernelspec": {
   "display_name": "Python 3 (ipykernel)",
   "language": "python",
   "name": "python3"
  },
  "language_info": {
   "codemirror_mode": {
    "name": "ipython",
    "version": 3
   },
   "file_extension": ".py",
   "mimetype": "text/x-python",
   "name": "python",
   "nbconvert_exporter": "python",
   "pygments_lexer": "ipython3",
   "version": "3.12.10"
  }
 },
 "nbformat": 4,
 "nbformat_minor": 5
}
