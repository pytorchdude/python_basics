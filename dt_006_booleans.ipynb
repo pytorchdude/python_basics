{
 "cells": [
  {
   "cell_type": "code",
   "execution_count": 2,
   "id": "db380e98-7993-4272-8f30-d2afe7c9a012",
   "metadata": {},
   "outputs": [
    {
     "name": "stdout",
     "output_type": "stream",
     "text": [
      "Variable   Type    Data/Info\n",
      "----------------------------\n",
      "false      bool    False\n",
      "true       bool    True\n"
     ]
    }
   ],
   "source": [
    "# booleans only have 2 possible values: True or False\n",
    "true = True\n",
    "false = False\n",
    "\n",
    "%whos"
   ]
  },
  {
   "cell_type": "code",
   "execution_count": 3,
   "id": "ecccdb9d-5420-4468-aaa9-24040ff4b03c",
   "metadata": {},
   "outputs": [
    {
     "data": {
      "text/plain": [
       "True"
      ]
     },
     "execution_count": 3,
     "metadata": {},
     "output_type": "execute_result"
    }
   ],
   "source": [
    "4 == 4"
   ]
  },
  {
   "cell_type": "code",
   "execution_count": 4,
   "id": "ba520272-8259-4ed2-8b3d-d3adcff0d93b",
   "metadata": {},
   "outputs": [
    {
     "data": {
      "text/plain": [
       "True"
      ]
     },
     "execution_count": 4,
     "metadata": {},
     "output_type": "execute_result"
    }
   ],
   "source": [
    "4 != 5 # negation"
   ]
  },
  {
   "cell_type": "code",
   "execution_count": 5,
   "id": "a5386514-e1cb-4252-862b-bbaa31e9e250",
   "metadata": {},
   "outputs": [
    {
     "data": {
      "text/plain": [
       "False"
      ]
     },
     "execution_count": 5,
     "metadata": {},
     "output_type": "execute_result"
    }
   ],
   "source": [
    "4 != 4"
   ]
  },
  {
   "cell_type": "code",
   "execution_count": 6,
   "id": "962409ee-25a7-4010-a5f1-935889bf13f1",
   "metadata": {},
   "outputs": [
    {
     "data": {
      "text/plain": [
       "True"
      ]
     },
     "execution_count": 6,
     "metadata": {},
     "output_type": "execute_result"
    }
   ],
   "source": [
    "4 >= 3 # greater or equal"
   ]
  },
  {
   "cell_type": "code",
   "execution_count": 7,
   "id": "c19ee260-6a0a-460d-af75-a427a568a416",
   "metadata": {},
   "outputs": [
    {
     "data": {
      "text/plain": [
       "True"
      ]
     },
     "execution_count": 7,
     "metadata": {},
     "output_type": "execute_result"
    }
   ],
   "source": [
    "4 <= 4"
   ]
  },
  {
   "cell_type": "code",
   "execution_count": 8,
   "id": "08b24130-cbf4-4be9-9870-bde7cd1059c7",
   "metadata": {},
   "outputs": [
    {
     "data": {
      "text/plain": [
       "True"
      ]
     },
     "execution_count": 8,
     "metadata": {},
     "output_type": "execute_result"
    }
   ],
   "source": [
    "4 >= 4.0"
   ]
  },
  {
   "cell_type": "code",
   "execution_count": 9,
   "id": "50385ddf-ae71-40c0-8d3e-a8ef37e91a38",
   "metadata": {},
   "outputs": [
    {
     "data": {
      "text/plain": [
       "False"
      ]
     },
     "execution_count": 9,
     "metadata": {},
     "output_type": "execute_result"
    }
   ],
   "source": [
    "4 >= 5"
   ]
  },
  {
   "cell_type": "code",
   "execution_count": 10,
   "id": "039b16cf-7de0-4838-915e-6dbf649a20d7",
   "metadata": {},
   "outputs": [],
   "source": [
    "test = 4 == 4 "
   ]
  },
  {
   "cell_type": "code",
   "execution_count": 11,
   "id": "22836cd3-5eaf-425a-a428-27fb8c86abf8",
   "metadata": {},
   "outputs": [
    {
     "data": {
      "text/plain": [
       "True"
      ]
     },
     "execution_count": 11,
     "metadata": {},
     "output_type": "execute_result"
    }
   ],
   "source": [
    "test"
   ]
  },
  {
   "cell_type": "code",
   "execution_count": 12,
   "id": "563403a8-f6d1-4596-b5be-d2f9e0b3e94d",
   "metadata": {},
   "outputs": [
    {
     "data": {
      "text/plain": [
       "False"
      ]
     },
     "execution_count": 12,
     "metadata": {},
     "output_type": "execute_result"
    }
   ],
   "source": [
    "7<7"
   ]
  },
  {
   "cell_type": "code",
   "execution_count": 13,
   "id": "59a71f43-dbc8-4e60-adf3-7ef92e8acdc8",
   "metadata": {},
   "outputs": [
    {
     "data": {
      "text/plain": [
       "False"
      ]
     },
     "execution_count": 13,
     "metadata": {},
     "output_type": "execute_result"
    }
   ],
   "source": [
    "7>8"
   ]
  },
  {
   "cell_type": "code",
   "execution_count": 14,
   "id": "13932dd5-2e5c-44d1-8f20-0ab2425c6808",
   "metadata": {},
   "outputs": [
    {
     "data": {
      "text/plain": [
       "True"
      ]
     },
     "execution_count": 14,
     "metadata": {},
     "output_type": "execute_result"
    }
   ],
   "source": [
    "6<9"
   ]
  },
  {
   "cell_type": "code",
   "execution_count": 18,
   "id": "57234d1b-cb02-4a51-9e98-c25a37aacdbb",
   "metadata": {},
   "outputs": [
    {
     "data": {
      "text/plain": [
       "True"
      ]
     },
     "execution_count": 18,
     "metadata": {},
     "output_type": "execute_result"
    }
   ],
   "source": [
    "# conjunctive comparision\n",
    "x = 10\n",
    "x>5 and x<15"
   ]
  },
  {
   "cell_type": "code",
   "execution_count": 20,
   "id": "ecc5704d-3238-46b3-a021-4de3110ef218",
   "metadata": {},
   "outputs": [
    {
     "data": {
      "text/plain": [
       "True"
      ]
     },
     "execution_count": 20,
     "metadata": {},
     "output_type": "execute_result"
    }
   ],
   "source": [
    "x = 10\n",
    "y = 6\n",
    "x>5 and y<15 and (x+y)<60"
   ]
  },
  {
   "cell_type": "code",
   "execution_count": 21,
   "id": "7c659276-636a-411f-b3ab-dc29233214b7",
   "metadata": {},
   "outputs": [
    {
     "data": {
      "text/plain": [
       "True"
      ]
     },
     "execution_count": 21,
     "metadata": {},
     "output_type": "execute_result"
    }
   ],
   "source": [
    "x = 10\n",
    "y = 6\n",
    "x>5 or y<15 and (x+y)<60"
   ]
  },
  {
   "cell_type": "code",
   "execution_count": 29,
   "id": "27551a8f-f26d-4de7-8e22-3a3ea3dd6c68",
   "metadata": {},
   "outputs": [
    {
     "data": {
      "text/plain": [
       "False"
      ]
     },
     "execution_count": 29,
     "metadata": {},
     "output_type": "execute_result"
    }
   ],
   "source": [
    "x = 10\n",
    "y = 6\n",
    "x>11 or y<5 "
   ]
  },
  {
   "cell_type": "code",
   "execution_count": 30,
   "id": "6882f994-1576-4cc6-bbc5-2d20408cf7a6",
   "metadata": {},
   "outputs": [
    {
     "data": {
      "text/plain": [
       "False"
      ]
     },
     "execution_count": 30,
     "metadata": {},
     "output_type": "execute_result"
    }
   ],
   "source": [
    "bool(0)"
   ]
  },
  {
   "cell_type": "code",
   "execution_count": 31,
   "id": "0e7de038-1652-4f42-8d72-fe8d260d8cfb",
   "metadata": {},
   "outputs": [
    {
     "data": {
      "text/plain": [
       "True"
      ]
     },
     "execution_count": 31,
     "metadata": {},
     "output_type": "execute_result"
    }
   ],
   "source": [
    "bool(1)"
   ]
  },
  {
   "cell_type": "code",
   "execution_count": 33,
   "id": "3d01e0b7-5bae-4fc2-997b-7e9941a61938",
   "metadata": {},
   "outputs": [
    {
     "data": {
      "text/plain": [
       "True"
      ]
     },
     "execution_count": 33,
     "metadata": {},
     "output_type": "execute_result"
    }
   ],
   "source": [
    "bool(1000) # all numbers are true except for 0"
   ]
  },
  {
   "cell_type": "code",
   "execution_count": 34,
   "id": "646c5d4b-f02e-4f90-9980-fe760bc23a2d",
   "metadata": {},
   "outputs": [
    {
     "data": {
      "text/plain": [
       "True"
      ]
     },
     "execution_count": 34,
     "metadata": {},
     "output_type": "execute_result"
    }
   ],
   "source": [
    "bool('true')"
   ]
  },
  {
   "cell_type": "code",
   "execution_count": 35,
   "id": "5a1d0573-db27-4477-82c6-87fa386223d2",
   "metadata": {},
   "outputs": [
    {
     "data": {
      "text/plain": [
       "False"
      ]
     },
     "execution_count": 35,
     "metadata": {},
     "output_type": "execute_result"
    }
   ],
   "source": [
    "bool('') #empty quotes give a false return"
   ]
  },
  {
   "cell_type": "code",
   "execution_count": 36,
   "id": "e1cf7ef1-1a9f-4811-882d-e53c0547099e",
   "metadata": {},
   "outputs": [
    {
     "data": {
      "text/plain": [
       "True"
      ]
     },
     "execution_count": 36,
     "metadata": {},
     "output_type": "execute_result"
    }
   ],
   "source": [
    "bool(' ')"
   ]
  },
  {
   "cell_type": "code",
   "execution_count": 37,
   "id": "1c969103-6200-4a72-b5e2-738329cd2af8",
   "metadata": {},
   "outputs": [],
   "source": [
    "# lets's input form user 3 values, sides of a right triangle, and check\n",
    "# if c**2 = a**2 + b**2"
   ]
  },
  {
   "cell_type": "code",
   "execution_count": 47,
   "id": "3bebd025-6055-4e29-ba85-bd875f90cfde",
   "metadata": {},
   "outputs": [
    {
     "name": "stdin",
     "output_type": "stream",
     "text": [
      "Enter a value for Side A:  3\n",
      "Enter a value for Side B:  4\n",
      "Enter a value for Side C:  5\n"
     ]
    },
    {
     "name": "stdout",
     "output_type": "stream",
     "text": [
      "True\n",
      "The answer is True!!!\n"
     ]
    }
   ],
   "source": [
    "sideA = float( input('Enter a value for Side A: '))\n",
    "sideB = float( input('Enter a value for Side B: '))\n",
    "sideC = float( input('Enter a value for Side C: '))\n",
    "check = sideC**2 == ((sideA**2) + (sideB**2))\n",
    "print(check)\n",
    "print('The answer is ' + str(check) + '!!!')"
   ]
  },
  {
   "cell_type": "code",
   "execution_count": 48,
   "id": "2d2fdd55-401a-48c2-8f4a-7f05803fa82b",
   "metadata": {},
   "outputs": [
    {
     "name": "stdin",
     "output_type": "stream",
     "text": [
      "Enter a value for Side A:  3\n",
      "Enter a value for Side B:  9\n",
      "Enter a value for Side C:  12\n"
     ]
    },
    {
     "name": "stdout",
     "output_type": "stream",
     "text": [
      "False\n",
      "The answer is False!!!\n"
     ]
    }
   ],
   "source": [
    "sideD = float( input('Enter a value for Side A: '))\n",
    "sideE = float( input('Enter a value for Side B: '))\n",
    "sideF = float( input('Enter a value for Side C: '))\n",
    "check = sideF**2 == ((sideD**2) + (sideE**2))\n",
    "print(check)\n",
    "print('The answer is ' + str(check) + '!!!')"
   ]
  },
  {
   "cell_type": "code",
   "execution_count": null,
   "id": "a9cd01ac-2cb2-4d2b-a833-2ed78af8bdd9",
   "metadata": {},
   "outputs": [],
   "source": []
  }
 ],
 "metadata": {
  "kernelspec": {
   "display_name": "Python 3 (ipykernel)",
   "language": "python",
   "name": "python3"
  },
  "language_info": {
   "codemirror_mode": {
    "name": "ipython",
    "version": 3
   },
   "file_extension": ".py",
   "mimetype": "text/x-python",
   "name": "python",
   "nbconvert_exporter": "python",
   "pygments_lexer": "ipython3",
   "version": "3.12.10"
  }
 },
 "nbformat": 4,
 "nbformat_minor": 5
}
