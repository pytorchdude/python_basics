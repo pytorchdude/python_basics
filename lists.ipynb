{
 "cells": [
  {
   "cell_type": "code",
   "execution_count": 1,
   "id": "f0e4d556-3927-4b5c-a5ed-2860ccabe2b0",
   "metadata": {},
   "outputs": [
    {
     "data": {
      "text/plain": [
       "[4, 5, 6, 2, 0, 3]"
      ]
     },
     "execution_count": 1,
     "metadata": {},
     "output_type": "execute_result"
    }
   ],
   "source": [
    "# list\n",
    "aList = [ 4,5,6,2,0,3 ]\n",
    "\n",
    "aList"
   ]
  },
  {
   "cell_type": "code",
   "execution_count": 2,
   "id": "737e92b4-f970-4bfc-b3c6-8b376298d462",
   "metadata": {},
   "outputs": [
    {
     "data": {
      "text/plain": [
       "list"
      ]
     },
     "execution_count": 2,
     "metadata": {},
     "output_type": "execute_result"
    }
   ],
   "source": [
    "type(aList)"
   ]
  },
  {
   "cell_type": "code",
   "execution_count": 8,
   "id": "36b986f2-c70a-4705-a422-bc79f8c5b0d2",
   "metadata": {},
   "outputs": [
    {
     "data": {
      "text/plain": [
       "list"
      ]
     },
     "execution_count": 8,
     "metadata": {},
     "output_type": "execute_result"
    }
   ],
   "source": [
    "strList = [ 'hi', 'my', 'name', 'is', 'Pytorch Dude' ]\n",
    "mixList = [ 'test', 1, 'filter', 2398.56, 'miles per gallon' ]\n",
    "\n",
    "type(strList)\n",
    "type(mixList)"
   ]
  },
  {
   "cell_type": "code",
   "execution_count": 9,
   "id": "b46e9a4f-49d4-49e8-82b5-4b603b6dc0b9",
   "metadata": {},
   "outputs": [
    {
     "name": "stdout",
     "output_type": "stream",
     "text": [
      "['hi', 'my', 'name', 'is', 'Pytorch Dude']\n",
      "['test', 1, 'filter', 2398.56, 'miles per gallon']\n"
     ]
    }
   ],
   "source": [
    "print(strList)\n",
    "print(mixList)"
   ]
  },
  {
   "cell_type": "code",
   "execution_count": 17,
   "id": "fb3128b7-7eda-4cec-9949-0b040097fe00",
   "metadata": {},
   "outputs": [
    {
     "data": {
      "text/plain": [
       "[1, 2, 3, 4, ['dude', \"I'm hungry\"], 78.77, 120, 'HELLO']"
      ]
     },
     "execution_count": 17,
     "metadata": {},
     "output_type": "execute_result"
    }
   ],
   "source": [
    "# list can be nested in a list -- we write vertically for comments\n",
    "listList = [ 1,  # this is a number -- index(0)\n",
    "             2,  # for parameter a\n",
    "             3,  # asdf\n",
    "             4,  # this is the fourht element (index 3) -- and so on and so on\n",
    "              ['dude', \"I'm hungry\"],\n",
    "             78.77,\n",
    "             120,\n",
    "             'HELLO']\n",
    "listList"
   ]
  },
  {
   "cell_type": "code",
   "execution_count": 14,
   "id": "16d6c0b0-909b-43b5-b95f-10500150ae3b",
   "metadata": {},
   "outputs": [
    {
     "data": {
      "text/plain": [
       "list"
      ]
     },
     "execution_count": 14,
     "metadata": {},
     "output_type": "execute_result"
    }
   ],
   "source": [
    "type(listList)"
   ]
  },
  {
   "cell_type": "code",
   "execution_count": 20,
   "id": "44376973-e35a-4d34-9ff5-033e0b411569",
   "metadata": {},
   "outputs": [
    {
     "data": {
      "text/plain": [
       "True"
      ]
     },
     "execution_count": 20,
     "metadata": {},
     "output_type": "execute_result"
    }
   ],
   "source": [
    "4 in aList # use in reserved keyword to check a value is in the list"
   ]
  },
  {
   "cell_type": "code",
   "execution_count": 21,
   "id": "849ceb56-dead-45be-9e4f-8353ad18d65a",
   "metadata": {},
   "outputs": [
    {
     "data": {
      "text/plain": [
       "False"
      ]
     },
     "execution_count": 21,
     "metadata": {},
     "output_type": "execute_result"
    }
   ],
   "source": [
    "40 in aList"
   ]
  },
  {
   "cell_type": "code",
   "execution_count": 22,
   "id": "b3d8f4fc-7e12-4c36-9792-b820a6cf05a8",
   "metadata": {},
   "outputs": [
    {
     "data": {
      "text/plain": [
       "True"
      ]
     },
     "execution_count": 22,
     "metadata": {},
     "output_type": "execute_result"
    }
   ],
   "source": [
    "40 not in aList"
   ]
  },
  {
   "cell_type": "code",
   "execution_count": 23,
   "id": "54ff4211-f517-440e-8a52-fc877d4065cd",
   "metadata": {},
   "outputs": [
    {
     "data": {
      "text/plain": [
       "[4, 5, 6, 2, 0, 3, 'hi', 'my', 'name', 'is', 'Pytorch Dude']"
      ]
     },
     "execution_count": 23,
     "metadata": {},
     "output_type": "execute_result"
    }
   ],
   "source": [
    "aList + strList # concatonates"
   ]
  },
  {
   "cell_type": "code",
   "execution_count": 25,
   "id": "b435ace0-6918-41e1-af2c-d12d8f5830cf",
   "metadata": {},
   "outputs": [
    {
     "data": {
      "text/plain": [
       "[4, 5, 6, 2, 0, 3, 4, 5, 6, 2, 0, 3, 4, 5, 6, 2, 0, 3]"
      ]
     },
     "execution_count": 25,
     "metadata": {},
     "output_type": "execute_result"
    }
   ],
   "source": [
    "aList*3 # prints it 3 times"
   ]
  },
  {
   "cell_type": "code",
   "execution_count": 26,
   "id": "d82f189d-23c3-4273-9186-fd724e86af69",
   "metadata": {},
   "outputs": [
    {
     "name": "stdout",
     "output_type": "stream",
     "text": [
      "[4, 5, 6, 2, 0, 3]\n",
      "[4, 5, 6, 2, 0, 3, -100]\n"
     ]
    }
   ],
   "source": [
    "# methods - a function with different syntax to perfom functions on variables\n",
    "print(aList)\n",
    "aList.append(-100)\n",
    "print(aList)"
   ]
  },
  {
   "cell_type": "code",
   "execution_count": 27,
   "id": "abdc6344-8f00-4755-9cf7-1761ab581273",
   "metadata": {},
   "outputs": [
    {
     "name": "stdout",
     "output_type": "stream",
     "text": [
      "[4, 5, 6, 2, 0, 3, -100]\n",
      "[4, 5, 6, 2, 0, 3, -100, -100]\n"
     ]
    }
   ],
   "source": [
    "print(aList)\n",
    "aList.append(-100) # appending another -100\n",
    "print(aList)"
   ]
  },
  {
   "cell_type": "code",
   "execution_count": 29,
   "id": "79db78db-b2e3-46c6-a631-61239f6aa580",
   "metadata": {},
   "outputs": [
    {
     "name": "stdout",
     "output_type": "stream",
     "text": [
      "[4, 5, 6, 2, 0, 3, -100, -100]\n",
      "[-100, -100, 0, 2, 3, 4, 5, 6]\n"
     ]
    }
   ],
   "source": [
    "print(aList)\n",
    "aList.sort() # sorts by numerical value by default\n",
    "print(aList)"
   ]
  },
  {
   "cell_type": "code",
   "execution_count": 35,
   "id": "a7cd8865-f1b7-4706-b409-893e66b8ed5d",
   "metadata": {},
   "outputs": [
    {
     "name": "stdout",
     "output_type": "stream",
     "text": [
      "['hi', 'my', 'name', 'is', 'Pytorch Dude']\n",
      "['hi', 'my', 'name', 'is', 'Pytorch Dude']\n"
     ]
    }
   ],
   "source": [
    "print(strList)\n",
    "aList.sort() # sorts as was created\n",
    "print(strList)"
   ]
  },
  {
   "cell_type": "code",
   "execution_count": 36,
   "id": "5dfb7184-4f1a-4ee1-857d-0e831f88f1d2",
   "metadata": {},
   "outputs": [],
   "source": [
    "# lets use a method for list to the count of -100's in a list"
   ]
  },
  {
   "cell_type": "code",
   "execution_count": 37,
   "id": "e66b2d42-55f4-4dca-8ec0-be337b4577be",
   "metadata": {},
   "outputs": [
    {
     "data": {
      "text/plain": [
       "2"
      ]
     },
     "execution_count": 37,
     "metadata": {},
     "output_type": "execute_result"
    }
   ],
   "source": [
    "aList.count(-100)"
   ]
  },
  {
   "cell_type": "code",
   "execution_count": 47,
   "id": "63fa2d8b-25a6-4cba-a328-c9abe69c505e",
   "metadata": {},
   "outputs": [
    {
     "name": "stdout",
     "output_type": "stream",
     "text": [
      "[1, 2, 3, 4, 5, 6]\n",
      "[1, 2, 3, 4, 5, 6, 7]\n"
     ]
    }
   ],
   "source": [
    "lst = [ 1,2,3,4,5,6 ]\n",
    "\n",
    "print(lst)\n",
    "lst.append(7)\n",
    "print(lst)"
   ]
  },
  {
   "cell_type": "code",
   "execution_count": 48,
   "id": "229b1b3d-fc4f-4608-9c1d-3204b13052b5",
   "metadata": {},
   "outputs": [
    {
     "name": "stdout",
     "output_type": "stream",
     "text": [
      "[1, 2, 9, 3, 4, 5, 6, 7]\n"
     ]
    }
   ],
   "source": [
    "lst.insert(2, 9) # the 2 indicates the index postion 1 = 0, 2 = 1, 3 = 2, 4 = 3. 5 = 4, 6 = 5\n",
    "print(lst) #9 appears in the 2 index, which was 3 originally"
   ]
  },
  {
   "cell_type": "code",
   "execution_count": 49,
   "id": "820fa51b-b862-4d4e-a3a3-18ce72176fd0",
   "metadata": {},
   "outputs": [
    {
     "name": "stdout",
     "output_type": "stream",
     "text": [
      "[1, 2, 9, 3, 'qwerty', 4, 5, 6, 7]\n"
     ]
    }
   ],
   "source": [
    "lst.insert(4, 'qwerty')\n",
    "print(lst)"
   ]
  },
  {
   "cell_type": "code",
   "execution_count": 60,
   "id": "f6a58aac-f263-4ef1-8a2d-9842f6424dfb",
   "metadata": {},
   "outputs": [
    {
     "name": "stdout",
     "output_type": "stream",
     "text": [
      "[1, 2, 9, 3, 'qwerty', 4, 5, 6, 7]\n"
     ]
    }
   ],
   "source": [
    "print(lst)"
   ]
  },
  {
   "cell_type": "code",
   "execution_count": 61,
   "id": "3af6273f-3669-4c65-a138-92156747d255",
   "metadata": {},
   "outputs": [
    {
     "name": "stdout",
     "output_type": "stream",
     "text": [
      "[1, 2, 9, 3, 'qwerty', 5, 6, 7]\n"
     ]
    }
   ],
   "source": [
    "# remove a value -- not index position\n",
    "lst.remove(4)\n",
    "\n",
    "print(lst) # the value 4 is gone now"
   ]
  },
  {
   "cell_type": "code",
   "execution_count": 62,
   "id": "e4b88577-6fa9-4541-9c79-e1b5920d2d9c",
   "metadata": {},
   "outputs": [
    {
     "ename": "TypeError",
     "evalue": "'<' not supported between instances of 'str' and 'int'",
     "output_type": "error",
     "traceback": [
      "\u001b[31m---------------------------------------------------------------------------\u001b[39m",
      "\u001b[31mTypeError\u001b[39m                                 Traceback (most recent call last)",
      "\u001b[36mCell\u001b[39m\u001b[36m \u001b[39m\u001b[32mIn[62]\u001b[39m\u001b[32m, line 2\u001b[39m\n\u001b[32m      1\u001b[39m \u001b[38;5;66;03m# cannot sort int and str values\u001b[39;00m\n\u001b[32m----> \u001b[39m\u001b[32m2\u001b[39m \u001b[43mlst\u001b[49m\u001b[43m.\u001b[49m\u001b[43msort\u001b[49m\u001b[43m(\u001b[49m\u001b[43m)\u001b[49m\n\u001b[32m      3\u001b[39m lst\n",
      "\u001b[31mTypeError\u001b[39m: '<' not supported between instances of 'str' and 'int'"
     ]
    }
   ],
   "source": [
    "# cannot sort int and str values\n",
    "lst.sort()\n",
    "lst"
   ]
  },
  {
   "cell_type": "code",
   "execution_count": 72,
   "id": "52046c29-2117-49f4-81bf-639ad8a9ea26",
   "metadata": {},
   "outputs": [
    {
     "name": "stdout",
     "output_type": "stream",
     "text": [
      "[1, 2, 3, 5, 6, 'qwerty', 7, 9]\n"
     ]
    }
   ],
   "source": [
    "print(lst)"
   ]
  },
  {
   "cell_type": "code",
   "execution_count": 73,
   "id": "7216855a-074e-4357-bc34-1bf89b8dd2e3",
   "metadata": {},
   "outputs": [
    {
     "name": "stdout",
     "output_type": "stream",
     "text": [
      "[1, 2, 3, 5, 6, 7, 9]\n",
      "[9, 7, 6, 5, 3, 2, 1]\n"
     ]
    }
   ],
   "source": [
    "lst.remove('qwerty')\n",
    "print(lst)\n",
    "\n",
    "lst.sort(reverse=True) # can sort descending as well\n",
    "print(lst)"
   ]
  }
 ],
 "metadata": {
  "kernelspec": {
   "display_name": "Python 3 (ipykernel)",
   "language": "python",
   "name": "python3"
  },
  "language_info": {
   "codemirror_mode": {
    "name": "ipython",
    "version": 3
   },
   "file_extension": ".py",
   "mimetype": "text/x-python",
   "name": "python",
   "nbconvert_exporter": "python",
   "pygments_lexer": "ipython3",
   "version": "3.12.3"
  }
 },
 "nbformat": 4,
 "nbformat_minor": 5
}
