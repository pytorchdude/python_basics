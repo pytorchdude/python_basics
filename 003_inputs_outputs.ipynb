{
 "cells": [
  {
   "cell_type": "code",
   "execution_count": 1,
   "id": "25eaafc5-1230-4d41-b4aa-debde490398b",
   "metadata": {},
   "outputs": [
    {
     "data": {
      "text/plain": [
       "60"
      ]
     },
     "execution_count": 1,
     "metadata": {},
     "output_type": "execute_result"
    }
   ],
   "source": [
    "# functions\n",
    "sum([10,20,30])"
   ]
  },
  {
   "cell_type": "code",
   "execution_count": 3,
   "id": "214a5185-7547-48cc-ad55-42211de21f97",
   "metadata": {},
   "outputs": [
    {
     "data": {
      "text/plain": [
       "60"
      ]
     },
     "execution_count": 3,
     "metadata": {},
     "output_type": "execute_result"
    }
   ],
   "source": [
    "var = [10,20,30]\n",
    "sum(var)"
   ]
  },
  {
   "cell_type": "code",
   "execution_count": 4,
   "id": "d0fd8850-39b5-4742-9f01-a6690a5cc596",
   "metadata": {},
   "outputs": [
    {
     "ename": "TypeError",
     "evalue": "unsupported operand type(s) for +: 'int' and 'str'",
     "output_type": "error",
     "traceback": [
      "\u001b[31m---------------------------------------------------------------------------\u001b[39m",
      "\u001b[31mTypeError\u001b[39m                                 Traceback (most recent call last)",
      "\u001b[36mCell\u001b[39m\u001b[36m \u001b[39m\u001b[32mIn[4]\u001b[39m\u001b[32m, line 2\u001b[39m\n\u001b[32m      1\u001b[39m var2 = [ \u001b[32m10\u001b[39m,\u001b[32m20\u001b[39m,\u001b[32m30\u001b[39m, \u001b[33m'\u001b[39m\u001b[33ma\u001b[39m\u001b[33m'\u001b[39m ]\n\u001b[32m----> \u001b[39m\u001b[32m2\u001b[39m \u001b[38;5;28;43msum\u001b[39;49m\u001b[43m(\u001b[49m\u001b[43mvar2\u001b[49m\u001b[43m)\u001b[49m\n",
      "\u001b[31mTypeError\u001b[39m: unsupported operand type(s) for +: 'int' and 'str'"
     ]
    }
   ],
   "source": [
    "var2 = [ 10,20,30, 'a' ] # wont work with string \n",
    "\n",
    "sum(var2)"
   ]
  },
  {
   "cell_type": "code",
   "execution_count": 6,
   "id": "298dee3d-aa4e-4796-b445-304219c1d85d",
   "metadata": {},
   "outputs": [
    {
     "ename": "TypeError",
     "evalue": "unsupported operand type(s) for +: 'int' and 'list'",
     "output_type": "error",
     "traceback": [
      "\u001b[31m---------------------------------------------------------------------------\u001b[39m",
      "\u001b[31mTypeError\u001b[39m                                 Traceback (most recent call last)",
      "\u001b[36mCell\u001b[39m\u001b[36m \u001b[39m\u001b[32mIn[6]\u001b[39m\u001b[32m, line 2\u001b[39m\n\u001b[32m      1\u001b[39m var3 = [ \u001b[32m10\u001b[39m,\u001b[32m20\u001b[39m,\u001b[32m30\u001b[39m,[ \u001b[32m1\u001b[39m,\u001b[32m2\u001b[39m,\u001b[32m3\u001b[39m,\u001b[32m4\u001b[39m,\u001b[32m5\u001b[39m ] ] \n\u001b[32m----> \u001b[39m\u001b[32m2\u001b[39m \u001b[38;5;28;43msum\u001b[39;49m\u001b[43m(\u001b[49m\u001b[43mvar3\u001b[49m\u001b[43m)\u001b[49m\n",
      "\u001b[31mTypeError\u001b[39m: unsupported operand type(s) for +: 'int' and 'list'"
     ]
    }
   ],
   "source": [
    "var3 = [ 10,20,30,[ 1,2,3,4,5 ] ] # wont add int and list \n",
    "sum(var3)"
   ]
  },
  {
   "cell_type": "code",
   "execution_count": 7,
   "id": "f049f033-a96d-41b8-afe6-ef00f4e6f268",
   "metadata": {},
   "outputs": [
    {
     "data": {
      "text/plain": [
       "340.23"
      ]
     },
     "execution_count": 7,
     "metadata": {},
     "output_type": "execute_result"
    }
   ],
   "source": [
    "var4 = [ 1,2,3,4,5,325.23 ] #mixing floats and int works fine\n",
    "sum(var4)"
   ]
  },
  {
   "cell_type": "code",
   "execution_count": 19,
   "id": "e725b849-0563-4d1e-bcf0-344ec9091cda",
   "metadata": {},
   "outputs": [
    {
     "name": "stdout",
     "output_type": "stream",
     "text": [
      "The mean is 3.0\n"
     ]
    }
   ],
   "source": [
    "var4 = [ 1,2,3,4,5 ]\n",
    "output = sum(var4)\n",
    "# lets compute the mean of var4\n",
    "mean = output / len(var4)\n",
    "\n",
    "print('The mean is ' + str(mean) )"
   ]
  }
 ],
 "metadata": {
  "kernelspec": {
   "display_name": "Python 3 (ipykernel)",
   "language": "python",
   "name": "python3"
  },
  "language_info": {
   "codemirror_mode": {
    "name": "ipython",
    "version": 3
   },
   "file_extension": ".py",
   "mimetype": "text/x-python",
   "name": "python",
   "nbconvert_exporter": "python",
   "pygments_lexer": "ipython3",
   "version": "3.12.10"
  }
 },
 "nbformat": 4,
 "nbformat_minor": 5
}
