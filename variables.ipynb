{
 "cells": [
  {
   "cell_type": "markdown",
   "id": "c10e5b3b-5654-4026-a5ba-dadee47b27dc",
   "metadata": {},
   "source": [
    "#### Using single letter variable names is a horerible coding strategy BTW.\n",
    "##### Good names should be descriptive and concise as possible. The following make for good variable names:"
   ]
  },
  {
   "cell_type": "code",
   "execution_count": 15,
   "id": "55bab764-2aad-44a4-b0b8-f906227d2ce3",
   "metadata": {},
   "outputs": [],
   "source": [
    "aVariableName = \"Dude\"\n",
    "filterOrder = 18\n",
    "user_name = 'Dude'\n",
    "param4modelA = 65.34"
   ]
  },
  {
   "cell_type": "code",
   "execution_count": 16,
   "id": "9cf3d67e-9411-4b7e-bc50-2a347c4a22f6",
   "metadata": {},
   "outputs": [],
   "source": [
    "a = 4"
   ]
  },
  {
   "cell_type": "code",
   "execution_count": 17,
   "id": "343b47cb-0fd9-40f7-a9f2-f867166f49c6",
   "metadata": {},
   "outputs": [],
   "source": [
    "b = 5"
   ]
  },
  {
   "cell_type": "code",
   "execution_count": 18,
   "id": "794890e3-1552-4c1d-a5fb-d34bedc6f980",
   "metadata": {},
   "outputs": [
    {
     "data": {
      "text/plain": [
       "5"
      ]
     },
     "execution_count": 18,
     "metadata": {},
     "output_type": "execute_result"
    }
   ],
   "source": [
    "a\n",
    "b"
   ]
  },
  {
   "cell_type": "code",
   "execution_count": 19,
   "id": "94f8b7ff-bd7a-4524-9585-2efa59e59e75",
   "metadata": {},
   "outputs": [
    {
     "name": "stdout",
     "output_type": "stream",
     "text": [
      "4\n",
      "5\n"
     ]
    }
   ],
   "source": [
    "# This code inspects values of the variables\n",
    "print(a)\n",
    "print(b)"
   ]
  },
  {
   "cell_type": "code",
   "execution_count": 20,
   "id": "8b5512aa-260c-417d-afa1-bb93342397fb",
   "metadata": {},
   "outputs": [
    {
     "data": {
      "text/plain": [
       "int"
      ]
     },
     "execution_count": 20,
     "metadata": {},
     "output_type": "execute_result"
    }
   ],
   "source": [
    "c = 7\n",
    "d = 7.0\n",
    "\n",
    "type(c)"
   ]
  },
  {
   "cell_type": "code",
   "execution_count": 21,
   "id": "27e15de9-6954-4aa6-a80c-b0294dd6d09b",
   "metadata": {},
   "outputs": [
    {
     "data": {
      "text/plain": [
       "float"
      ]
     },
     "execution_count": 21,
     "metadata": {},
     "output_type": "execute_result"
    }
   ],
   "source": [
    "type(d)"
   ]
  },
  {
   "cell_type": "code",
   "execution_count": 22,
   "id": "471a3a0f-abb4-4432-a3f7-c36dbd0030bb",
   "metadata": {},
   "outputs": [
    {
     "data": {
      "text/plain": [
       "str"
      ]
     },
     "execution_count": 22,
     "metadata": {},
     "output_type": "execute_result"
    }
   ],
   "source": [
    "e = 'hello'\n",
    "\n",
    "type(e)"
   ]
  },
  {
   "cell_type": "code",
   "execution_count": 23,
   "id": "3724b7a1-4b02-4cca-9894-d3c31200a915",
   "metadata": {},
   "outputs": [
    {
     "data": {
      "text/plain": [
       "str"
      ]
     },
     "execution_count": 23,
     "metadata": {},
     "output_type": "execute_result"
    }
   ],
   "source": [
    "f = \"My name is Pytorch Dude.\"\n",
    "\n",
    "type(f)"
   ]
  },
  {
   "cell_type": "code",
   "execution_count": 24,
   "id": "0af8f8c9-3608-4310-9497-be0c4e612424",
   "metadata": {},
   "outputs": [
    {
     "name": "stdout",
     "output_type": "stream",
     "text": [
      "Variable        Type     Data/Info\n",
      "----------------------------------\n",
      "a               int      4\n",
      "aVariableName   str      Dude\n",
      "b               int      5\n",
      "c               int      7\n",
      "d               float    7.0\n",
      "e               str      hello\n",
      "f               str      My name is Pytorch Dude.\n",
      "filterOrder     int      18\n",
      "param4modelA    float    65.34\n",
      "user_name       str      Dude\n"
     ]
    }
   ],
   "source": [
    "%whos"
   ]
  },
  {
   "cell_type": "code",
   "execution_count": 25,
   "id": "0b65e241-924b-4960-b90a-9fb0e04a8dc8",
   "metadata": {},
   "outputs": [
    {
     "name": "stdout",
     "output_type": "stream",
     "text": [
      "3\n",
      "test\n"
     ]
    }
   ],
   "source": [
    "# multiple assignments - not recommneded -- generates confusion\n",
    "varA, varB = 3, 'test'\n",
    "\n",
    "print(varA)\n",
    "print(varB)"
   ]
  },
  {
   "cell_type": "code",
   "execution_count": 30,
   "id": "dfa4719c-96ba-46e3-9af0-e91cfabebb7d",
   "metadata": {},
   "outputs": [
    {
     "name": "stdout",
     "output_type": "stream",
     "text": [
      "10\n",
      "Pytorch rocks\n",
      "5\n"
     ]
    }
   ],
   "source": [
    "# Can you overwrite existiing variables?\n",
    "\n",
    "varA = 10\n",
    "varB = 'Pytorch rocks'\n",
    "user_name = 5 # Different type() than previously assigned\n",
    "\n",
    "print(varA)\n",
    "print(varB)\n",
    "print(user_name)"
   ]
  },
  {
   "cell_type": "code",
   "execution_count": null,
   "id": "b8cee6ff-423a-4214-8283-8d5b8a68c98a",
   "metadata": {},
   "outputs": [],
   "source": [
    "# YES!"
   ]
  }
 ],
 "metadata": {
  "kernelspec": {
   "display_name": "Python 3 (ipykernel)",
   "language": "python",
   "name": "python3"
  },
  "language_info": {
   "codemirror_mode": {
    "name": "ipython",
    "version": 3
   },
   "file_extension": ".py",
   "mimetype": "text/x-python",
   "name": "python",
   "nbconvert_exporter": "python",
   "pygments_lexer": "ipython3",
   "version": "3.12.3"
  }
 },
 "nbformat": 4,
 "nbformat_minor": 5
}
