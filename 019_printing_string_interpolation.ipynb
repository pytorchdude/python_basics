{
 "cells": [
  {
   "cell_type": "code",
   "execution_count": 26,
   "id": "ec660abc-2a3d-4c02-a5a5-ad379a378d2a",
   "metadata": {},
   "outputs": [
    {
     "name": "stdout",
     "output_type": "stream",
     "text": [
      "I would like to have 11.7 drinks in 10.99886667 seconds.\n"
     ]
    }
   ],
   "source": [
    "# string interpolation -- getting better cleaner print() results\n",
    "num = 11.7\n",
    "sng = 'drinks'\n",
    "secs = 10.99886667\n",
    "\n",
    "print('I would like to have ' + str(num) + ' ' + sng + ' in ' + str(secs) + ' seconds.')"
   ]
  },
  {
   "cell_type": "code",
   "execution_count": 30,
   "id": "1654c4c5-7522-4f73-8a6c-5d9b2537cc49",
   "metadata": {},
   "outputs": [
    {
     "name": "stdout",
     "output_type": "stream",
     "text": [
      "I would like to have 12 drinks in 10.998867 seconds.\n"
     ]
    }
   ],
   "source": [
    "print('I would like to have %.f %s in %f seconds.'   %(num, sng, secs) ) # here we interpolate the string with replacements defined \n",
    "                                                  # that correspond to the variables using %g %s (%g for numbers)\n",
    "                                                  # %s for strings\n",
    "                                                  # %.xf for finer float precision % to x number of decimal spaces                                                 "
   ]
  },
  {
   "cell_type": "code",
   "execution_count": 31,
   "id": "12fa456f-1f2f-49b7-b0cc-0f820b0aef81",
   "metadata": {},
   "outputs": [
    {
     "name": "stdout",
     "output_type": "stream",
     "text": [
      "I would like to have 12 drinks in 10.9989 seconds.\n"
     ]
    }
   ],
   "source": [
    "print('I would like to have %.f %s in %.4f seconds.'   %(num, sng, secs) ) # here we interpolate the string with replacements defined \n",
    "                                                  # that correspond to the variables using %g %s (%g for numbers)\n",
    "                                                  # %s for strings\n",
    "                                                  # %.xf for finer float precision % to x number of decimal spaces   "
   ]
  },
  {
   "cell_type": "code",
   "execution_count": 32,
   "id": "8c425843-b968-4f55-b2d7-ecd444e57521",
   "metadata": {},
   "outputs": [
    {
     "name": "stdout",
     "output_type": "stream",
     "text": [
      "I would like to have 12 drinks in    10.9989 seconds.\n"
     ]
    }
   ],
   "source": [
    "print('I would like to have %.f %s in %10.4f seconds.'   %(num, sng, secs) ) # here we interpolate the string with replacements defined \n",
    "                                                  # that correspond to the variables using %g %s (%g for numbers)\n",
    "                                                  # %s for strings\n",
    "                                                  # %x.xf for finer float precision % to x number of decimal spaces plus spaces before the ."
   ]
  },
  {
   "cell_type": "code",
   "execution_count": 34,
   "id": "3e38f081-9c0e-4a85-8993-82a332d7af9f",
   "metadata": {},
   "outputs": [
    {
     "name": "stdout",
     "output_type": "stream",
     "text": [
      "I would like to have 11.7 drinks in 10.99886667 seconds\n"
     ]
    }
   ],
   "source": [
    "# f-strings\n",
    "print(f'I would like to have {num} {sng} in {secs} seconds') # add the f before quotes to initialize f-string and use {} for varible names"
   ]
  },
  {
   "cell_type": "code",
   "execution_count": 36,
   "id": "8124aba6-387e-48da-8d58-fd57c45c008b",
   "metadata": {},
   "outputs": [
    {
     "name": "stdout",
     "output_type": "stream",
     "text": [
      "I would like to have 11.70 drinks in 10.999 seconds\n"
     ]
    }
   ],
   "source": [
    "# f-strings\n",
    "print(f'I would like to have {num:.2f} {sng} in {secs:.3f} seconds.') # add the f before quotes to initialize f-string and use {} for varible names\n",
    "                                                                     # use {variablename:.xf} to get floating point precision"
   ]
  },
  {
   "cell_type": "code",
   "execution_count": 41,
   "id": "17f0fdc5-f03e-4d97-93da-3a49069f4101",
   "metadata": {},
   "outputs": [
    {
     "name": "stdout",
     "output_type": "stream",
     "text": [
      "I would like to have 11.7 drinks in 10.99886667 seconds.\n"
     ]
    }
   ],
   "source": [
    "# f-strings\n",
    "print(f'I would like to have {num} {sng} in {secs} seconds.') # add the f before quotes to initialize f-string and use {} for varible names"
   ]
  },
  {
   "cell_type": "code",
   "execution_count": 43,
   "id": "421fd637-ad4e-4711-a07c-656fc24abf24",
   "metadata": {},
   "outputs": [
    {
     "name": "stdout",
     "output_type": "stream",
     "text": [
      "I would like to have 11.7 drinks in 10.99886667 seconds.\n"
     ]
    }
   ],
   "source": [
    "print('I would like to have {n} {s} in {sc} seconds.'.format(n=num, s=sng, sc=secs))\n",
    "# add .format and equate the variables to themselves -- works like f'' -- but we can shorten the variable names"
   ]
  },
  {
   "cell_type": "code",
   "execution_count": 61,
   "id": "927ad6c1-ce1f-419e-8fc1-020cf5894392",
   "metadata": {},
   "outputs": [
    {
     "name": "stdout",
     "output_type": "stream",
     "text": [
      "a is the 1st letter of the alphabet.\n",
      "b is the 2nd letter of the alphabet.\n",
      "c is the 3rd letter of the alphabet.\n",
      "d is the 4th letter of the alphabet.\n",
      "e is the 5th letter of the alphabet.\n",
      "f is the 6th letter of the alphabet.\n",
      "g is the 7th letter of the alphabet.\n",
      "h is the 8th letter of the alphabet.\n",
      "i is the 9th letter of the alphabet.\n",
      "j is the 10th letter of the alphabet.\n",
      "k is the 11th letter of the alphabet.\n",
      "l is the 12th letter of the alphabet.\n",
      "m is the 13th letter of the alphabet.\n",
      "n is the 14th letter of the alphabet.\n",
      "o is the 15th letter of the alphabet.\n",
      "p is the 16th letter of the alphabet.\n",
      "q is the 17th letter of the alphabet.\n",
      "r is the 18th letter of the alphabet.\n",
      "s is the 19th letter of the alphabet.\n",
      "t is the 20th letter of the alphabet.\n",
      "u is the 21st letter of the alphabet.\n",
      "v is the 22nd letter of the alphabet.\n",
      "w is the 23rd letter of the alphabet.\n",
      "x is the 24th letter of the alphabet.\n",
      "y is the 25th letter of the alphabet.\n",
      "z is the 26th letter of the alphabet.\n"
     ]
    }
   ],
   "source": [
    "# print out each of the alphabet with its ordinal position.\n",
    "import string \n",
    "letters = string.ascii_lowercase\n",
    "\n",
    "for i in range(len(letters)):\n",
    "\n",
    "    if i==0 or i==20:\n",
    "        ordidn = 'st'\n",
    "    elif i==1 or i == 21:\n",
    "        ordidn = 'nd'\n",
    "    elif i==2 or i== 22:\n",
    "        ordidn = 'rd'\n",
    "    else:\n",
    "        ordidn = 'th'\n",
    "\n",
    "    print(f'{letters[i]} is the {i+1}{ordidn} letter of the alphabet.')"
   ]
  },
  {
   "cell_type": "code",
   "execution_count": null,
   "id": "e0207479-2faf-4d8a-a227-89e78ba61cce",
   "metadata": {},
   "outputs": [],
   "source": []
  }
 ],
 "metadata": {
  "kernelspec": {
   "display_name": "Python 3 (ipykernel)",
   "language": "python",
   "name": "python3"
  },
  "language_info": {
   "codemirror_mode": {
    "name": "ipython",
    "version": 3
   },
   "file_extension": ".py",
   "mimetype": "text/x-python",
   "name": "python",
   "nbconvert_exporter": "python",
   "pygments_lexer": "ipython3",
   "version": "3.12.10"
  }
 },
 "nbformat": 4,
 "nbformat_minor": 5
}
