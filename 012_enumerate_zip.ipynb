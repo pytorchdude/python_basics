{
 "cells": [
  {
   "cell_type": "code",
   "execution_count": 1,
   "id": "d0592bc3-1e5f-47cd-97c3-d026ec054a1b",
   "metadata": {},
   "outputs": [],
   "source": [
    "# enumerate and zip\n",
    "import numpy as np"
   ]
  },
  {
   "cell_type": "code",
   "execution_count": 2,
   "id": "e8bae553-0695-4c6b-93a1-6ef088485bd8",
   "metadata": {},
   "outputs": [],
   "source": [
    "nums = np.linspace(-5,5,7)"
   ]
  },
  {
   "cell_type": "code",
   "execution_count": 12,
   "id": "f786f521-cf6d-4e31-a1c3-d65af55819ce",
   "metadata": {},
   "outputs": [
    {
     "name": "stdout",
     "output_type": "stream",
     "text": [
      "Index 0 has value of -5.0\n",
      "Index 1 has value of -3.333333333333333\n",
      "Index 2 has value of -1.6666666666666665\n",
      "Index 3 has value of 0.0\n",
      "Index 4 has value of 1.666666666666667\n",
      "Index 5 has value of 3.333333333333334\n",
      "Index 6 has value of 5.0\n"
     ]
    }
   ],
   "source": [
    "for i,n  in enumerate(nums):\n",
    "    print('Index ' + str(i) + ' has value of ' + str(n))"
   ]
  },
  {
   "cell_type": "code",
   "execution_count": 31,
   "id": "ef1c6163-7456-45bc-a384-f5a610d1271a",
   "metadata": {},
   "outputs": [
    {
     "data": {
      "text/plain": [
       "array([0., 1., 0., 0., 1., 0., 0., 0., 0., 1., 0., 0., 0., 0.])"
      ]
     },
     "execution_count": 31,
     "metadata": {},
     "output_type": "execute_result"
    }
   ],
   "source": [
    "text = 'Hello Pytorch!'\n",
    "\n",
    "vowels = np.zeros(len(text))\n",
    "\n",
    "for i,l in enumerate(text):\n",
    "    if l in 'aeiou':\n",
    "        vowels[i] = 1\n",
    "\n",
    "vowels"
   ]
  },
  {
   "cell_type": "code",
   "execution_count": 47,
   "id": "31043693-1b77-42a4-9d80-720c14171adc",
   "metadata": {},
   "outputs": [
    {
     "name": "stdout",
     "output_type": "stream",
     "text": [
      "3 q\n",
      "4 w\n",
      "5 e\n",
      "6 r\n",
      "3 t\n",
      "-17 y\n"
     ]
    }
   ],
   "source": [
    "listA = [3,4,5,6,3,-17]\n",
    "listB = ['q','w','e','r','t','y']  #if iterables are not equal length -- python will do an equal amount possible.\n",
    "\n",
    "for a,b in zip(listA, listB):      #zip packs them togteher yeilds tuples until exhausted\n",
    "    # we could iterate over each list with in range(len(listA)) but zip is more compact\n",
    "    print(str(a) + ' ' + str(b))\n"
   ]
  },
  {
   "cell_type": "code",
   "execution_count": 63,
   "id": "423cc548-da18-4258-9397-6ae2221e65d1",
   "metadata": {},
   "outputs": [
    {
     "data": {
      "text/plain": [
       "{'alpha': 10, 'beta': 20, 'gamma': 30}"
      ]
     },
     "execution_count": 63,
     "metadata": {},
     "output_type": "execute_result"
    }
   ],
   "source": [
    "# let's try this: given the following lists, create a dictionary using zip\n",
    "names = ['alpha','beta','gamma']\n",
    "values = [10,20,30]\n",
    "\n",
    "D = dict(zip(names,values))\n",
    "D"
   ]
  },
  {
   "cell_type": "code",
   "execution_count": null,
   "id": "32a19c1e-f414-45da-be44-f89b375db0d2",
   "metadata": {},
   "outputs": [],
   "source": []
  }
 ],
 "metadata": {
  "kernelspec": {
   "display_name": "Python 3 (ipykernel)",
   "language": "python",
   "name": "python3"
  },
  "language_info": {
   "codemirror_mode": {
    "name": "ipython",
    "version": 3
   },
   "file_extension": ".py",
   "mimetype": "text/x-python",
   "name": "python",
   "nbconvert_exporter": "python",
   "pygments_lexer": "ipython3",
   "version": "3.12.10"
  }
 },
 "nbformat": 4,
 "nbformat_minor": 5
}
